{
  "nbformat": 4,
  "nbformat_minor": 0,
  "metadata": {
    "colab": {
      "provenance": []
    },
    "kernelspec": {
      "name": "python3",
      "display_name": "Python 3"
    },
    "language_info": {
      "name": "python"
    }
  },
  "cells": [
    {
      "cell_type": "code",
      "execution_count": 1,
      "metadata": {
        "colab": {
          "base_uri": "https://localhost:8080/"
        },
        "collapsed": true,
        "id": "NTaWsOOUom1n",
        "outputId": "37f0a67c-67f7-454e-f6b7-074275e235f3"
      },
      "outputs": [
        {
          "output_type": "stream",
          "name": "stdout",
          "text": [
            "Requirement already satisfied: keras-core in /usr/local/lib/python3.10/dist-packages (0.1.7)\n",
            "Requirement already satisfied: absl-py in /usr/local/lib/python3.10/dist-packages (from keras-core) (1.4.0)\n",
            "Requirement already satisfied: numpy in /usr/local/lib/python3.10/dist-packages (from keras-core) (1.25.2)\n",
            "Requirement already satisfied: rich in /usr/local/lib/python3.10/dist-packages (from keras-core) (13.7.1)\n",
            "Requirement already satisfied: namex in /usr/local/lib/python3.10/dist-packages (from keras-core) (0.0.8)\n",
            "Requirement already satisfied: h5py in /usr/local/lib/python3.10/dist-packages (from keras-core) (3.11.0)\n",
            "Requirement already satisfied: dm-tree in /usr/local/lib/python3.10/dist-packages (from keras-core) (0.1.8)\n",
            "Requirement already satisfied: markdown-it-py>=2.2.0 in /usr/local/lib/python3.10/dist-packages (from rich->keras-core) (3.0.0)\n",
            "Requirement already satisfied: pygments<3.0.0,>=2.13.0 in /usr/local/lib/python3.10/dist-packages (from rich->keras-core) (2.16.1)\n",
            "Requirement already satisfied: mdurl~=0.1 in /usr/local/lib/python3.10/dist-packages (from markdown-it-py>=2.2.0->rich->keras-core) (0.1.2)\n"
          ]
        }
      ],
      "source": [
        "!pip install keras-core --upgrade\n",
        "!pip install -q keras-nlp --upgrade"
      ]
    },
    {
      "cell_type": "code",
      "source": [
        "import os\n",
        "os.environ['KERAS_BACKEND'] = 'tensorflow'"
      ],
      "metadata": {
        "id": "zAF4HdOSqHOy"
      },
      "execution_count": 2,
      "outputs": []
    },
    {
      "cell_type": "code",
      "source": [
        "import numpy as np # linear algebra\n",
        "import pandas as pd # data processing, CSV file I/O (e.g. pd.read_csv)\n",
        "import tensorflow as tf\n",
        "import keras_core as keras\n",
        "import keras_nlp\n",
        "from sklearn.metrics import ConfusionMatrixDisplay, confusion_matrix\n",
        "import seaborn as sns\n",
        "import matplotlib.pyplot as plt"
      ],
      "metadata": {
        "colab": {
          "base_uri": "https://localhost:8080/",
          "height": 393
        },
        "id": "qcv0UxzmqMA4",
        "outputId": "0fb6c369-5145-4f3a-bea8-9b1c90e0fb64"
      },
      "execution_count": 3,
      "outputs": [
        {
          "output_type": "error",
          "ename": "ModuleNotFoundError",
          "evalue": "No module named 'keras_core'",
          "traceback": [
            "\u001b[0;31m---------------------------------------------------------------------------\u001b[0m",
            "\u001b[0;31mModuleNotFoundError\u001b[0m                       Traceback (most recent call last)",
            "\u001b[0;32m<ipython-input-3-3ac57fdbb7cd>\u001b[0m in \u001b[0;36m<cell line: 4>\u001b[0;34m()\u001b[0m\n\u001b[1;32m      2\u001b[0m \u001b[0;32mimport\u001b[0m \u001b[0mpandas\u001b[0m \u001b[0;32mas\u001b[0m \u001b[0mpd\u001b[0m \u001b[0;31m# data processing, CSV file I/O (e.g. pd.read_csv)\u001b[0m\u001b[0;34m\u001b[0m\u001b[0;34m\u001b[0m\u001b[0m\n\u001b[1;32m      3\u001b[0m \u001b[0;32mimport\u001b[0m \u001b[0mtensorflow\u001b[0m \u001b[0;32mas\u001b[0m \u001b[0mtf\u001b[0m\u001b[0;34m\u001b[0m\u001b[0;34m\u001b[0m\u001b[0m\n\u001b[0;32m----> 4\u001b[0;31m \u001b[0;32mimport\u001b[0m \u001b[0mkeras_core\u001b[0m \u001b[0;32mas\u001b[0m \u001b[0mkeras\u001b[0m\u001b[0;34m\u001b[0m\u001b[0;34m\u001b[0m\u001b[0m\n\u001b[0m\u001b[1;32m      5\u001b[0m \u001b[0;32mimport\u001b[0m \u001b[0mkeras_nlp\u001b[0m\u001b[0;34m\u001b[0m\u001b[0;34m\u001b[0m\u001b[0m\n\u001b[1;32m      6\u001b[0m \u001b[0;32mfrom\u001b[0m \u001b[0msklearn\u001b[0m\u001b[0;34m.\u001b[0m\u001b[0mmetrics\u001b[0m \u001b[0;32mimport\u001b[0m \u001b[0mConfusionMatrixDisplay\u001b[0m\u001b[0;34m,\u001b[0m \u001b[0mconfusion_matrix\u001b[0m\u001b[0;34m\u001b[0m\u001b[0;34m\u001b[0m\u001b[0m\n",
            "\u001b[0;31mModuleNotFoundError\u001b[0m: No module named 'keras_core'",
            "",
            "\u001b[0;31m---------------------------------------------------------------------------\u001b[0;32m\nNOTE: If your import is failing due to a missing package, you can\nmanually install dependencies using either !pip or !apt.\n\nTo view examples of installing some common dependencies, click the\n\"Open Examples\" button below.\n\u001b[0;31m---------------------------------------------------------------------------\u001b[0m\n"
          ],
          "errorDetails": {
            "actions": [
              {
                "action": "open_url",
                "actionText": "Open Examples",
                "url": "/notebooks/snippets/importing_libraries.ipynb"
              }
            ]
          }
        }
      ]
    },
    {
      "cell_type": "code",
      "source": [
        "print(\"TensorFlow version:\", tf.__version__)\n",
        "print(\"KerasNLP version:\", keras_nlp.__version__)"
      ],
      "metadata": {
        "colab": {
          "base_uri": "https://localhost:8080/"
        },
        "id": "yG7S5RLcqVHS",
        "outputId": "a0b5e070-4a83-4a2e-b391-13e49c9fa280"
      },
      "execution_count": 4,
      "outputs": [
        {
          "output_type": "stream",
          "name": "stdout",
          "text": [
            "TensorFlow version: 2.16.1\n",
            "KerasNLP version: 0.12.0\n"
          ]
        }
      ]
    },
    {
      "cell_type": "code",
      "source": [
        "import pandas as pd\n",
        "df_train = pd.read_csv(\"/content/train.csv\")\n",
        "df_test = pd.read_csv(\"/content/test.csv\")"
      ],
      "metadata": {
        "id": "hH2FgRZFqZtQ"
      },
      "execution_count": 4,
      "outputs": []
    },
    {
      "cell_type": "code",
      "source": [
        "df_train.head()"
      ],
      "metadata": {
        "colab": {
          "base_uri": "https://localhost:8080/",
          "height": 206
        },
        "id": "ctCeHni2srjV",
        "outputId": "5e3f303f-a904-4fe9-cc47-7f82c7336b17"
      },
      "execution_count": 4,
      "outputs": [
        {
          "output_type": "execute_result",
          "data": {
            "text/plain": [
              "   id keyword location                                               text  \\\n",
              "0   1     NaN      NaN  Our Deeds are the Reason of this #earthquake M...   \n",
              "1   4     NaN      NaN             Forest fire near La Ronge Sask. Canada   \n",
              "2   5     NaN      NaN  All residents asked to 'shelter in place' are ...   \n",
              "3   6     NaN      NaN  13,000 people receive #wildfires evacuation or...   \n",
              "4   7     NaN      NaN  Just got sent this photo from Ruby #Alaska as ...   \n",
              "\n",
              "   target  \n",
              "0       1  \n",
              "1       1  \n",
              "2       1  \n",
              "3       1  \n",
              "4       1  "
            ],
            "text/html": [
              "\n",
              "  <div id=\"df-ea108194-c7fc-4722-862a-65171dff6c09\" class=\"colab-df-container\">\n",
              "    <div>\n",
              "<style scoped>\n",
              "    .dataframe tbody tr th:only-of-type {\n",
              "        vertical-align: middle;\n",
              "    }\n",
              "\n",
              "    .dataframe tbody tr th {\n",
              "        vertical-align: top;\n",
              "    }\n",
              "\n",
              "    .dataframe thead th {\n",
              "        text-align: right;\n",
              "    }\n",
              "</style>\n",
              "<table border=\"1\" class=\"dataframe\">\n",
              "  <thead>\n",
              "    <tr style=\"text-align: right;\">\n",
              "      <th></th>\n",
              "      <th>id</th>\n",
              "      <th>keyword</th>\n",
              "      <th>location</th>\n",
              "      <th>text</th>\n",
              "      <th>target</th>\n",
              "    </tr>\n",
              "  </thead>\n",
              "  <tbody>\n",
              "    <tr>\n",
              "      <th>0</th>\n",
              "      <td>1</td>\n",
              "      <td>NaN</td>\n",
              "      <td>NaN</td>\n",
              "      <td>Our Deeds are the Reason of this #earthquake M...</td>\n",
              "      <td>1</td>\n",
              "    </tr>\n",
              "    <tr>\n",
              "      <th>1</th>\n",
              "      <td>4</td>\n",
              "      <td>NaN</td>\n",
              "      <td>NaN</td>\n",
              "      <td>Forest fire near La Ronge Sask. Canada</td>\n",
              "      <td>1</td>\n",
              "    </tr>\n",
              "    <tr>\n",
              "      <th>2</th>\n",
              "      <td>5</td>\n",
              "      <td>NaN</td>\n",
              "      <td>NaN</td>\n",
              "      <td>All residents asked to 'shelter in place' are ...</td>\n",
              "      <td>1</td>\n",
              "    </tr>\n",
              "    <tr>\n",
              "      <th>3</th>\n",
              "      <td>6</td>\n",
              "      <td>NaN</td>\n",
              "      <td>NaN</td>\n",
              "      <td>13,000 people receive #wildfires evacuation or...</td>\n",
              "      <td>1</td>\n",
              "    </tr>\n",
              "    <tr>\n",
              "      <th>4</th>\n",
              "      <td>7</td>\n",
              "      <td>NaN</td>\n",
              "      <td>NaN</td>\n",
              "      <td>Just got sent this photo from Ruby #Alaska as ...</td>\n",
              "      <td>1</td>\n",
              "    </tr>\n",
              "  </tbody>\n",
              "</table>\n",
              "</div>\n",
              "    <div class=\"colab-df-buttons\">\n",
              "\n",
              "  <div class=\"colab-df-container\">\n",
              "    <button class=\"colab-df-convert\" onclick=\"convertToInteractive('df-ea108194-c7fc-4722-862a-65171dff6c09')\"\n",
              "            title=\"Convert this dataframe to an interactive table.\"\n",
              "            style=\"display:none;\">\n",
              "\n",
              "  <svg xmlns=\"http://www.w3.org/2000/svg\" height=\"24px\" viewBox=\"0 -960 960 960\">\n",
              "    <path d=\"M120-120v-720h720v720H120Zm60-500h600v-160H180v160Zm220 220h160v-160H400v160Zm0 220h160v-160H400v160ZM180-400h160v-160H180v160Zm440 0h160v-160H620v160ZM180-180h160v-160H180v160Zm440 0h160v-160H620v160Z\"/>\n",
              "  </svg>\n",
              "    </button>\n",
              "\n",
              "  <style>\n",
              "    .colab-df-container {\n",
              "      display:flex;\n",
              "      gap: 12px;\n",
              "    }\n",
              "\n",
              "    .colab-df-convert {\n",
              "      background-color: #E8F0FE;\n",
              "      border: none;\n",
              "      border-radius: 50%;\n",
              "      cursor: pointer;\n",
              "      display: none;\n",
              "      fill: #1967D2;\n",
              "      height: 32px;\n",
              "      padding: 0 0 0 0;\n",
              "      width: 32px;\n",
              "    }\n",
              "\n",
              "    .colab-df-convert:hover {\n",
              "      background-color: #E2EBFA;\n",
              "      box-shadow: 0px 1px 2px rgba(60, 64, 67, 0.3), 0px 1px 3px 1px rgba(60, 64, 67, 0.15);\n",
              "      fill: #174EA6;\n",
              "    }\n",
              "\n",
              "    .colab-df-buttons div {\n",
              "      margin-bottom: 4px;\n",
              "    }\n",
              "\n",
              "    [theme=dark] .colab-df-convert {\n",
              "      background-color: #3B4455;\n",
              "      fill: #D2E3FC;\n",
              "    }\n",
              "\n",
              "    [theme=dark] .colab-df-convert:hover {\n",
              "      background-color: #434B5C;\n",
              "      box-shadow: 0px 1px 3px 1px rgba(0, 0, 0, 0.15);\n",
              "      filter: drop-shadow(0px 1px 2px rgba(0, 0, 0, 0.3));\n",
              "      fill: #FFFFFF;\n",
              "    }\n",
              "  </style>\n",
              "\n",
              "    <script>\n",
              "      const buttonEl =\n",
              "        document.querySelector('#df-ea108194-c7fc-4722-862a-65171dff6c09 button.colab-df-convert');\n",
              "      buttonEl.style.display =\n",
              "        google.colab.kernel.accessAllowed ? 'block' : 'none';\n",
              "\n",
              "      async function convertToInteractive(key) {\n",
              "        const element = document.querySelector('#df-ea108194-c7fc-4722-862a-65171dff6c09');\n",
              "        const dataTable =\n",
              "          await google.colab.kernel.invokeFunction('convertToInteractive',\n",
              "                                                    [key], {});\n",
              "        if (!dataTable) return;\n",
              "\n",
              "        const docLinkHtml = 'Like what you see? Visit the ' +\n",
              "          '<a target=\"_blank\" href=https://colab.research.google.com/notebooks/data_table.ipynb>data table notebook</a>'\n",
              "          + ' to learn more about interactive tables.';\n",
              "        element.innerHTML = '';\n",
              "        dataTable['output_type'] = 'display_data';\n",
              "        await google.colab.output.renderOutput(dataTable, element);\n",
              "        const docLink = document.createElement('div');\n",
              "        docLink.innerHTML = docLinkHtml;\n",
              "        element.appendChild(docLink);\n",
              "      }\n",
              "    </script>\n",
              "  </div>\n",
              "\n",
              "\n",
              "<div id=\"df-0c51481f-b6f5-4f98-82cd-90ee9492f256\">\n",
              "  <button class=\"colab-df-quickchart\" onclick=\"quickchart('df-0c51481f-b6f5-4f98-82cd-90ee9492f256')\"\n",
              "            title=\"Suggest charts\"\n",
              "            style=\"display:none;\">\n",
              "\n",
              "<svg xmlns=\"http://www.w3.org/2000/svg\" height=\"24px\"viewBox=\"0 0 24 24\"\n",
              "     width=\"24px\">\n",
              "    <g>\n",
              "        <path d=\"M19 3H5c-1.1 0-2 .9-2 2v14c0 1.1.9 2 2 2h14c1.1 0 2-.9 2-2V5c0-1.1-.9-2-2-2zM9 17H7v-7h2v7zm4 0h-2V7h2v10zm4 0h-2v-4h2v4z\"/>\n",
              "    </g>\n",
              "</svg>\n",
              "  </button>\n",
              "\n",
              "<style>\n",
              "  .colab-df-quickchart {\n",
              "      --bg-color: #E8F0FE;\n",
              "      --fill-color: #1967D2;\n",
              "      --hover-bg-color: #E2EBFA;\n",
              "      --hover-fill-color: #174EA6;\n",
              "      --disabled-fill-color: #AAA;\n",
              "      --disabled-bg-color: #DDD;\n",
              "  }\n",
              "\n",
              "  [theme=dark] .colab-df-quickchart {\n",
              "      --bg-color: #3B4455;\n",
              "      --fill-color: #D2E3FC;\n",
              "      --hover-bg-color: #434B5C;\n",
              "      --hover-fill-color: #FFFFFF;\n",
              "      --disabled-bg-color: #3B4455;\n",
              "      --disabled-fill-color: #666;\n",
              "  }\n",
              "\n",
              "  .colab-df-quickchart {\n",
              "    background-color: var(--bg-color);\n",
              "    border: none;\n",
              "    border-radius: 50%;\n",
              "    cursor: pointer;\n",
              "    display: none;\n",
              "    fill: var(--fill-color);\n",
              "    height: 32px;\n",
              "    padding: 0;\n",
              "    width: 32px;\n",
              "  }\n",
              "\n",
              "  .colab-df-quickchart:hover {\n",
              "    background-color: var(--hover-bg-color);\n",
              "    box-shadow: 0 1px 2px rgba(60, 64, 67, 0.3), 0 1px 3px 1px rgba(60, 64, 67, 0.15);\n",
              "    fill: var(--button-hover-fill-color);\n",
              "  }\n",
              "\n",
              "  .colab-df-quickchart-complete:disabled,\n",
              "  .colab-df-quickchart-complete:disabled:hover {\n",
              "    background-color: var(--disabled-bg-color);\n",
              "    fill: var(--disabled-fill-color);\n",
              "    box-shadow: none;\n",
              "  }\n",
              "\n",
              "  .colab-df-spinner {\n",
              "    border: 2px solid var(--fill-color);\n",
              "    border-color: transparent;\n",
              "    border-bottom-color: var(--fill-color);\n",
              "    animation:\n",
              "      spin 1s steps(1) infinite;\n",
              "  }\n",
              "\n",
              "  @keyframes spin {\n",
              "    0% {\n",
              "      border-color: transparent;\n",
              "      border-bottom-color: var(--fill-color);\n",
              "      border-left-color: var(--fill-color);\n",
              "    }\n",
              "    20% {\n",
              "      border-color: transparent;\n",
              "      border-left-color: var(--fill-color);\n",
              "      border-top-color: var(--fill-color);\n",
              "    }\n",
              "    30% {\n",
              "      border-color: transparent;\n",
              "      border-left-color: var(--fill-color);\n",
              "      border-top-color: var(--fill-color);\n",
              "      border-right-color: var(--fill-color);\n",
              "    }\n",
              "    40% {\n",
              "      border-color: transparent;\n",
              "      border-right-color: var(--fill-color);\n",
              "      border-top-color: var(--fill-color);\n",
              "    }\n",
              "    60% {\n",
              "      border-color: transparent;\n",
              "      border-right-color: var(--fill-color);\n",
              "    }\n",
              "    80% {\n",
              "      border-color: transparent;\n",
              "      border-right-color: var(--fill-color);\n",
              "      border-bottom-color: var(--fill-color);\n",
              "    }\n",
              "    90% {\n",
              "      border-color: transparent;\n",
              "      border-bottom-color: var(--fill-color);\n",
              "    }\n",
              "  }\n",
              "</style>\n",
              "\n",
              "  <script>\n",
              "    async function quickchart(key) {\n",
              "      const quickchartButtonEl =\n",
              "        document.querySelector('#' + key + ' button');\n",
              "      quickchartButtonEl.disabled = true;  // To prevent multiple clicks.\n",
              "      quickchartButtonEl.classList.add('colab-df-spinner');\n",
              "      try {\n",
              "        const charts = await google.colab.kernel.invokeFunction(\n",
              "            'suggestCharts', [key], {});\n",
              "      } catch (error) {\n",
              "        console.error('Error during call to suggestCharts:', error);\n",
              "      }\n",
              "      quickchartButtonEl.classList.remove('colab-df-spinner');\n",
              "      quickchartButtonEl.classList.add('colab-df-quickchart-complete');\n",
              "    }\n",
              "    (() => {\n",
              "      let quickchartButtonEl =\n",
              "        document.querySelector('#df-0c51481f-b6f5-4f98-82cd-90ee9492f256 button');\n",
              "      quickchartButtonEl.style.display =\n",
              "        google.colab.kernel.accessAllowed ? 'block' : 'none';\n",
              "    })();\n",
              "  </script>\n",
              "</div>\n",
              "\n",
              "    </div>\n",
              "  </div>\n"
            ],
            "application/vnd.google.colaboratory.intrinsic+json": {
              "type": "dataframe",
              "variable_name": "df_train",
              "summary": "{\n  \"name\": \"df_train\",\n  \"rows\": 7613,\n  \"fields\": [\n    {\n      \"column\": \"id\",\n      \"properties\": {\n        \"dtype\": \"number\",\n        \"std\": 3137,\n        \"min\": 1,\n        \"max\": 10873,\n        \"num_unique_values\": 7613,\n        \"samples\": [\n          3796,\n          3185,\n          7769\n        ],\n        \"semantic_type\": \"\",\n        \"description\": \"\"\n      }\n    },\n    {\n      \"column\": \"keyword\",\n      \"properties\": {\n        \"dtype\": \"category\",\n        \"num_unique_values\": 221,\n        \"samples\": [\n          \"injury\",\n          \"nuclear%20reactor\",\n          \"engulfed\"\n        ],\n        \"semantic_type\": \"\",\n        \"description\": \"\"\n      }\n    },\n    {\n      \"column\": \"location\",\n      \"properties\": {\n        \"dtype\": \"category\",\n        \"num_unique_values\": 3341,\n        \"samples\": [\n          \"Oklahoma\",\n          \"Starling City\",\n          \"Trinidad and Tobago\"\n        ],\n        \"semantic_type\": \"\",\n        \"description\": \"\"\n      }\n    },\n    {\n      \"column\": \"text\",\n      \"properties\": {\n        \"dtype\": \"string\",\n        \"num_unique_values\": 7503,\n        \"samples\": [\n          \"Three Homes Demolished in Unrecognized Arab Village - International Middle East Media Center http://t.co/ik8m4Yi9T4\",\n          \"Reid Lake fire prompts campground evacuation order http://t.co/jBODKM6rBU\",\n          \"FAAN orders evacuation of abandoned aircraft at MMA http://t.co/dEvYbnVXGQ via @todayng\"\n        ],\n        \"semantic_type\": \"\",\n        \"description\": \"\"\n      }\n    },\n    {\n      \"column\": \"target\",\n      \"properties\": {\n        \"dtype\": \"number\",\n        \"std\": 0,\n        \"min\": 0,\n        \"max\": 1,\n        \"num_unique_values\": 2,\n        \"samples\": [\n          0,\n          1\n        ],\n        \"semantic_type\": \"\",\n        \"description\": \"\"\n      }\n    }\n  ]\n}"
            }
          },
          "metadata": {},
          "execution_count": 4
        }
      ]
    },
    {
      "cell_type": "markdown",
      "source": [
        "Sentence and word tokenization using nltk"
      ],
      "metadata": {
        "id": "AliLlYSGpKor"
      }
    },
    {
      "cell_type": "code",
      "source": [
        "import nltk\n",
        "nltk.download('punkt')"
      ],
      "metadata": {
        "colab": {
          "base_uri": "https://localhost:8080/"
        },
        "id": "3PHuxg-GoNn8",
        "outputId": "cf298cd1-3366-412a-f994-2150861e4fce"
      },
      "execution_count": 5,
      "outputs": [
        {
          "output_type": "stream",
          "name": "stderr",
          "text": [
            "[nltk_data] Downloading package punkt to /root/nltk_data...\n",
            "[nltk_data]   Unzipping tokenizers/punkt.zip.\n"
          ]
        },
        {
          "output_type": "execute_result",
          "data": {
            "text/plain": [
              "True"
            ]
          },
          "metadata": {},
          "execution_count": 5
        }
      ]
    },
    {
      "cell_type": "code",
      "source": [
        "from nltk.tokenize import sent_tokenize\n",
        "from nltk.tokenize import word_tokenize #Select any type of tokenization from the list of tokenizations available as per requirements"
      ],
      "metadata": {
        "id": "4dnT1NZepPjP"
      },
      "execution_count": 8,
      "outputs": []
    },
    {
      "cell_type": "code",
      "source": [
        "sent_tokenize(df_train[\"text\"][0])"
      ],
      "metadata": {
        "colab": {
          "base_uri": "https://localhost:8080/"
        },
        "id": "BGeP2CGNsdsE",
        "outputId": "a139aeb5-aab8-4ffe-a3cf-e474d071f07a"
      },
      "execution_count": 9,
      "outputs": [
        {
          "output_type": "execute_result",
          "data": {
            "text/plain": [
              "['Our Deeds are the Reason of this #earthquake May ALLAH Forgive us all']"
            ]
          },
          "metadata": {},
          "execution_count": 9
        }
      ]
    },
    {
      "cell_type": "code",
      "source": [
        "print(sent_tokenize(\"Kya hua tera vaadaa. Wo kasam wo iraada. Bhulega dil jis din tumhe, wo din zindagi ka aakhiri din hoga.\"))\n",
        "print(word_tokenize(\"Kya hua tera vaadaa. Wo kasam wo iraada. Bhulega dil jis din tumhe, wo din zindagi ka aakhiri din hoga.\"))"
      ],
      "metadata": {
        "colab": {
          "base_uri": "https://localhost:8080/"
        },
        "collapsed": true,
        "id": "jI8wXgb2r5_A",
        "outputId": "7810dafa-ddba-4c54-bf44-3da5f9ae7097"
      },
      "execution_count": 11,
      "outputs": [
        {
          "output_type": "stream",
          "name": "stdout",
          "text": [
            "['Kya hua tera vaadaa.', 'Wo kasam wo iraada.', 'Bhulega dil jis din tumhe, wo din zindagi ka aakhiri din hoga.']\n",
            "['Kya', 'hua', 'tera', 'vaadaa', '.', 'Wo', 'kasam', 'wo', 'iraada', '.', 'Bhulega', 'dil', 'jis', 'din', 'tumhe', ',', 'wo', 'din', 'zindagi', 'ka', 'aakhiri', 'din', 'hoga', '.']\n"
          ]
        }
      ]
    },
    {
      "cell_type": "markdown",
      "source": [
        "Sentence and word tokenization using spacy"
      ],
      "metadata": {
        "id": "wiet_poFoWRa"
      }
    },
    {
      "cell_type": "code",
      "source": [
        "!python -m spacy download en"
      ],
      "metadata": {
        "colab": {
          "base_uri": "https://localhost:8080/"
        },
        "collapsed": true,
        "id": "LVYH3gohmoaz",
        "outputId": "b7179702-55ab-40d7-ca25-63e2e24e89ab"
      },
      "execution_count": 12,
      "outputs": [
        {
          "output_type": "stream",
          "name": "stdout",
          "text": [
            "\u001b[38;5;3m⚠ As of spaCy v3.0, shortcuts like 'en' are deprecated. Please use the\n",
            "full pipeline package name 'en_core_web_sm' instead.\u001b[0m\n",
            "Collecting en-core-web-sm==3.7.1\n",
            "  Downloading https://github.com/explosion/spacy-models/releases/download/en_core_web_sm-3.7.1/en_core_web_sm-3.7.1-py3-none-any.whl (12.8 MB)\n",
            "\u001b[2K     \u001b[90m━━━━━━━━━━━━━━━━━━━━━━━━━━━━━━━━━━━━━━━━\u001b[0m \u001b[32m12.8/12.8 MB\u001b[0m \u001b[31m28.1 MB/s\u001b[0m eta \u001b[36m0:00:00\u001b[0m\n",
            "\u001b[?25hRequirement already satisfied: spacy<3.8.0,>=3.7.2 in /usr/local/lib/python3.10/dist-packages (from en-core-web-sm==3.7.1) (3.7.4)\n",
            "Requirement already satisfied: spacy-legacy<3.1.0,>=3.0.11 in /usr/local/lib/python3.10/dist-packages (from spacy<3.8.0,>=3.7.2->en-core-web-sm==3.7.1) (3.0.12)\n",
            "Requirement already satisfied: spacy-loggers<2.0.0,>=1.0.0 in /usr/local/lib/python3.10/dist-packages (from spacy<3.8.0,>=3.7.2->en-core-web-sm==3.7.1) (1.0.5)\n",
            "Requirement already satisfied: murmurhash<1.1.0,>=0.28.0 in /usr/local/lib/python3.10/dist-packages (from spacy<3.8.0,>=3.7.2->en-core-web-sm==3.7.1) (1.0.10)\n",
            "Requirement already satisfied: cymem<2.1.0,>=2.0.2 in /usr/local/lib/python3.10/dist-packages (from spacy<3.8.0,>=3.7.2->en-core-web-sm==3.7.1) (2.0.8)\n",
            "Requirement already satisfied: preshed<3.1.0,>=3.0.2 in /usr/local/lib/python3.10/dist-packages (from spacy<3.8.0,>=3.7.2->en-core-web-sm==3.7.1) (3.0.9)\n",
            "Requirement already satisfied: thinc<8.3.0,>=8.2.2 in /usr/local/lib/python3.10/dist-packages (from spacy<3.8.0,>=3.7.2->en-core-web-sm==3.7.1) (8.2.3)\n",
            "Requirement already satisfied: wasabi<1.2.0,>=0.9.1 in /usr/local/lib/python3.10/dist-packages (from spacy<3.8.0,>=3.7.2->en-core-web-sm==3.7.1) (1.1.2)\n",
            "Requirement already satisfied: srsly<3.0.0,>=2.4.3 in /usr/local/lib/python3.10/dist-packages (from spacy<3.8.0,>=3.7.2->en-core-web-sm==3.7.1) (2.4.8)\n",
            "Requirement already satisfied: catalogue<2.1.0,>=2.0.6 in /usr/local/lib/python3.10/dist-packages (from spacy<3.8.0,>=3.7.2->en-core-web-sm==3.7.1) (2.0.10)\n",
            "Requirement already satisfied: weasel<0.4.0,>=0.1.0 in /usr/local/lib/python3.10/dist-packages (from spacy<3.8.0,>=3.7.2->en-core-web-sm==3.7.1) (0.3.4)\n",
            "Requirement already satisfied: typer<0.10.0,>=0.3.0 in /usr/local/lib/python3.10/dist-packages (from spacy<3.8.0,>=3.7.2->en-core-web-sm==3.7.1) (0.9.4)\n",
            "Requirement already satisfied: smart-open<7.0.0,>=5.2.1 in /usr/local/lib/python3.10/dist-packages (from spacy<3.8.0,>=3.7.2->en-core-web-sm==3.7.1) (6.4.0)\n",
            "Requirement already satisfied: tqdm<5.0.0,>=4.38.0 in /usr/local/lib/python3.10/dist-packages (from spacy<3.8.0,>=3.7.2->en-core-web-sm==3.7.1) (4.66.4)\n",
            "Requirement already satisfied: requests<3.0.0,>=2.13.0 in /usr/local/lib/python3.10/dist-packages (from spacy<3.8.0,>=3.7.2->en-core-web-sm==3.7.1) (2.31.0)\n",
            "Requirement already satisfied: pydantic!=1.8,!=1.8.1,<3.0.0,>=1.7.4 in /usr/local/lib/python3.10/dist-packages (from spacy<3.8.0,>=3.7.2->en-core-web-sm==3.7.1) (2.7.1)\n",
            "Requirement already satisfied: jinja2 in /usr/local/lib/python3.10/dist-packages (from spacy<3.8.0,>=3.7.2->en-core-web-sm==3.7.1) (3.1.4)\n",
            "Requirement already satisfied: setuptools in /usr/local/lib/python3.10/dist-packages (from spacy<3.8.0,>=3.7.2->en-core-web-sm==3.7.1) (67.7.2)\n",
            "Requirement already satisfied: packaging>=20.0 in /usr/local/lib/python3.10/dist-packages (from spacy<3.8.0,>=3.7.2->en-core-web-sm==3.7.1) (24.0)\n",
            "Requirement already satisfied: langcodes<4.0.0,>=3.2.0 in /usr/local/lib/python3.10/dist-packages (from spacy<3.8.0,>=3.7.2->en-core-web-sm==3.7.1) (3.4.0)\n",
            "Requirement already satisfied: numpy>=1.19.0 in /usr/local/lib/python3.10/dist-packages (from spacy<3.8.0,>=3.7.2->en-core-web-sm==3.7.1) (1.25.2)\n",
            "Requirement already satisfied: language-data>=1.2 in /usr/local/lib/python3.10/dist-packages (from langcodes<4.0.0,>=3.2.0->spacy<3.8.0,>=3.7.2->en-core-web-sm==3.7.1) (1.2.0)\n",
            "Requirement already satisfied: annotated-types>=0.4.0 in /usr/local/lib/python3.10/dist-packages (from pydantic!=1.8,!=1.8.1,<3.0.0,>=1.7.4->spacy<3.8.0,>=3.7.2->en-core-web-sm==3.7.1) (0.6.0)\n",
            "Requirement already satisfied: pydantic-core==2.18.2 in /usr/local/lib/python3.10/dist-packages (from pydantic!=1.8,!=1.8.1,<3.0.0,>=1.7.4->spacy<3.8.0,>=3.7.2->en-core-web-sm==3.7.1) (2.18.2)\n",
            "Requirement already satisfied: typing-extensions>=4.6.1 in /usr/local/lib/python3.10/dist-packages (from pydantic!=1.8,!=1.8.1,<3.0.0,>=1.7.4->spacy<3.8.0,>=3.7.2->en-core-web-sm==3.7.1) (4.11.0)\n",
            "Requirement already satisfied: charset-normalizer<4,>=2 in /usr/local/lib/python3.10/dist-packages (from requests<3.0.0,>=2.13.0->spacy<3.8.0,>=3.7.2->en-core-web-sm==3.7.1) (3.3.2)\n",
            "Requirement already satisfied: idna<4,>=2.5 in /usr/local/lib/python3.10/dist-packages (from requests<3.0.0,>=2.13.0->spacy<3.8.0,>=3.7.2->en-core-web-sm==3.7.1) (3.7)\n",
            "Requirement already satisfied: urllib3<3,>=1.21.1 in /usr/local/lib/python3.10/dist-packages (from requests<3.0.0,>=2.13.0->spacy<3.8.0,>=3.7.2->en-core-web-sm==3.7.1) (2.0.7)\n",
            "Requirement already satisfied: certifi>=2017.4.17 in /usr/local/lib/python3.10/dist-packages (from requests<3.0.0,>=2.13.0->spacy<3.8.0,>=3.7.2->en-core-web-sm==3.7.1) (2024.2.2)\n",
            "Requirement already satisfied: blis<0.8.0,>=0.7.8 in /usr/local/lib/python3.10/dist-packages (from thinc<8.3.0,>=8.2.2->spacy<3.8.0,>=3.7.2->en-core-web-sm==3.7.1) (0.7.11)\n",
            "Requirement already satisfied: confection<1.0.0,>=0.0.1 in /usr/local/lib/python3.10/dist-packages (from thinc<8.3.0,>=8.2.2->spacy<3.8.0,>=3.7.2->en-core-web-sm==3.7.1) (0.1.4)\n",
            "Requirement already satisfied: click<9.0.0,>=7.1.1 in /usr/local/lib/python3.10/dist-packages (from typer<0.10.0,>=0.3.0->spacy<3.8.0,>=3.7.2->en-core-web-sm==3.7.1) (8.1.7)\n",
            "Requirement already satisfied: cloudpathlib<0.17.0,>=0.7.0 in /usr/local/lib/python3.10/dist-packages (from weasel<0.4.0,>=0.1.0->spacy<3.8.0,>=3.7.2->en-core-web-sm==3.7.1) (0.16.0)\n",
            "Requirement already satisfied: MarkupSafe>=2.0 in /usr/local/lib/python3.10/dist-packages (from jinja2->spacy<3.8.0,>=3.7.2->en-core-web-sm==3.7.1) (2.1.5)\n",
            "Requirement already satisfied: marisa-trie>=0.7.7 in /usr/local/lib/python3.10/dist-packages (from language-data>=1.2->langcodes<4.0.0,>=3.2.0->spacy<3.8.0,>=3.7.2->en-core-web-sm==3.7.1) (1.1.1)\n",
            "\u001b[38;5;2m✔ Download and installation successful\u001b[0m\n",
            "You can now load the package via spacy.load('en_core_web_sm')\n",
            "\u001b[38;5;3m⚠ Restart to reload dependencies\u001b[0m\n",
            "If you are in a Jupyter or Colab notebook, you may need to restart Python in\n",
            "order to load all the package's dependencies. You can do this by selecting the\n",
            "'Restart kernel' or 'Restart runtime' option.\n"
          ]
        }
      ]
    },
    {
      "cell_type": "code",
      "source": [
        "import spacy"
      ],
      "metadata": {
        "id": "bSY58JQxsxKh"
      },
      "execution_count": 4,
      "outputs": []
    },
    {
      "cell_type": "code",
      "source": [
        "nlp = spacy.load(\"en_core_web_sm\") # Create language object\n",
        "\n",
        "doc = nlp(df_train[\"text\"][0])"
      ],
      "metadata": {
        "id": "gLjAAYwyngxb"
      },
      "execution_count": 14,
      "outputs": []
    },
    {
      "cell_type": "code",
      "source": [
        "for sentence in doc.sents:\n",
        "  print(sentence)\n",
        "  for token in sentence:\n",
        "    print(token)"
      ],
      "metadata": {
        "colab": {
          "base_uri": "https://localhost:8080/"
        },
        "id": "PWGenh4Wn6IL",
        "outputId": "31ecdcb8-17e2-4c5d-db1d-3417017b1308"
      },
      "execution_count": 15,
      "outputs": [
        {
          "output_type": "stream",
          "name": "stdout",
          "text": [
            "Our Deeds are the Reason of this #earthquake May ALLAH Forgive us all\n",
            "Our\n",
            "Deeds\n",
            "are\n",
            "the\n",
            "Reason\n",
            "of\n",
            "this\n",
            "#\n",
            "earthquake\n",
            "May\n",
            "ALLAH\n",
            "Forgive\n",
            "us\n",
            "all\n"
          ]
        }
      ]
    },
    {
      "cell_type": "code",
      "source": [
        "nlp = spacy.blank(\"en\")\n",
        "doc = nlp(df_train[\"text\"][0])"
      ],
      "metadata": {
        "id": "ykGGjgnOsrUo"
      },
      "execution_count": 16,
      "outputs": []
    },
    {
      "cell_type": "code",
      "source": [
        "token0 = doc[0]\n",
        "print(type(token0))\n",
        "token0"
      ],
      "metadata": {
        "colab": {
          "base_uri": "https://localhost:8080/"
        },
        "id": "OIiT3Syo096l",
        "outputId": "f6c0a374-bae6-4b33-f75b-40cf6f53ea4e"
      },
      "execution_count": 17,
      "outputs": [
        {
          "output_type": "stream",
          "name": "stdout",
          "text": [
            "<class 'spacy.tokens.token.Token'>\n"
          ]
        },
        {
          "output_type": "execute_result",
          "data": {
            "text/plain": [
              "Our"
            ]
          },
          "metadata": {},
          "execution_count": 17
        }
      ]
    },
    {
      "cell_type": "code",
      "source": [
        "dir(token0)   #lists all the methods of token class #understands context, currency, email id and a lot more."
      ],
      "metadata": {
        "colab": {
          "base_uri": "https://localhost:8080/"
        },
        "id": "4D7b69W61KW0",
        "outputId": "0583fa8f-8a53-40ee-d30b-746520ed3f5c",
        "collapsed": true
      },
      "execution_count": null,
      "outputs": [
        {
          "output_type": "execute_result",
          "data": {
            "text/plain": [
              "['_',\n",
              " '__bytes__',\n",
              " '__class__',\n",
              " '__delattr__',\n",
              " '__dir__',\n",
              " '__doc__',\n",
              " '__eq__',\n",
              " '__format__',\n",
              " '__ge__',\n",
              " '__getattribute__',\n",
              " '__gt__',\n",
              " '__hash__',\n",
              " '__init__',\n",
              " '__init_subclass__',\n",
              " '__le__',\n",
              " '__len__',\n",
              " '__lt__',\n",
              " '__ne__',\n",
              " '__new__',\n",
              " '__pyx_vtable__',\n",
              " '__reduce__',\n",
              " '__reduce_ex__',\n",
              " '__repr__',\n",
              " '__setattr__',\n",
              " '__sizeof__',\n",
              " '__str__',\n",
              " '__subclasshook__',\n",
              " '__unicode__',\n",
              " 'ancestors',\n",
              " 'check_flag',\n",
              " 'children',\n",
              " 'cluster',\n",
              " 'conjuncts',\n",
              " 'dep',\n",
              " 'dep_',\n",
              " 'doc',\n",
              " 'ent_id',\n",
              " 'ent_id_',\n",
              " 'ent_iob',\n",
              " 'ent_iob_',\n",
              " 'ent_kb_id',\n",
              " 'ent_kb_id_',\n",
              " 'ent_type',\n",
              " 'ent_type_',\n",
              " 'get_extension',\n",
              " 'has_dep',\n",
              " 'has_extension',\n",
              " 'has_head',\n",
              " 'has_morph',\n",
              " 'has_vector',\n",
              " 'head',\n",
              " 'i',\n",
              " 'idx',\n",
              " 'iob_strings',\n",
              " 'is_alpha',\n",
              " 'is_ancestor',\n",
              " 'is_ascii',\n",
              " 'is_bracket',\n",
              " 'is_currency',\n",
              " 'is_digit',\n",
              " 'is_left_punct',\n",
              " 'is_lower',\n",
              " 'is_oov',\n",
              " 'is_punct',\n",
              " 'is_quote',\n",
              " 'is_right_punct',\n",
              " 'is_sent_end',\n",
              " 'is_sent_start',\n",
              " 'is_space',\n",
              " 'is_stop',\n",
              " 'is_title',\n",
              " 'is_upper',\n",
              " 'lang',\n",
              " 'lang_',\n",
              " 'left_edge',\n",
              " 'lefts',\n",
              " 'lemma',\n",
              " 'lemma_',\n",
              " 'lex',\n",
              " 'lex_id',\n",
              " 'like_email',\n",
              " 'like_num',\n",
              " 'like_url',\n",
              " 'lower',\n",
              " 'lower_',\n",
              " 'morph',\n",
              " 'n_lefts',\n",
              " 'n_rights',\n",
              " 'nbor',\n",
              " 'norm',\n",
              " 'norm_',\n",
              " 'orth',\n",
              " 'orth_',\n",
              " 'pos',\n",
              " 'pos_',\n",
              " 'prefix',\n",
              " 'prefix_',\n",
              " 'prob',\n",
              " 'rank',\n",
              " 'remove_extension',\n",
              " 'right_edge',\n",
              " 'rights',\n",
              " 'sent',\n",
              " 'sent_start',\n",
              " 'sentiment',\n",
              " 'set_extension',\n",
              " 'set_morph',\n",
              " 'shape',\n",
              " 'shape_',\n",
              " 'similarity',\n",
              " 'subtree',\n",
              " 'suffix',\n",
              " 'suffix_',\n",
              " 'tag',\n",
              " 'tag_',\n",
              " 'tensor',\n",
              " 'text',\n",
              " 'text_with_ws',\n",
              " 'vector',\n",
              " 'vector_norm',\n",
              " 'vocab',\n",
              " 'whitespace_']"
            ]
          },
          "metadata": {},
          "execution_count": 23
        }
      ]
    },
    {
      "cell_type": "code",
      "source": [
        "#Examples\n",
        "print(\"First token value is - \", token0.text)\n",
        "print(\"Is token an alphabet? \" ,token0.is_alpha)\n",
        "print(\"Is token a number? \", token0.like_num)\n",
        "tokenx = nlp('two')[0]\n",
        "print(\"Second token value is - \", tokenx.text)\n",
        "print(\"Is token an alphabet? \", tokenx.is_alpha)\n",
        "print(\"Is token a number? \", tokenx.like_num) #it understands the true meaning with context"
      ],
      "metadata": {
        "colab": {
          "base_uri": "https://localhost:8080/"
        },
        "id": "SKF9DlQK1Sg_",
        "outputId": "28d1e1ae-ea1a-4d86-f0aa-c978af38bab5"
      },
      "execution_count": 20,
      "outputs": [
        {
          "output_type": "stream",
          "name": "stdout",
          "text": [
            "First token value is -  Our\n",
            "Is token an alphabet?  True\n",
            "Is token a number?  False\n",
            "Second token value is -  two\n",
            "Is token an alphabet?  True\n",
            "Is token a number?  True\n"
          ]
        }
      ]
    },
    {
      "cell_type": "code",
      "source": [
        "#We can define our own special cases\n",
        "from spacy.symbols import ORTH\n",
        "nlp.tokenizer.add_special_case(\"gimme\", [{ORTH : \"gim\"}, {ORTH : \"me\"}])\n",
        "\n",
        "doc = nlp(\"gimme a large piece of dark chocolate cake.\")\n",
        "tokens = [token.text for token in doc]\n",
        "print(tokens)"
      ],
      "metadata": {
        "colab": {
          "base_uri": "https://localhost:8080/"
        },
        "id": "fC8GrkUy3nSK",
        "outputId": "0e016819-9027-4bf5-bf79-9dd1b1096204"
      },
      "execution_count": 21,
      "outputs": [
        {
          "output_type": "stream",
          "name": "stdout",
          "text": [
            "['gim', 'me', 'a', 'large', 'piece', 'of', 'dark', 'chocolate', 'cake', '.']\n"
          ]
        }
      ]
    },
    {
      "cell_type": "code",
      "source": [
        "#A doc with multiple lines\n",
        "doc = nlp(\"chakk dhum dhum. chakk dhum dhum. chakk dhum dhum.\")\n",
        "for sent in doc.sents:\n",
        "  print(sent)        #This gives error as our nlp pipeline is blank"
      ],
      "metadata": {
        "id": "TWf03T6h_tAW",
        "colab": {
          "base_uri": "https://localhost:8080/",
          "height": 233
        },
        "collapsed": true,
        "outputId": "12d0316e-e097-4d3b-c7f0-6c1ef2e61418"
      },
      "execution_count": 25,
      "outputs": [
        {
          "output_type": "error",
          "ename": "ValueError",
          "evalue": "[E030] Sentence boundaries unset. You can add the 'sentencizer' component to the pipeline with: `nlp.add_pipe('sentencizer')`. Alternatively, add the dependency parser or sentence recognizer, or set sentence boundaries by setting `doc[i].is_sent_start`.",
          "traceback": [
            "\u001b[0;31m---------------------------------------------------------------------------\u001b[0m",
            "\u001b[0;31mValueError\u001b[0m                                Traceback (most recent call last)",
            "\u001b[0;32m<ipython-input-25-0125203d35ac>\u001b[0m in \u001b[0;36m<cell line: 2>\u001b[0;34m()\u001b[0m\n\u001b[1;32m      1\u001b[0m \u001b[0mdoc\u001b[0m \u001b[0;34m=\u001b[0m \u001b[0mnlp\u001b[0m\u001b[0;34m(\u001b[0m\u001b[0;34m\"chakk dhum dhum. chakk dhum dhum. chakk dhum dhum.\"\u001b[0m\u001b[0;34m)\u001b[0m\u001b[0;34m\u001b[0m\u001b[0;34m\u001b[0m\u001b[0m\n\u001b[0;32m----> 2\u001b[0;31m \u001b[0;32mfor\u001b[0m \u001b[0msent\u001b[0m \u001b[0;32min\u001b[0m \u001b[0mdoc\u001b[0m\u001b[0;34m.\u001b[0m\u001b[0msents\u001b[0m\u001b[0;34m:\u001b[0m\u001b[0;34m\u001b[0m\u001b[0;34m\u001b[0m\u001b[0m\n\u001b[0m\u001b[1;32m      3\u001b[0m   \u001b[0mprint\u001b[0m\u001b[0;34m(\u001b[0m\u001b[0msent\u001b[0m\u001b[0;34m)\u001b[0m\u001b[0;34m\u001b[0m\u001b[0;34m\u001b[0m\u001b[0m\n",
            "\u001b[0;32m/usr/local/lib/python3.10/dist-packages/spacy/tokens/doc.pyx\u001b[0m in \u001b[0;36msents\u001b[0;34m()\u001b[0m\n",
            "\u001b[0;31mValueError\u001b[0m: [E030] Sentence boundaries unset. You can add the 'sentencizer' component to the pipeline with: `nlp.add_pipe('sentencizer')`. Alternatively, add the dependency parser or sentence recognizer, or set sentence boundaries by setting `doc[i].is_sent_start`."
          ]
        }
      ]
    },
    {
      "cell_type": "code",
      "source": [
        "nlp.pipe_names  #Blank"
      ],
      "metadata": {
        "colab": {
          "base_uri": "https://localhost:8080/"
        },
        "id": "fs_HfWqpy8Xj",
        "outputId": "46e148c4-611f-4b58-9c14-559308cbcd8b"
      },
      "execution_count": 26,
      "outputs": [
        {
          "output_type": "execute_result",
          "data": {
            "text/plain": [
              "[]"
            ]
          },
          "metadata": {},
          "execution_count": 26
        }
      ]
    },
    {
      "cell_type": "code",
      "source": [
        "nlp.add_pipe(\"sentencizer\")\n",
        "nlp.pipe_names"
      ],
      "metadata": {
        "colab": {
          "base_uri": "https://localhost:8080/"
        },
        "collapsed": true,
        "id": "1ZX3r_CazTbC",
        "outputId": "6aeb5d6c-e548-4322-f986-cd1312443da0"
      },
      "execution_count": 29,
      "outputs": [
        {
          "output_type": "execute_result",
          "data": {
            "text/plain": [
              "['sentencizer']"
            ]
          },
          "metadata": {},
          "execution_count": 29
        }
      ]
    },
    {
      "cell_type": "code",
      "source": [
        "doc = nlp(\"chakk dhum dhum. chakk dhum dhum. chakk dhum dhum.\")\n",
        "for sent in doc.sents:\n",
        "  print(sent)"
      ],
      "metadata": {
        "colab": {
          "base_uri": "https://localhost:8080/"
        },
        "id": "R_PIZ8-f0t92",
        "outputId": "b596f1b5-4b1a-4d06-bd94-b26d45eadd1b"
      },
      "execution_count": 30,
      "outputs": [
        {
          "output_type": "stream",
          "name": "stdout",
          "text": [
            "chakk dhum dhum.\n",
            "chakk dhum dhum.\n",
            "chakk dhum dhum.\n"
          ]
        }
      ]
    },
    {
      "cell_type": "code",
      "source": [
        "#nlp = spacy.blank(name=\"en\") # Adds a blank pipeline\n",
        "#nlp = spacy.load(\"en_core_web_sm\") # Loads a pre-trained pipeline"
      ],
      "metadata": {
        "id": "BtRFSMfczgSC"
      },
      "execution_count": 31,
      "outputs": []
    },
    {
      "cell_type": "code",
      "source": [
        "nlp = spacy.load(\"en_core_web_sm\")\n",
        "nlp.pipeline"
      ],
      "metadata": {
        "colab": {
          "base_uri": "https://localhost:8080/"
        },
        "id": "lwS68Epw9zSh",
        "outputId": "aebfe584-0377-4687-9fe4-d22431b79974"
      },
      "execution_count": 32,
      "outputs": [
        {
          "output_type": "execute_result",
          "data": {
            "text/plain": [
              "[('tok2vec', <spacy.pipeline.tok2vec.Tok2Vec at 0x7c24f27df3a0>),\n",
              " ('tagger', <spacy.pipeline.tagger.Tagger at 0x7c24effd7ee0>),\n",
              " ('parser', <spacy.pipeline.dep_parser.DependencyParser at 0x7c24f06154d0>),\n",
              " ('attribute_ruler',\n",
              "  <spacy.pipeline.attributeruler.AttributeRuler at 0x7c24eff5d580>),\n",
              " ('lemmatizer',\n",
              "  <spacy.lang.en.lemmatizer.EnglishLemmatizer at 0x7c24f2e7af40>),\n",
              " ('ner', <spacy.pipeline.ner.EntityRecognizer at 0x7c24f06152a0>)]"
            ]
          },
          "metadata": {},
          "execution_count": 32
        }
      ]
    },
    {
      "cell_type": "code",
      "source": [
        "doc = nlp(\"Dr. Haathi ate samosas for 100$ . He then said he is still hungry.\")\n",
        "for token in doc:\n",
        "  print(token.text, \" | \", token.pos_, \" | \", token.lemma_)"
      ],
      "metadata": {
        "colab": {
          "base_uri": "https://localhost:8080/"
        },
        "id": "5PD0HdEH-A1s",
        "outputId": "026547eb-8d45-45da-9bec-88968ca0415c"
      },
      "execution_count": 37,
      "outputs": [
        {
          "output_type": "stream",
          "name": "stdout",
          "text": [
            "Dr.  |  PROPN  |  Dr.\n",
            "Haathi  |  PROPN  |  Haathi\n",
            "ate  |  VERB  |  eat\n",
            "samosas  |  NOUN  |  samosa\n",
            "for  |  ADP  |  for\n",
            "100  |  NUM  |  100\n",
            "$  |  NUM  |  $\n",
            ".  |  PUNCT  |  .\n",
            "He  |  PRON  |  he\n",
            "then  |  ADV  |  then\n",
            "said  |  VERB  |  say\n",
            "he  |  PRON  |  he\n",
            "is  |  AUX  |  be\n",
            "still  |  ADV  |  still\n",
            "hungry  |  ADJ  |  hungry\n",
            ".  |  PUNCT  |  .\n"
          ]
        }
      ]
    },
    {
      "cell_type": "code",
      "source": [
        "#NER\n",
        "for ent in doc.ents:\n",
        "  print(ent.text, \" | \", ent.label_, \" | \", spacy.explain(ent.label_))"
      ],
      "metadata": {
        "colab": {
          "base_uri": "https://localhost:8080/"
        },
        "id": "ej4BCxzGBWKn",
        "outputId": "e52636f6-6a8d-44b8-8b32-feeec9c6338d"
      },
      "execution_count": 38,
      "outputs": [
        {
          "output_type": "stream",
          "name": "stdout",
          "text": [
            "Haathi  |  PERSON  |  People, including fictional\n",
            "100$  |  MONEY  |  Monetary values, including unit\n"
          ]
        }
      ]
    },
    {
      "cell_type": "code",
      "source": [
        "from spacy import displacy\n",
        "displacy.render(doc, style=\"ent\")"
      ],
      "metadata": {
        "colab": {
          "base_uri": "https://localhost:8080/",
          "height": 52
        },
        "id": "Vz_y4KwpBlyn",
        "outputId": "252fc553-d92e-409e-ecb0-af4319555c0a"
      },
      "execution_count": 39,
      "outputs": [
        {
          "output_type": "display_data",
          "data": {
            "text/plain": [
              "<IPython.core.display.HTML object>"
            ],
            "text/html": [
              "<span class=\"tex2jax_ignore\"><div class=\"entities\" style=\"line-height: 2.5; direction: ltr\">Dr. \n",
              "<mark class=\"entity\" style=\"background: #aa9cfc; padding: 0.45em 0.6em; margin: 0 0.25em; line-height: 1; border-radius: 0.35em;\">\n",
              "    Haathi\n",
              "    <span style=\"font-size: 0.8em; font-weight: bold; line-height: 1; border-radius: 0.35em; vertical-align: middle; margin-left: 0.5rem\">PERSON</span>\n",
              "</mark>\n",
              " ate samosas for \n",
              "<mark class=\"entity\" style=\"background: #e4e7d2; padding: 0.45em 0.6em; margin: 0 0.25em; line-height: 1; border-radius: 0.35em;\">\n",
              "    100$\n",
              "    <span style=\"font-size: 0.8em; font-weight: bold; line-height: 1; border-radius: 0.35em; vertical-align: middle; margin-left: 0.5rem\">MONEY</span>\n",
              "</mark>\n",
              " . He then said he is still hungry.</div></span>"
            ]
          },
          "metadata": {}
        }
      ]
    },
    {
      "cell_type": "code",
      "source": [
        "#To add only NER component in the pipeline\n",
        "source_nlp = spacy.load(\"en_core_web_sm\")\n",
        "nlp = spacy.blank(\"en\")\n",
        "nlp.add_pipe(\"ner\", source=source_nlp)\n",
        "nlp.pipe_names"
      ],
      "metadata": {
        "colab": {
          "base_uri": "https://localhost:8080/"
        },
        "id": "gNlg9Tx3EOwf",
        "outputId": "4c3d4a15-76b5-44f1-c459-de7b2ff023ad"
      },
      "execution_count": 40,
      "outputs": [
        {
          "output_type": "execute_result",
          "data": {
            "text/plain": [
              "['ner']"
            ]
          },
          "metadata": {},
          "execution_count": 40
        }
      ]
    },
    {
      "cell_type": "markdown",
      "source": [
        "Stemming and Lematization"
      ],
      "metadata": {
        "id": "PxJFAiR9RZ7e"
      }
    },
    {
      "cell_type": "code",
      "source": [
        "#Spacy doesn't support stemming\n",
        "\n",
        "import nltk\n",
        "import spacy\n",
        "from nltk.stem import PorterStemmer, SnowballStemmer\n",
        "\n",
        "stemmer = PorterStemmer()\n",
        "\n",
        "words = [\"eating\", \"eats\", \"eat\", \"ate\", \"Adjustable\", \"rafting\", \"ability\", \"meeting\"]\n",
        "for word in words:\n",
        "  print(word, \" | \", stemmer.stem(word))"
      ],
      "metadata": {
        "colab": {
          "base_uri": "https://localhost:8080/"
        },
        "id": "AFB5NvtjEt2X",
        "outputId": "0d00491d-4b41-44db-a1ba-1fddd004dcb2"
      },
      "execution_count": 2,
      "outputs": [
        {
          "output_type": "stream",
          "name": "stdout",
          "text": [
            "eating  |  eat\n",
            "eats  |  eat\n",
            "eat  |  eat\n",
            "ate  |  ate\n",
            "Adjustable  |  adjust\n",
            "rafting  |  raft\n",
            "ability  |  abil\n",
            "meeting  |  meet\n"
          ]
        }
      ]
    },
    {
      "cell_type": "code",
      "source": [
        "nlp = spacy.load(\"en_core_web_sm\")\n",
        "doc = nlp(\"eating eats eat ate Adjustable rafting ability meeting\")\n",
        "for token in doc:\n",
        "  print(token.text, \" | \", token.lemma_)"
      ],
      "metadata": {
        "colab": {
          "base_uri": "https://localhost:8080/"
        },
        "id": "m4w-LaJkTDak",
        "outputId": "0009e8bd-7788-495e-d539-654b6d6a7729"
      },
      "execution_count": 3,
      "outputs": [
        {
          "output_type": "stream",
          "name": "stdout",
          "text": [
            "eating  |  eat\n",
            "eats  |  eat\n",
            "eat  |  eat\n",
            "ate  |  eat\n",
            "Adjustable  |  adjustable\n",
            "rafting  |  raft\n",
            "ability  |  ability\n",
            "meeting  |  meeting\n"
          ]
        }
      ]
    },
    {
      "cell_type": "code",
      "source": [
        "doc = nlp(\"The quick brown foxes were jumping over the lazy dogs, but the leaping cat remained unmoved, watching them quietly.\")\n",
        "for token in doc:\n",
        "  print(token.text, \" | \", token.lemma_)"
      ],
      "metadata": {
        "colab": {
          "base_uri": "https://localhost:8080/"
        },
        "id": "pzfq-6WEVnmq",
        "outputId": "15d2e767-95f2-47b6-f2df-137607faa524"
      },
      "execution_count": 4,
      "outputs": [
        {
          "output_type": "stream",
          "name": "stdout",
          "text": [
            "The  |  the\n",
            "quick  |  quick\n",
            "brown  |  brown\n",
            "foxes  |  fox\n",
            "were  |  be\n",
            "jumping  |  jump\n",
            "over  |  over\n",
            "the  |  the\n",
            "lazy  |  lazy\n",
            "dogs  |  dog\n",
            ",  |  ,\n",
            "but  |  but\n",
            "the  |  the\n",
            "leaping  |  leap\n",
            "cat  |  cat\n",
            "remained  |  remain\n",
            "unmoved  |  unmoved\n",
            ",  |  ,\n",
            "watching  |  watch\n",
            "them  |  they\n",
            "quietly  |  quietly\n",
            ".  |  .\n"
          ]
        }
      ]
    },
    {
      "cell_type": "code",
      "source": [
        "#Adding custom rules to the lematization model\n",
        "\n",
        "ar = nlp.get_pipe (\"attribute_ruler\")\n",
        "ar.add([[{\"TEXT\" : \"Bro\"}], [{\"TEXT\" : \"Brah\"}]], { \"LEMMA\" : \"Brother\" })\n",
        "doc = nlp(\"Bro! Where are you going? Lets dance Brah!\")\n",
        "for token in doc:\n",
        "  print(token.text, \" | \", token.lemma_)"
      ],
      "metadata": {
        "colab": {
          "base_uri": "https://localhost:8080/"
        },
        "id": "JKwjhLP0Wt4a",
        "outputId": "ecf17737-0fea-4bb5-a629-74824309d2d0"
      },
      "execution_count": 9,
      "outputs": [
        {
          "output_type": "stream",
          "name": "stdout",
          "text": [
            "Bro  |  Brother\n",
            "!  |  !\n",
            "Where  |  where\n",
            "are  |  be\n",
            "you  |  you\n",
            "going  |  go\n",
            "?  |  ?\n",
            "Lets  |  let\n",
            "dance  |  dance\n",
            "Brah  |  Brother\n",
            "!  |  !\n"
          ]
        }
      ]
    },
    {
      "cell_type": "markdown",
      "source": [
        "POS Tagging"
      ],
      "metadata": {
        "id": "reAN4OxUcoM7"
      }
    },
    {
      "cell_type": "code",
      "source": [
        "nlp = spacy.load(name=\"en_core_web_sm\")\n",
        "doc = nlp(\"Elon Musk flew to Mars yesterday. He carried a lot of biryani with him.\")\n",
        "for token in doc:\n",
        "  print(token.text, \" | \", token.pos_, \" | \", spacy.explain(token.pos_), \" | \", token.tag_, \" | \", spacy.explain(token.tag_))"
      ],
      "metadata": {
        "colab": {
          "base_uri": "https://localhost:8080/"
        },
        "id": "k0-7_b1bZSl9",
        "outputId": "01020fd6-c7f6-4f39-d69a-365d6dd8654b"
      },
      "execution_count": 11,
      "outputs": [
        {
          "output_type": "stream",
          "name": "stdout",
          "text": [
            "Elon  |  PROPN  |  proper noun  |  NNP  |  noun, proper singular\n",
            "Musk  |  PROPN  |  proper noun  |  NNP  |  noun, proper singular\n",
            "flew  |  VERB  |  verb  |  VBD  |  verb, past tense\n",
            "to  |  ADP  |  adposition  |  IN  |  conjunction, subordinating or preposition\n",
            "Mars  |  PROPN  |  proper noun  |  NNP  |  noun, proper singular\n",
            "yesterday  |  NOUN  |  noun  |  NN  |  noun, singular or mass\n",
            ".  |  PUNCT  |  punctuation  |  .  |  punctuation mark, sentence closer\n",
            "He  |  PRON  |  pronoun  |  PRP  |  pronoun, personal\n",
            "carried  |  VERB  |  verb  |  VBD  |  verb, past tense\n",
            "a  |  DET  |  determiner  |  DT  |  determiner\n",
            "lot  |  NOUN  |  noun  |  NN  |  noun, singular or mass\n",
            "of  |  ADP  |  adposition  |  IN  |  conjunction, subordinating or preposition\n",
            "biryani  |  NOUN  |  noun  |  NN  |  noun, singular or mass\n",
            "with  |  ADP  |  adposition  |  IN  |  conjunction, subordinating or preposition\n",
            "him  |  PRON  |  pronoun  |  PRP  |  pronoun, personal\n",
            ".  |  PUNCT  |  punctuation  |  .  |  punctuation mark, sentence closer\n"
          ]
        }
      ]
    },
    {
      "cell_type": "code",
      "source": [
        "count = doc.count_by(spacy.attrs.POS)\n",
        "print(count)\n",
        "print(doc.vocab[96].text, doc.vocab[100].text, doc.vocab[85].text)"
      ],
      "metadata": {
        "colab": {
          "base_uri": "https://localhost:8080/"
        },
        "id": "oJIJXigugdYw",
        "outputId": "b51eeb22-b193-4207-d22a-0199df078b10"
      },
      "execution_count": 13,
      "outputs": [
        {
          "output_type": "stream",
          "name": "stdout",
          "text": [
            "{96: 3, 100: 2, 85: 3, 92: 3, 97: 2, 95: 2, 90: 1}\n",
            "PROPN VERB ADP\n"
          ]
        }
      ]
    },
    {
      "cell_type": "markdown",
      "source": [
        "Named Entity Recognition - NER"
      ],
      "metadata": {
        "id": "LgJcCcIsbG_q"
      }
    },
    {
      "cell_type": "code",
      "source": [
        "import spacy\n",
        "nlp = spacy.load(\"en_core_web_sm\")\n",
        "\n",
        "nlp.pipe_names"
      ],
      "metadata": {
        "colab": {
          "base_uri": "https://localhost:8080/"
        },
        "id": "2DrxCmPTbLkU",
        "outputId": "63593c2b-b513-43c1-88f8-848d63345739"
      },
      "execution_count": 2,
      "outputs": [
        {
          "output_type": "execute_result",
          "data": {
            "text/plain": [
              "['tok2vec', 'tagger', 'parser', 'attribute_ruler', 'lemmatizer', 'ner']"
            ]
          },
          "metadata": {},
          "execution_count": 2
        }
      ]
    },
    {
      "cell_type": "code",
      "source": [
        "doc = nlp(\"Elon Musk is going to acquire Twitter for $45 billion.\")\n",
        "\n",
        "for ent in doc.ents:\n",
        "  print(ent.text, \" | \", ent.label_, \" | \", spacy.explain(ent.label_))"
      ],
      "metadata": {
        "colab": {
          "base_uri": "https://localhost:8080/"
        },
        "id": "zU1C1sJGc1Qm",
        "outputId": "42e34107-94fd-43f5-c21e-0019887a3df9"
      },
      "execution_count": 4,
      "outputs": [
        {
          "output_type": "stream",
          "name": "stdout",
          "text": [
            "Elon Musk  |  PERSON  |  People, including fictional\n",
            "Twitter  |  PRODUCT  |  Objects, vehicles, foods, etc. (not services)\n",
            "$45 billion  |  MONEY  |  Monetary values, including unit\n"
          ]
        }
      ]
    },
    {
      "cell_type": "code",
      "source": [
        "from spacy import displacy\n",
        "displacy.render(doc, style=\"ent\")"
      ],
      "metadata": {
        "colab": {
          "base_uri": "https://localhost:8080/",
          "height": 52
        },
        "id": "xVbqzb32dMsm",
        "outputId": "c369f791-f8e3-45d9-ed67-d4343a000d80"
      },
      "execution_count": 5,
      "outputs": [
        {
          "output_type": "display_data",
          "data": {
            "text/plain": [
              "<IPython.core.display.HTML object>"
            ],
            "text/html": [
              "<span class=\"tex2jax_ignore\"><div class=\"entities\" style=\"line-height: 2.5; direction: ltr\">\n",
              "<mark class=\"entity\" style=\"background: #aa9cfc; padding: 0.45em 0.6em; margin: 0 0.25em; line-height: 1; border-radius: 0.35em;\">\n",
              "    Elon Musk\n",
              "    <span style=\"font-size: 0.8em; font-weight: bold; line-height: 1; border-radius: 0.35em; vertical-align: middle; margin-left: 0.5rem\">PERSON</span>\n",
              "</mark>\n",
              " is going to acquire \n",
              "<mark class=\"entity\" style=\"background: #bfeeb7; padding: 0.45em 0.6em; margin: 0 0.25em; line-height: 1; border-radius: 0.35em;\">\n",
              "    Twitter\n",
              "    <span style=\"font-size: 0.8em; font-weight: bold; line-height: 1; border-radius: 0.35em; vertical-align: middle; margin-left: 0.5rem\">PRODUCT</span>\n",
              "</mark>\n",
              " for \n",
              "<mark class=\"entity\" style=\"background: #e4e7d2; padding: 0.45em 0.6em; margin: 0 0.25em; line-height: 1; border-radius: 0.35em;\">\n",
              "    $45 billion\n",
              "    <span style=\"font-size: 0.8em; font-weight: bold; line-height: 1; border-radius: 0.35em; vertical-align: middle; margin-left: 0.5rem\">MONEY</span>\n",
              "</mark>\n",
              ".</div></span>"
            ]
          },
          "metadata": {}
        }
      ]
    },
    {
      "cell_type": "code",
      "source": [
        "nlp.pipe_labels[\"ner\"]"
      ],
      "metadata": {
        "colab": {
          "base_uri": "https://localhost:8080/"
        },
        "id": "RLohVgPzdvFv",
        "outputId": "51e1b018-5cec-4c97-8f17-09d420e1a448"
      },
      "execution_count": 6,
      "outputs": [
        {
          "output_type": "execute_result",
          "data": {
            "text/plain": [
              "['CARDINAL',\n",
              " 'DATE',\n",
              " 'EVENT',\n",
              " 'FAC',\n",
              " 'GPE',\n",
              " 'LANGUAGE',\n",
              " 'LAW',\n",
              " 'LOC',\n",
              " 'MONEY',\n",
              " 'NORP',\n",
              " 'ORDINAL',\n",
              " 'ORG',\n",
              " 'PERCENT',\n",
              " 'PERSON',\n",
              " 'PRODUCT',\n",
              " 'QUANTITY',\n",
              " 'TIME',\n",
              " 'WORK_OF_ART']"
            ]
          },
          "metadata": {},
          "execution_count": 6
        }
      ]
    },
    {
      "cell_type": "code",
      "source": [
        "doc = nlp(\"Tesla is going to acquire Twitter for $45 billion.\")\n",
        "for ent in doc.ents:\n",
        "  print(ent.text, \" | \", ent.label_, \" | \", spacy.explain(ent.label_))"
      ],
      "metadata": {
        "colab": {
          "base_uri": "https://localhost:8080/"
        },
        "id": "8ECxS6fSeAxc",
        "outputId": "ec9268c4-a8e6-4103-820f-0e1a9c7a1a76"
      },
      "execution_count": 7,
      "outputs": [
        {
          "output_type": "stream",
          "name": "stdout",
          "text": [
            "Tesla  |  ORG  |  Companies, agencies, institutions, etc.\n",
            "Twitter  |  PRODUCT  |  Objects, vehicles, foods, etc. (not services)\n",
            "$45 billion  |  MONEY  |  Monetary values, including unit\n"
          ]
        }
      ]
    },
    {
      "cell_type": "code",
      "source": [
        "# Span class is like a list of token class elements\n",
        "#Customize the Entity Name for special cases\n",
        "from spacy.tokens import Span\n",
        "\n",
        "s1 = Span(doc, 0, 1, label=\"ORG\")\n",
        "s2 = Span(doc, 5, 6, label=\"ORG\")\n",
        "doc.set_ents([s1, s2], default=\"unmodified\")"
      ],
      "metadata": {
        "id": "1J1L2qCBgnNe"
      },
      "execution_count": 8,
      "outputs": []
    },
    {
      "cell_type": "code",
      "source": [
        "for ent in doc.ents:\n",
        "  print(ent.text, \" | \", ent.label_, \" | \", spacy.explain(ent.label_))"
      ],
      "metadata": {
        "colab": {
          "base_uri": "https://localhost:8080/"
        },
        "id": "kjSs951ap9s9",
        "outputId": "edc1c140-990a-44a0-f501-d0e636e4e275"
      },
      "execution_count": 9,
      "outputs": [
        {
          "output_type": "stream",
          "name": "stdout",
          "text": [
            "Tesla  |  ORG  |  Companies, agencies, institutions, etc.\n",
            "Twitter  |  ORG  |  Companies, agencies, institutions, etc.\n",
            "$45 billion  |  MONEY  |  Monetary values, including unit\n"
          ]
        }
      ]
    },
    {
      "cell_type": "code",
      "source": [
        "#How to build my own NER\n",
        "'''#Approach 1 : Simple Lookup\n",
        "Maintain a database of all the entities - Name, Country, Location,.... and it will map any occurrence from there. This doesn't involve NLP.'''\n",
        "\n",
        "'''#Approach 2 : Rule based NER\n",
        "Eg. XYZ Inc is ORG, Regex based rules etc.\n",
        "Ref - https://ner.pythonhumanities.com/02_01_spaCy_Entity_Ruler.html'''\n",
        "\n",
        "'''#Approach 3 : Machine Learning - CRF-Conditional Random Fields , BERT'''\n"
      ],
      "metadata": {
        "id": "1pkk_cViqJlQ"
      },
      "execution_count": null,
      "outputs": []
    },
    {
      "cell_type": "markdown",
      "source": [
        "Stop Words"
      ],
      "metadata": {
        "id": "VQJDrTUQ2The"
      }
    },
    {
      "cell_type": "code",
      "source": [
        "import spacy\n",
        "from spacy.lang.en.stop_words import STOP_WORDS\n",
        "\n",
        "STOP_WORDS"
      ],
      "metadata": {
        "colab": {
          "base_uri": "https://localhost:8080/"
        },
        "collapsed": true,
        "id": "HUE2XQcm44FD",
        "outputId": "208b8ae5-ff09-417e-e5ed-2e76b669709e"
      },
      "execution_count": 6,
      "outputs": [
        {
          "output_type": "execute_result",
          "data": {
            "text/plain": [
              "{\"'d\",\n",
              " \"'ll\",\n",
              " \"'m\",\n",
              " \"'re\",\n",
              " \"'s\",\n",
              " \"'ve\",\n",
              " 'a',\n",
              " 'about',\n",
              " 'above',\n",
              " 'across',\n",
              " 'after',\n",
              " 'afterwards',\n",
              " 'again',\n",
              " 'against',\n",
              " 'all',\n",
              " 'almost',\n",
              " 'alone',\n",
              " 'along',\n",
              " 'already',\n",
              " 'also',\n",
              " 'although',\n",
              " 'always',\n",
              " 'am',\n",
              " 'among',\n",
              " 'amongst',\n",
              " 'amount',\n",
              " 'an',\n",
              " 'and',\n",
              " 'another',\n",
              " 'any',\n",
              " 'anyhow',\n",
              " 'anyone',\n",
              " 'anything',\n",
              " 'anyway',\n",
              " 'anywhere',\n",
              " 'are',\n",
              " 'around',\n",
              " 'as',\n",
              " 'at',\n",
              " 'back',\n",
              " 'be',\n",
              " 'became',\n",
              " 'because',\n",
              " 'become',\n",
              " 'becomes',\n",
              " 'becoming',\n",
              " 'been',\n",
              " 'before',\n",
              " 'beforehand',\n",
              " 'behind',\n",
              " 'being',\n",
              " 'below',\n",
              " 'beside',\n",
              " 'besides',\n",
              " 'between',\n",
              " 'beyond',\n",
              " 'both',\n",
              " 'bottom',\n",
              " 'but',\n",
              " 'by',\n",
              " 'ca',\n",
              " 'call',\n",
              " 'can',\n",
              " 'cannot',\n",
              " 'could',\n",
              " 'did',\n",
              " 'do',\n",
              " 'does',\n",
              " 'doing',\n",
              " 'done',\n",
              " 'down',\n",
              " 'due',\n",
              " 'during',\n",
              " 'each',\n",
              " 'eight',\n",
              " 'either',\n",
              " 'eleven',\n",
              " 'else',\n",
              " 'elsewhere',\n",
              " 'empty',\n",
              " 'enough',\n",
              " 'even',\n",
              " 'ever',\n",
              " 'every',\n",
              " 'everyone',\n",
              " 'everything',\n",
              " 'everywhere',\n",
              " 'except',\n",
              " 'few',\n",
              " 'fifteen',\n",
              " 'fifty',\n",
              " 'first',\n",
              " 'five',\n",
              " 'for',\n",
              " 'former',\n",
              " 'formerly',\n",
              " 'forty',\n",
              " 'four',\n",
              " 'from',\n",
              " 'front',\n",
              " 'full',\n",
              " 'further',\n",
              " 'get',\n",
              " 'give',\n",
              " 'go',\n",
              " 'had',\n",
              " 'has',\n",
              " 'have',\n",
              " 'he',\n",
              " 'hence',\n",
              " 'her',\n",
              " 'here',\n",
              " 'hereafter',\n",
              " 'hereby',\n",
              " 'herein',\n",
              " 'hereupon',\n",
              " 'hers',\n",
              " 'herself',\n",
              " 'him',\n",
              " 'himself',\n",
              " 'his',\n",
              " 'how',\n",
              " 'however',\n",
              " 'hundred',\n",
              " 'i',\n",
              " 'if',\n",
              " 'in',\n",
              " 'indeed',\n",
              " 'into',\n",
              " 'is',\n",
              " 'it',\n",
              " 'its',\n",
              " 'itself',\n",
              " 'just',\n",
              " 'keep',\n",
              " 'last',\n",
              " 'latter',\n",
              " 'latterly',\n",
              " 'least',\n",
              " 'less',\n",
              " 'made',\n",
              " 'make',\n",
              " 'many',\n",
              " 'may',\n",
              " 'me',\n",
              " 'meanwhile',\n",
              " 'might',\n",
              " 'mine',\n",
              " 'more',\n",
              " 'moreover',\n",
              " 'most',\n",
              " 'mostly',\n",
              " 'move',\n",
              " 'much',\n",
              " 'must',\n",
              " 'my',\n",
              " 'myself',\n",
              " \"n't\",\n",
              " 'name',\n",
              " 'namely',\n",
              " 'neither',\n",
              " 'never',\n",
              " 'nevertheless',\n",
              " 'next',\n",
              " 'nine',\n",
              " 'no',\n",
              " 'nobody',\n",
              " 'none',\n",
              " 'noone',\n",
              " 'nor',\n",
              " 'not',\n",
              " 'nothing',\n",
              " 'now',\n",
              " 'nowhere',\n",
              " 'n‘t',\n",
              " 'n’t',\n",
              " 'of',\n",
              " 'off',\n",
              " 'often',\n",
              " 'on',\n",
              " 'once',\n",
              " 'one',\n",
              " 'only',\n",
              " 'onto',\n",
              " 'or',\n",
              " 'other',\n",
              " 'others',\n",
              " 'otherwise',\n",
              " 'our',\n",
              " 'ours',\n",
              " 'ourselves',\n",
              " 'out',\n",
              " 'over',\n",
              " 'own',\n",
              " 'part',\n",
              " 'per',\n",
              " 'perhaps',\n",
              " 'please',\n",
              " 'put',\n",
              " 'quite',\n",
              " 'rather',\n",
              " 're',\n",
              " 'really',\n",
              " 'regarding',\n",
              " 'same',\n",
              " 'say',\n",
              " 'see',\n",
              " 'seem',\n",
              " 'seemed',\n",
              " 'seeming',\n",
              " 'seems',\n",
              " 'serious',\n",
              " 'several',\n",
              " 'she',\n",
              " 'should',\n",
              " 'show',\n",
              " 'side',\n",
              " 'since',\n",
              " 'six',\n",
              " 'sixty',\n",
              " 'so',\n",
              " 'some',\n",
              " 'somehow',\n",
              " 'someone',\n",
              " 'something',\n",
              " 'sometime',\n",
              " 'sometimes',\n",
              " 'somewhere',\n",
              " 'still',\n",
              " 'such',\n",
              " 'take',\n",
              " 'ten',\n",
              " 'than',\n",
              " 'that',\n",
              " 'the',\n",
              " 'their',\n",
              " 'them',\n",
              " 'themselves',\n",
              " 'then',\n",
              " 'thence',\n",
              " 'there',\n",
              " 'thereafter',\n",
              " 'thereby',\n",
              " 'therefore',\n",
              " 'therein',\n",
              " 'thereupon',\n",
              " 'these',\n",
              " 'they',\n",
              " 'third',\n",
              " 'this',\n",
              " 'those',\n",
              " 'though',\n",
              " 'three',\n",
              " 'through',\n",
              " 'throughout',\n",
              " 'thru',\n",
              " 'thus',\n",
              " 'to',\n",
              " 'together',\n",
              " 'too',\n",
              " 'top',\n",
              " 'toward',\n",
              " 'towards',\n",
              " 'twelve',\n",
              " 'twenty',\n",
              " 'two',\n",
              " 'under',\n",
              " 'unless',\n",
              " 'until',\n",
              " 'up',\n",
              " 'upon',\n",
              " 'us',\n",
              " 'used',\n",
              " 'using',\n",
              " 'various',\n",
              " 'very',\n",
              " 'via',\n",
              " 'was',\n",
              " 'we',\n",
              " 'well',\n",
              " 'were',\n",
              " 'what',\n",
              " 'whatever',\n",
              " 'when',\n",
              " 'whence',\n",
              " 'whenever',\n",
              " 'where',\n",
              " 'whereafter',\n",
              " 'whereas',\n",
              " 'whereby',\n",
              " 'wherein',\n",
              " 'whereupon',\n",
              " 'wherever',\n",
              " 'whether',\n",
              " 'which',\n",
              " 'while',\n",
              " 'whither',\n",
              " 'who',\n",
              " 'whoever',\n",
              " 'whole',\n",
              " 'whom',\n",
              " 'whose',\n",
              " 'why',\n",
              " 'will',\n",
              " 'with',\n",
              " 'within',\n",
              " 'without',\n",
              " 'would',\n",
              " 'yet',\n",
              " 'you',\n",
              " 'your',\n",
              " 'yours',\n",
              " 'yourself',\n",
              " 'yourselves',\n",
              " '‘d',\n",
              " '‘ll',\n",
              " '‘m',\n",
              " '‘re',\n",
              " '‘s',\n",
              " '‘ve',\n",
              " '’d',\n",
              " '’ll',\n",
              " '’m',\n",
              " '’re',\n",
              " '’s',\n",
              " '’ve'}"
            ]
          },
          "metadata": {},
          "execution_count": 6
        }
      ]
    },
    {
      "cell_type": "code",
      "source": [
        "nlp = spacy.load(\"en_core_web_sm\")\n",
        "doc = nlp(\"Elon Musk is going to acquire Twitter for $45 billion. The other one is not other but your divine brother.\")\n",
        "for token in doc:\n",
        "  if token.is_stop:\n",
        "    print(token.text)"
      ],
      "metadata": {
        "colab": {
          "base_uri": "https://localhost:8080/"
        },
        "id": "rtNVNwCC5ILH",
        "outputId": "df27ce6d-c3dc-4a41-83cd-58abd0a7a975"
      },
      "execution_count": 7,
      "outputs": [
        {
          "output_type": "stream",
          "name": "stdout",
          "text": [
            "is\n",
            "to\n",
            "for\n",
            "The\n",
            "other\n",
            "one\n",
            "is\n",
            "not\n",
            "other\n",
            "but\n",
            "your\n"
          ]
        }
      ]
    },
    {
      "cell_type": "code",
      "source": [
        "print([token.text for token in doc if token.is_stop])"
      ],
      "metadata": {
        "colab": {
          "base_uri": "https://localhost:8080/"
        },
        "id": "QbT2o6DFjsa1",
        "outputId": "4e2b0f33-9dae-44e7-9813-87eb54f734eb"
      },
      "execution_count": 14,
      "outputs": [
        {
          "output_type": "stream",
          "name": "stdout",
          "text": [
            "['is', 'to', 'for', 'The', 'other', 'one', 'is', 'not', 'other', 'but', 'your']\n"
          ]
        }
      ]
    },
    {
      "cell_type": "code",
      "source": [
        "import spacy\n",
        "nlp = spacy.load(\"en_core_web_sm\")\n",
        "def preprocess(text):\n",
        "  doc = nlp(text)\n",
        "  '''  tokens = []\n",
        "  for token in doc:\n",
        "    if token.is_stop:\n",
        "      continue\n",
        "    tokens.append(token.lemma_)\n",
        "  return \" \".join(tokens)'''\n",
        "  clean_text = [token.lemma_ for token in doc if not token.is_stop and not token.is_punct]\n",
        "  return ' '.join(clean_text)\n",
        "\n",
        "#preprocess(doc)"
      ],
      "metadata": {
        "id": "9QO2X5YW8Qzc"
      },
      "execution_count": 5,
      "outputs": []
    },
    {
      "cell_type": "code",
      "source": [
        "df_train['preprocessed_text'] = df_train['text'].apply(preprocess)"
      ],
      "metadata": {
        "id": "rccoI7OB96-3"
      },
      "execution_count": 6,
      "outputs": []
    },
    {
      "cell_type": "code",
      "source": [
        "df_test['preprocessed_text'] = df_test['text'].apply(preprocess)"
      ],
      "metadata": {
        "id": "CEZBUkQBk8of"
      },
      "execution_count": 7,
      "outputs": []
    },
    {
      "cell_type": "code",
      "source": [
        "df_train.head()"
      ],
      "metadata": {
        "colab": {
          "base_uri": "https://localhost:8080/",
          "height": 206
        },
        "id": "Ua_kYrv3kem1",
        "outputId": "3eb553ac-2bc1-473e-c02e-67b087be33dd"
      },
      "execution_count": 8,
      "outputs": [
        {
          "output_type": "execute_result",
          "data": {
            "text/plain": [
              "   id keyword location                                               text  \\\n",
              "0   1     NaN      NaN  Our Deeds are the Reason of this #earthquake M...   \n",
              "1   4     NaN      NaN             Forest fire near La Ronge Sask. Canada   \n",
              "2   5     NaN      NaN  All residents asked to 'shelter in place' are ...   \n",
              "3   6     NaN      NaN  13,000 people receive #wildfires evacuation or...   \n",
              "4   7     NaN      NaN  Just got sent this photo from Ruby #Alaska as ...   \n",
              "\n",
              "   target                                  preprocessed_text  \n",
              "0       1               deed Reason earthquake ALLAH forgive  \n",
              "1       1              forest fire near La Ronge Sask Canada  \n",
              "2       1  resident ask shelter place notify officer evac...  \n",
              "3       1  13,000 people receive wildfire evacuation orde...  \n",
              "4       1  get send photo Ruby Alaska smoke wildfire pour...  "
            ],
            "text/html": [
              "\n",
              "  <div id=\"df-fa62fafb-00f5-4139-be77-6741516e00db\" class=\"colab-df-container\">\n",
              "    <div>\n",
              "<style scoped>\n",
              "    .dataframe tbody tr th:only-of-type {\n",
              "        vertical-align: middle;\n",
              "    }\n",
              "\n",
              "    .dataframe tbody tr th {\n",
              "        vertical-align: top;\n",
              "    }\n",
              "\n",
              "    .dataframe thead th {\n",
              "        text-align: right;\n",
              "    }\n",
              "</style>\n",
              "<table border=\"1\" class=\"dataframe\">\n",
              "  <thead>\n",
              "    <tr style=\"text-align: right;\">\n",
              "      <th></th>\n",
              "      <th>id</th>\n",
              "      <th>keyword</th>\n",
              "      <th>location</th>\n",
              "      <th>text</th>\n",
              "      <th>target</th>\n",
              "      <th>preprocessed_text</th>\n",
              "    </tr>\n",
              "  </thead>\n",
              "  <tbody>\n",
              "    <tr>\n",
              "      <th>0</th>\n",
              "      <td>1</td>\n",
              "      <td>NaN</td>\n",
              "      <td>NaN</td>\n",
              "      <td>Our Deeds are the Reason of this #earthquake M...</td>\n",
              "      <td>1</td>\n",
              "      <td>deed Reason earthquake ALLAH forgive</td>\n",
              "    </tr>\n",
              "    <tr>\n",
              "      <th>1</th>\n",
              "      <td>4</td>\n",
              "      <td>NaN</td>\n",
              "      <td>NaN</td>\n",
              "      <td>Forest fire near La Ronge Sask. Canada</td>\n",
              "      <td>1</td>\n",
              "      <td>forest fire near La Ronge Sask Canada</td>\n",
              "    </tr>\n",
              "    <tr>\n",
              "      <th>2</th>\n",
              "      <td>5</td>\n",
              "      <td>NaN</td>\n",
              "      <td>NaN</td>\n",
              "      <td>All residents asked to 'shelter in place' are ...</td>\n",
              "      <td>1</td>\n",
              "      <td>resident ask shelter place notify officer evac...</td>\n",
              "    </tr>\n",
              "    <tr>\n",
              "      <th>3</th>\n",
              "      <td>6</td>\n",
              "      <td>NaN</td>\n",
              "      <td>NaN</td>\n",
              "      <td>13,000 people receive #wildfires evacuation or...</td>\n",
              "      <td>1</td>\n",
              "      <td>13,000 people receive wildfire evacuation orde...</td>\n",
              "    </tr>\n",
              "    <tr>\n",
              "      <th>4</th>\n",
              "      <td>7</td>\n",
              "      <td>NaN</td>\n",
              "      <td>NaN</td>\n",
              "      <td>Just got sent this photo from Ruby #Alaska as ...</td>\n",
              "      <td>1</td>\n",
              "      <td>get send photo Ruby Alaska smoke wildfire pour...</td>\n",
              "    </tr>\n",
              "  </tbody>\n",
              "</table>\n",
              "</div>\n",
              "    <div class=\"colab-df-buttons\">\n",
              "\n",
              "  <div class=\"colab-df-container\">\n",
              "    <button class=\"colab-df-convert\" onclick=\"convertToInteractive('df-fa62fafb-00f5-4139-be77-6741516e00db')\"\n",
              "            title=\"Convert this dataframe to an interactive table.\"\n",
              "            style=\"display:none;\">\n",
              "\n",
              "  <svg xmlns=\"http://www.w3.org/2000/svg\" height=\"24px\" viewBox=\"0 -960 960 960\">\n",
              "    <path d=\"M120-120v-720h720v720H120Zm60-500h600v-160H180v160Zm220 220h160v-160H400v160Zm0 220h160v-160H400v160ZM180-400h160v-160H180v160Zm440 0h160v-160H620v160ZM180-180h160v-160H180v160Zm440 0h160v-160H620v160Z\"/>\n",
              "  </svg>\n",
              "    </button>\n",
              "\n",
              "  <style>\n",
              "    .colab-df-container {\n",
              "      display:flex;\n",
              "      gap: 12px;\n",
              "    }\n",
              "\n",
              "    .colab-df-convert {\n",
              "      background-color: #E8F0FE;\n",
              "      border: none;\n",
              "      border-radius: 50%;\n",
              "      cursor: pointer;\n",
              "      display: none;\n",
              "      fill: #1967D2;\n",
              "      height: 32px;\n",
              "      padding: 0 0 0 0;\n",
              "      width: 32px;\n",
              "    }\n",
              "\n",
              "    .colab-df-convert:hover {\n",
              "      background-color: #E2EBFA;\n",
              "      box-shadow: 0px 1px 2px rgba(60, 64, 67, 0.3), 0px 1px 3px 1px rgba(60, 64, 67, 0.15);\n",
              "      fill: #174EA6;\n",
              "    }\n",
              "\n",
              "    .colab-df-buttons div {\n",
              "      margin-bottom: 4px;\n",
              "    }\n",
              "\n",
              "    [theme=dark] .colab-df-convert {\n",
              "      background-color: #3B4455;\n",
              "      fill: #D2E3FC;\n",
              "    }\n",
              "\n",
              "    [theme=dark] .colab-df-convert:hover {\n",
              "      background-color: #434B5C;\n",
              "      box-shadow: 0px 1px 3px 1px rgba(0, 0, 0, 0.15);\n",
              "      filter: drop-shadow(0px 1px 2px rgba(0, 0, 0, 0.3));\n",
              "      fill: #FFFFFF;\n",
              "    }\n",
              "  </style>\n",
              "\n",
              "    <script>\n",
              "      const buttonEl =\n",
              "        document.querySelector('#df-fa62fafb-00f5-4139-be77-6741516e00db button.colab-df-convert');\n",
              "      buttonEl.style.display =\n",
              "        google.colab.kernel.accessAllowed ? 'block' : 'none';\n",
              "\n",
              "      async function convertToInteractive(key) {\n",
              "        const element = document.querySelector('#df-fa62fafb-00f5-4139-be77-6741516e00db');\n",
              "        const dataTable =\n",
              "          await google.colab.kernel.invokeFunction('convertToInteractive',\n",
              "                                                    [key], {});\n",
              "        if (!dataTable) return;\n",
              "\n",
              "        const docLinkHtml = 'Like what you see? Visit the ' +\n",
              "          '<a target=\"_blank\" href=https://colab.research.google.com/notebooks/data_table.ipynb>data table notebook</a>'\n",
              "          + ' to learn more about interactive tables.';\n",
              "        element.innerHTML = '';\n",
              "        dataTable['output_type'] = 'display_data';\n",
              "        await google.colab.output.renderOutput(dataTable, element);\n",
              "        const docLink = document.createElement('div');\n",
              "        docLink.innerHTML = docLinkHtml;\n",
              "        element.appendChild(docLink);\n",
              "      }\n",
              "    </script>\n",
              "  </div>\n",
              "\n",
              "\n",
              "<div id=\"df-000c1c85-ea2a-491f-91db-021efb4a94e4\">\n",
              "  <button class=\"colab-df-quickchart\" onclick=\"quickchart('df-000c1c85-ea2a-491f-91db-021efb4a94e4')\"\n",
              "            title=\"Suggest charts\"\n",
              "            style=\"display:none;\">\n",
              "\n",
              "<svg xmlns=\"http://www.w3.org/2000/svg\" height=\"24px\"viewBox=\"0 0 24 24\"\n",
              "     width=\"24px\">\n",
              "    <g>\n",
              "        <path d=\"M19 3H5c-1.1 0-2 .9-2 2v14c0 1.1.9 2 2 2h14c1.1 0 2-.9 2-2V5c0-1.1-.9-2-2-2zM9 17H7v-7h2v7zm4 0h-2V7h2v10zm4 0h-2v-4h2v4z\"/>\n",
              "    </g>\n",
              "</svg>\n",
              "  </button>\n",
              "\n",
              "<style>\n",
              "  .colab-df-quickchart {\n",
              "      --bg-color: #E8F0FE;\n",
              "      --fill-color: #1967D2;\n",
              "      --hover-bg-color: #E2EBFA;\n",
              "      --hover-fill-color: #174EA6;\n",
              "      --disabled-fill-color: #AAA;\n",
              "      --disabled-bg-color: #DDD;\n",
              "  }\n",
              "\n",
              "  [theme=dark] .colab-df-quickchart {\n",
              "      --bg-color: #3B4455;\n",
              "      --fill-color: #D2E3FC;\n",
              "      --hover-bg-color: #434B5C;\n",
              "      --hover-fill-color: #FFFFFF;\n",
              "      --disabled-bg-color: #3B4455;\n",
              "      --disabled-fill-color: #666;\n",
              "  }\n",
              "\n",
              "  .colab-df-quickchart {\n",
              "    background-color: var(--bg-color);\n",
              "    border: none;\n",
              "    border-radius: 50%;\n",
              "    cursor: pointer;\n",
              "    display: none;\n",
              "    fill: var(--fill-color);\n",
              "    height: 32px;\n",
              "    padding: 0;\n",
              "    width: 32px;\n",
              "  }\n",
              "\n",
              "  .colab-df-quickchart:hover {\n",
              "    background-color: var(--hover-bg-color);\n",
              "    box-shadow: 0 1px 2px rgba(60, 64, 67, 0.3), 0 1px 3px 1px rgba(60, 64, 67, 0.15);\n",
              "    fill: var(--button-hover-fill-color);\n",
              "  }\n",
              "\n",
              "  .colab-df-quickchart-complete:disabled,\n",
              "  .colab-df-quickchart-complete:disabled:hover {\n",
              "    background-color: var(--disabled-bg-color);\n",
              "    fill: var(--disabled-fill-color);\n",
              "    box-shadow: none;\n",
              "  }\n",
              "\n",
              "  .colab-df-spinner {\n",
              "    border: 2px solid var(--fill-color);\n",
              "    border-color: transparent;\n",
              "    border-bottom-color: var(--fill-color);\n",
              "    animation:\n",
              "      spin 1s steps(1) infinite;\n",
              "  }\n",
              "\n",
              "  @keyframes spin {\n",
              "    0% {\n",
              "      border-color: transparent;\n",
              "      border-bottom-color: var(--fill-color);\n",
              "      border-left-color: var(--fill-color);\n",
              "    }\n",
              "    20% {\n",
              "      border-color: transparent;\n",
              "      border-left-color: var(--fill-color);\n",
              "      border-top-color: var(--fill-color);\n",
              "    }\n",
              "    30% {\n",
              "      border-color: transparent;\n",
              "      border-left-color: var(--fill-color);\n",
              "      border-top-color: var(--fill-color);\n",
              "      border-right-color: var(--fill-color);\n",
              "    }\n",
              "    40% {\n",
              "      border-color: transparent;\n",
              "      border-right-color: var(--fill-color);\n",
              "      border-top-color: var(--fill-color);\n",
              "    }\n",
              "    60% {\n",
              "      border-color: transparent;\n",
              "      border-right-color: var(--fill-color);\n",
              "    }\n",
              "    80% {\n",
              "      border-color: transparent;\n",
              "      border-right-color: var(--fill-color);\n",
              "      border-bottom-color: var(--fill-color);\n",
              "    }\n",
              "    90% {\n",
              "      border-color: transparent;\n",
              "      border-bottom-color: var(--fill-color);\n",
              "    }\n",
              "  }\n",
              "</style>\n",
              "\n",
              "  <script>\n",
              "    async function quickchart(key) {\n",
              "      const quickchartButtonEl =\n",
              "        document.querySelector('#' + key + ' button');\n",
              "      quickchartButtonEl.disabled = true;  // To prevent multiple clicks.\n",
              "      quickchartButtonEl.classList.add('colab-df-spinner');\n",
              "      try {\n",
              "        const charts = await google.colab.kernel.invokeFunction(\n",
              "            'suggestCharts', [key], {});\n",
              "      } catch (error) {\n",
              "        console.error('Error during call to suggestCharts:', error);\n",
              "      }\n",
              "      quickchartButtonEl.classList.remove('colab-df-spinner');\n",
              "      quickchartButtonEl.classList.add('colab-df-quickchart-complete');\n",
              "    }\n",
              "    (() => {\n",
              "      let quickchartButtonEl =\n",
              "        document.querySelector('#df-000c1c85-ea2a-491f-91db-021efb4a94e4 button');\n",
              "      quickchartButtonEl.style.display =\n",
              "        google.colab.kernel.accessAllowed ? 'block' : 'none';\n",
              "    })();\n",
              "  </script>\n",
              "</div>\n",
              "\n",
              "    </div>\n",
              "  </div>\n"
            ],
            "application/vnd.google.colaboratory.intrinsic+json": {
              "type": "dataframe",
              "variable_name": "df_train",
              "summary": "{\n  \"name\": \"df_train\",\n  \"rows\": 7613,\n  \"fields\": [\n    {\n      \"column\": \"id\",\n      \"properties\": {\n        \"dtype\": \"number\",\n        \"std\": 3137,\n        \"min\": 1,\n        \"max\": 10873,\n        \"num_unique_values\": 7613,\n        \"samples\": [\n          3796,\n          3185,\n          7769\n        ],\n        \"semantic_type\": \"\",\n        \"description\": \"\"\n      }\n    },\n    {\n      \"column\": \"keyword\",\n      \"properties\": {\n        \"dtype\": \"category\",\n        \"num_unique_values\": 221,\n        \"samples\": [\n          \"injury\",\n          \"nuclear%20reactor\",\n          \"engulfed\"\n        ],\n        \"semantic_type\": \"\",\n        \"description\": \"\"\n      }\n    },\n    {\n      \"column\": \"location\",\n      \"properties\": {\n        \"dtype\": \"category\",\n        \"num_unique_values\": 3341,\n        \"samples\": [\n          \"Oklahoma\",\n          \"Starling City\",\n          \"Trinidad and Tobago\"\n        ],\n        \"semantic_type\": \"\",\n        \"description\": \"\"\n      }\n    },\n    {\n      \"column\": \"text\",\n      \"properties\": {\n        \"dtype\": \"string\",\n        \"num_unique_values\": 7503,\n        \"samples\": [\n          \"Three Homes Demolished in Unrecognized Arab Village - International Middle East Media Center http://t.co/ik8m4Yi9T4\",\n          \"Reid Lake fire prompts campground evacuation order http://t.co/jBODKM6rBU\",\n          \"FAAN orders evacuation of abandoned aircraft at MMA http://t.co/dEvYbnVXGQ via @todayng\"\n        ],\n        \"semantic_type\": \"\",\n        \"description\": \"\"\n      }\n    },\n    {\n      \"column\": \"target\",\n      \"properties\": {\n        \"dtype\": \"number\",\n        \"std\": 0,\n        \"min\": 0,\n        \"max\": 1,\n        \"num_unique_values\": 2,\n        \"samples\": [\n          0,\n          1\n        ],\n        \"semantic_type\": \"\",\n        \"description\": \"\"\n      }\n    },\n    {\n      \"column\": \"preprocessed_text\",\n      \"properties\": {\n        \"dtype\": \"string\",\n        \"num_unique_values\": 7490,\n        \"samples\": [\n          \"love wake dad scream\",\n          \"pandemonium Aba Woman deliver Baby Face Photos http://t.co/c5u9qshhnb\"\n        ],\n        \"semantic_type\": \"\",\n        \"description\": \"\"\n      }\n    }\n  ]\n}"
            }
          },
          "metadata": {},
          "execution_count": 8
        }
      ]
    },
    {
      "cell_type": "markdown",
      "source": [
        "Text Representation #1 Bag Of Words (BOW)"
      ],
      "metadata": {
        "id": "z6fbbOHxrCsR"
      }
    },
    {
      "cell_type": "code",
      "source": [
        "from sklearn.model_selection import train_test_split\n",
        "\n",
        "x_train, x_test, y_train, y_test = train_test_split(df_train[\"text\"], df_train[\"target\"], test_size=0.2, random_state=42)\n",
        "x_train_pp, x_test_pp, y_train_pp, y_test_pp = train_test_split(df_train[\"preprocessed_text\"], df_train[\"target\"], test_size=0.2, random_state=42)"
      ],
      "metadata": {
        "id": "QrFmoUY2toDQ"
      },
      "execution_count": 8,
      "outputs": []
    },
    {
      "cell_type": "code",
      "source": [
        "from sklearn.feature_extraction.text import CountVectorizer\n",
        "\n",
        "vectorizer = CountVectorizer()\n",
        "x_train_bow = vectorizer.fit_transform(x_train.values)\n",
        "x_test_bow = vectorizer.transform(x_test.values)"
      ],
      "metadata": {
        "id": "3cVrxuPL2wvW"
      },
      "execution_count": 27,
      "outputs": []
    },
    {
      "cell_type": "code",
      "source": [
        "x_train_bow.toarray()"
      ],
      "metadata": {
        "colab": {
          "base_uri": "https://localhost:8080/"
        },
        "id": "Bw3UWaYy4KR5",
        "outputId": "e47b05d5-1d2e-481a-ed5a-37711e6c5c31"
      },
      "execution_count": 7,
      "outputs": [
        {
          "output_type": "execute_result",
          "data": {
            "text/plain": [
              "array([[0, 0, 0, ..., 0, 0, 0],\n",
              "       [0, 0, 0, ..., 0, 0, 0],\n",
              "       [0, 0, 0, ..., 0, 0, 0],\n",
              "       ...,\n",
              "       [0, 0, 0, ..., 0, 0, 0],\n",
              "       [0, 0, 0, ..., 0, 0, 0],\n",
              "       [0, 0, 0, ..., 0, 0, 0]])"
            ]
          },
          "metadata": {},
          "execution_count": 7
        }
      ]
    },
    {
      "cell_type": "code",
      "source": [
        "vectorizer.get_feature_names_out()[1500:1550]"
      ],
      "metadata": {
        "colab": {
          "base_uri": "https://localhost:8080/"
        },
        "id": "tlqO0Sir4O4g",
        "outputId": "97173438-de1e-4fbe-92da-acfecbfd7814"
      },
      "execution_count": 8,
      "outputs": [
        {
          "output_type": "execute_result",
          "data": {
            "text/plain": [
              "array(['alarms', 'alas', 'alaska', 'alaskan', 'alba', 'albany', 'albeit',\n",
              "       'alberta', 'albertans', 'album', 'albvdnwjtg', 'alcohol',\n",
              "       'alcoholandmetal', 'alcoholism', 'aldridge', 'alec', 'aleisstokes',\n",
              "       'alekalicante', 'alert', 'alerts', 'alex', 'alexalltimelow',\n",
              "       'alexandrian', 'alexbelloli', 'alexeivolkov1', 'alexhammerstone',\n",
              "       'alexis_sanchez', 'alexjacobsonpfs', 'alexshipppp', 'alfapedia',\n",
              "       'algae', 'algeria', 'algtcn8baf', 'alhaji', 'alien', 'aliens',\n",
              "       'alifaditha', 'align', 'alil', 'alisonannyoung', 'alive',\n",
              "       'aliveafter5', 'all', 'allah', 'allay', 'allday_cumshots',\n",
              "       'allegations', 'alleged', 'allegedly', 'allegiance'], dtype=object)"
            ]
          },
          "metadata": {},
          "execution_count": 8
        }
      ]
    },
    {
      "cell_type": "code",
      "source": [
        "dir(vectorizer) # gives names of all methods of vectorizer class"
      ],
      "metadata": {
        "colab": {
          "base_uri": "https://localhost:8080/"
        },
        "collapsed": true,
        "id": "8NLDt2cu6QcP",
        "outputId": "7bd6273b-0586-4786-943f-4a6c900d3439"
      },
      "execution_count": 9,
      "outputs": [
        {
          "output_type": "execute_result",
          "data": {
            "text/plain": [
              "['__annotations__',\n",
              " '__class__',\n",
              " '__delattr__',\n",
              " '__dict__',\n",
              " '__dir__',\n",
              " '__doc__',\n",
              " '__eq__',\n",
              " '__format__',\n",
              " '__ge__',\n",
              " '__getattribute__',\n",
              " '__getstate__',\n",
              " '__gt__',\n",
              " '__hash__',\n",
              " '__init__',\n",
              " '__init_subclass__',\n",
              " '__le__',\n",
              " '__lt__',\n",
              " '__module__',\n",
              " '__ne__',\n",
              " '__new__',\n",
              " '__reduce__',\n",
              " '__reduce_ex__',\n",
              " '__repr__',\n",
              " '__setattr__',\n",
              " '__setstate__',\n",
              " '__sizeof__',\n",
              " '__str__',\n",
              " '__subclasshook__',\n",
              " '__weakref__',\n",
              " '_char_ngrams',\n",
              " '_char_wb_ngrams',\n",
              " '_check_feature_names',\n",
              " '_check_n_features',\n",
              " '_check_stop_words_consistency',\n",
              " '_check_vocabulary',\n",
              " '_count_vocab',\n",
              " '_get_param_names',\n",
              " '_get_tags',\n",
              " '_limit_features',\n",
              " '_more_tags',\n",
              " '_parameter_constraints',\n",
              " '_repr_html_',\n",
              " '_repr_html_inner',\n",
              " '_repr_mimebundle_',\n",
              " '_sort_features',\n",
              " '_stop_words_id',\n",
              " '_validate_data',\n",
              " '_validate_ngram_range',\n",
              " '_validate_params',\n",
              " '_validate_vocabulary',\n",
              " '_warn_for_unused_params',\n",
              " '_white_spaces',\n",
              " '_word_ngrams',\n",
              " 'analyzer',\n",
              " 'binary',\n",
              " 'build_analyzer',\n",
              " 'build_preprocessor',\n",
              " 'build_tokenizer',\n",
              " 'decode',\n",
              " 'decode_error',\n",
              " 'dtype',\n",
              " 'encoding',\n",
              " 'fit',\n",
              " 'fit_transform',\n",
              " 'fixed_vocabulary_',\n",
              " 'get_feature_names_out',\n",
              " 'get_params',\n",
              " 'get_stop_words',\n",
              " 'input',\n",
              " 'inverse_transform',\n",
              " 'lowercase',\n",
              " 'max_df',\n",
              " 'max_features',\n",
              " 'min_df',\n",
              " 'ngram_range',\n",
              " 'preprocessor',\n",
              " 'set_params',\n",
              " 'stop_words',\n",
              " 'stop_words_',\n",
              " 'strip_accents',\n",
              " 'token_pattern',\n",
              " 'tokenizer',\n",
              " 'transform',\n",
              " 'vocabulary',\n",
              " 'vocabulary_']"
            ]
          },
          "metadata": {},
          "execution_count": 9
        }
      ]
    },
    {
      "cell_type": "code",
      "source": [
        "vectorizer.vocabulary_"
      ],
      "metadata": {
        "colab": {
          "base_uri": "https://localhost:8080/"
        },
        "collapsed": true,
        "id": "fYlVCybNnnDP",
        "outputId": "c7c5c21c-e74c-4b52-c3c3-1ed21862b174"
      },
      "execution_count": 10,
      "outputs": [
        {
          "output_type": "execute_result",
          "data": {
            "text/plain": [
              "{'courageous': 4224,\n",
              " 'and': 1653,\n",
              " 'honest': 7922,\n",
              " 'analysis': 1643,\n",
              " 'of': 11752,\n",
              " 'need': 11286,\n",
              " 'to': 16333,\n",
              " 'use': 17031,\n",
              " 'atomic': 2008,\n",
              " 'bomb': 2792,\n",
              " 'in': 8384,\n",
              " '1945': 212,\n",
              " 'hiroshima70': 7830,\n",
              " 'japanese': 8815,\n",
              " 'military': 10700,\n",
              " 'refused': 13565,\n",
              " 'surrender': 15666,\n",
              " 'https': 8026,\n",
              " 'co': 3863,\n",
              " 'vhmtytptgr': 17226,\n",
              " 'zachzaidman': 18381,\n",
              " '670thescore': 773,\n",
              " 'wld': 17804,\n",
              " 'shame': 14605,\n",
              " 'if': 8242,\n",
              " 'that': 16064,\n",
              " 'golf': 7178,\n",
              " 'cart': 3372,\n",
              " 'became': 2411,\n",
              " 'engulfed': 5776,\n",
              " 'flames': 6455,\n",
              " 'boycottbears': 2866,\n",
              " 'tell': 15965,\n",
              " 'barackobama': 2277,\n",
              " 'rescind': 13689,\n",
              " 'medals': 10512,\n",
              " 'honor': 7926,\n",
              " 'given': 7093,\n",
              " 'us': 17015,\n",
              " 'soldiers': 15051,\n",
              " 'at': 1986,\n",
              " 'the': 16072,\n",
              " 'massacre': 10405,\n",
              " 'wounded': 17898,\n",
              " 'knee': 9394,\n",
              " 'sign': 14756,\n",
              " 'now': 11553,\n",
              " 'amp': 1630,\n",
              " 'rt': 14063,\n",
              " 'u4r8driuac': 16770,\n",
              " 'worried': 17883,\n",
              " 'about': 1204,\n",
              " 'how': 7991,\n",
              " 'ca': 3184,\n",
              " 'drought': 5323,\n",
              " 'might': 10679,\n",
              " 'affect': 1365,\n",
              " 'you': 18285,\n",
              " 'extreme': 6086,\n",
              " 'weather': 17573,\n",
              " 'does': 5167,\n",
              " 'it': 8687,\n",
              " 'dampen': 4551,\n",
              " 'our': 12035,\n",
              " 'economy': 5532,\n",
              " 'http': 8025,\n",
              " 'fdzzumyw8i': 6260,\n",
              " 'youngheroesid': 18291,\n",
              " 'lava': 9651,\n",
              " 'blast': 2673,\n",
              " 'power': 12746,\n",
              " 'red': 13526,\n",
              " 'pantherattack': 12203,\n",
              " 'jamilazzaini': 8799,\n",
              " 'alifaditha': 1536,\n",
              " 'wreckage': 17929,\n",
              " 'conclusively': 4045,\n",
              " 'confirmed': 4066,\n",
              " 'as': 1919,\n",
              " 'from': 6740,\n",
              " 'mh370': 10637,\n",
              " 'malaysia': 10294,\n",
              " 'pm': 12629,\n",
              " 'investigators': 8597,\n",
              " 'families': 6173,\n",
              " 'those': 16180,\n",
              " 'who': 17684,\n",
              " 'were': 17614,\n",
              " 'yi54xrhqgb': 18244,\n",
              " 'builder': 3059,\n",
              " 'is': 8660,\n",
              " 'having': 7608,\n",
              " 'dental': 4801,\n",
              " 'emergency': 5695,\n",
              " 'which': 17668,\n",
              " 'has': 7583,\n",
              " 'ruined': 14087,\n",
              " 'my': 11123,\n",
              " 'plan': 12570,\n",
              " 'emotionally': 5717,\n",
              " 'blackmail': 2656,\n",
              " 'him': 7810,\n",
              " 'this': 16161,\n",
              " 'afternoon': 1394,\n",
              " 'with': 17778,\n",
              " 'bump': 3075,\n",
              " 'bmx': 2758,\n",
              " 'issues': 8685,\n",
              " 'areal': 1845,\n",
              " 'flood': 6496,\n",
              " 'advisory': 1349,\n",
              " 'for': 6576,\n",
              " 'shelby': 14643,\n",
              " 'al': 1489,\n",
              " 'till': 16257,\n",
              " 'aug': 2052,\n",
              " '00': 0,\n",
              " 'cdt': 3458,\n",
              " '62oddekvli': 757,\n",
              " '360wisenews': 470,\n",
              " 'china': 3638,\n",
              " 'stock': 15414,\n",
              " 'market': 10366,\n",
              " 'crash': 4273,\n",
              " 'are': 1843,\n",
              " 'there': 16122,\n",
              " 'gems': 6983,\n",
              " 'rubble': 14077,\n",
              " 'aod2ftbmgu': 1748,\n",
              " 'robertoneill31': 13925,\n",
              " 'getting': 7024,\n",
              " 'hit': 7837,\n",
              " 'by': 3145,\n",
              " 'foul': 6626,\n",
              " 'ball': 2242,\n",
              " 'while': 17669,\n",
              " 'sitting': 14833,\n",
              " 'hardly': 7564,\n",
              " 'freak': 6678,\n",
              " 'accident': 1235,\n",
              " 'war': 17471,\n",
              " 'zone': 18459,\n",
              " 'one': 11877,\n",
              " 'direction': 4999,\n",
              " 'pick': 12480,\n",
              " 'q2eblokeve': 13114,\n",
              " 'fan': 6178,\n",
              " 'army': 1880,\n",
              " 'directioners': 5000,\n",
              " 'encmhz6y34': 5743,\n",
              " 'x1402': 18008,\n",
              " 'inws': 8609,\n",
              " 'alert': 1518,\n",
              " 'spsgsp': 15245,\n",
              " '2015': 302,\n",
              " '10': 88,\n",
              " '40': 549,\n",
              " '11': 119,\n",
              " '15': 163,\n",
              " 'edt': 5553,\n",
              " 'pickens': 12482,\n",
              " 'county': 4219,\n",
              " 'strong': 15498,\n",
              " 'thunderstorm': 16225,\n",
              " 'will': 17718,\n",
              " 'impact': 8350,\n",
              " 'ldcwkyuaff': 9678,\n",
              " 'sadly': 14187,\n",
              " 'windows': 17738,\n",
              " 'reveals': 13768,\n",
              " 'microsoft': 10662,\n",
              " 'ethics': 5912,\n",
              " 'armageddon': 1875,\n",
              " 'stftjcrjea': 15397,\n",
              " 'billy_hodge': 2591,\n",
              " 'aurora': 2057,\n",
              " 'theater': 16075,\n",
              " 'shooting': 14692,\n",
              " 'trial': 16553,\n",
              " 'gunman': 7388,\n",
              " 'expected': 6033,\n",
              " 'notoriety': 11542,\n",
              " 'mass': 10404,\n",
              " 'murder': 11074,\n",
              " 'nothing': 11532,\n",
              " 'else': 5675,\n",
              " '1rpchru72c': 268,\n",
              " 'officials': 11776,\n",
              " 'say': 14312,\n",
              " 'quarantine': 13210,\n",
              " 'place': 12563,\n",
              " 'birmingham': 2611,\n",
              " 'home': 7898,\n",
              " 'over': 12066,\n",
              " 'possible': 12716,\n",
              " 'ebola': 5517,\n",
              " 'case': 3386,\n",
              " 'edward': 5555,\n",
              " 'khan': 9285,\n",
              " 'qnij2p8zv6': 13180,\n",
              " 'zojadelin': 18455,\n",
              " 'literally': 9907,\n",
              " 'almost': 1570,\n",
              " 'had': 7478,\n",
              " 'head': 7646,\n",
              " 'on': 11873,\n",
              " 'collision': 3934,\n",
              " 'today': 16338,\n",
              " 'pilot': 12511,\n",
              " 'knob': 9403,\n",
              " 'connor': 4083,\n",
              " 'franta': 6674,\n",
              " 'damn': 4548,\n",
              " 'sirens': 14819,\n",
              " 'hope': 7939,\n",
              " 'everyone': 5964,\n",
              " 'okay': 11828,\n",
              " 'dan': 4553,\n",
              " 'howell': 7994,\n",
              " 'can': 3273,\n",
              " 'please': 12605,\n",
              " 'get': 7020,\n",
              " 'murdered': 11075,\n",
              " 'another': 1712,\n",
              " 'street': 15471,\n",
              " 'end': 5748,\n",
              " 'australia': 2066,\n",
              " 'ûªs': 18533,\n",
              " 'best': 2509,\n",
              " 'burger': 3088,\n",
              " 'te5tdlyimn': 15919,\n",
              " 'via': 17229,\n",
              " 'newscomauhq': 11345,\n",
              " 'lol': 10001,\n",
              " 'real': 13458,\n",
              " 'issue': 8683,\n",
              " 'way': 17530,\n",
              " 'nfl': 11363,\n",
              " 'trying': 16626,\n",
              " 'ruin': 14086,\n",
              " 'guy': 7407,\n",
              " 'legacy': 9723,\n",
              " 's107ee7cyc': 14151,\n",
              " 'maailiss': 10225,\n",
              " 'diaporama': 4944,\n",
              " 'sixpenceee': 14838,\n",
              " 'karymsky': 9183,\n",
              " 'lake': 9567,\n",
              " 'crater': 4277,\n",
              " 'located': 9980,\n",
              " 'volcanoåêinåêrussia': 17350,\n",
              " 'û_': 18516,\n",
              " '4o460fm8hn': 624,\n",
              " 'biggest': 2569,\n",
              " 'fear': 6263,\n",
              " 'disappointing': 5018,\n",
              " 'people': 12373,\n",
              " 'believe': 2464,\n",
              " 'me': 10498,\n",
              " 'just': 9085,\n",
              " 'first': 6416,\n",
              " 'counter': 4214,\n",
              " 'league': 9691,\n",
              " 'game': 6900,\n",
              " 'against': 1406,\n",
              " 'orianna': 11990,\n",
              " 'happened': 7543,\n",
              " 'demolish': 4778,\n",
              " 'her': 7731,\n",
              " 'xd': 18041,\n",
              " 'totally': 16422,\n",
              " 'appreciate': 1800,\n",
              " 'play': 12590,\n",
              " 'they': 16142,\n",
              " 'bad': 2202,\n",
              " 'things': 16152,\n",
              " 'happen': 7542,\n",
              " 'reason': 13480,\n",
              " 'but': 3121,\n",
              " 'no': 11462,\n",
              " 'wise': 17770,\n",
              " 'words': 17862,\n",
              " 'gonna': 7183,\n",
              " 'stop': 15430,\n",
              " 'te': 15917,\n",
              " 'bleeding': 2685,\n",
              " 'cortezera': 4188,\n",
              " 'dead': 4651,\n",
              " 'ass': 1958,\n",
              " 'screamed': 14393,\n",
              " 'when': 17663,\n",
              " 'we': 17559,\n",
              " 'signed': 14758,\n",
              " 'couldn': 4208,\n",
              " 'fucking': 6775,\n",
              " 'caitsroberts': 3212,\n",
              " 'see': 14458,\n",
              " 'night': 11400,\n",
              " 'wee': 17586,\n",
              " 'barra': 2294,\n",
              " 'absolutely': 1212,\n",
              " 'wrecked': 17930,\n",
              " 'mental': 10566,\n",
              " 'twitter': 16717,\n",
              " 'note': 11526,\n",
              " 'make': 10287,\n",
              " 'sure': 15650,\n",
              " 'smoke': 14975,\n",
              " 'alarm': 1497,\n",
              " 'battery': 2336,\n",
              " 'up': 16967,\n",
              " 'snuff': 15017,\n",
              " 'all': 1542,\n",
              " 'times': 16267,\n",
              " 'or': 11962,\n",
              " 'face': 6125,\n",
              " 'many': 10332,\n",
              " 'reminders': 13624,\n",
              " 'changing': 3542,\n",
              " 'hornybigbadwolf': 7953,\n",
              " 'sets': 14552,\n",
              " 'forest': 6591,\n",
              " 'fire': 6397,\n",
              " 'wowsavannah': 17903,\n",
              " 'what': 17652,\n",
              " 'harm': 7568,\n",
              " 're': 13440,\n",
              " 'collectibles': 3924,\n",
              " 'honestly': 7923,\n",
              " 'nightmarish': 11404,\n",
              " 'god': 7165,\n",
              " 'driving': 5308,\n",
              " 'new': 11327,\n",
              " 'places': 12565,\n",
              " 'always': 1595,\n",
              " 'stressful': 15479,\n",
              " 'shit': 14674,\n",
              " 'hate': 7597,\n",
              " 'so': 15019,\n",
              " 'much': 11045,\n",
              " 'ugh': 16819,\n",
              " 'crashed': 4274,\n",
              " 'few': 6319,\n",
              " 'zouma': 18463,\n",
              " 'flattened': 6465,\n",
              " 'added': 1305,\n",
              " 'sandy': 14258,\n",
              " 'responders': 13722,\n",
              " 'lost': 10065,\n",
              " 'their': 16100,\n",
              " 'homes': 7911,\n",
              " 'vip': 17285,\n",
              " 'page': 12159,\n",
              " 'group': 7325,\n",
              " 'vimeo': 17269,\n",
              " 'lkxi6uxjaq': 9949,\n",
              " 'heat': 7681,\n",
              " 'effect': 5576,\n",
              " 'through': 16206,\n",
              " 'thursday': 16230,\n",
              " 'building': 3060,\n",
              " 'wave': 17526,\n",
              " 'increasing': 8404,\n",
              " 'humidity': 8061,\n",
              " 'lawx': 9663,\n",
              " 'u0sykowvwv': 16759,\n",
              " 'moderate': 10853,\n",
              " 'spreading': 15236,\n",
              " 'rapidly': 13387,\n",
              " 'across': 1271,\n",
              " 'central': 3483,\n",
              " 'ga': 6871,\n",
              " 'macon': 10238,\n",
              " 'warnerrobins': 17483,\n",
              " 'dublin': 5365,\n",
              " 'milledgeville': 10707,\n",
              " 'gawx': 6940,\n",
              " 'phnez60cwe': 12463,\n",
              " 'fatal': 6216,\n",
              " 'attraction': 2029,\n",
              " 'hassanrouhani': 7592,\n",
              " 'wars': 17491,\n",
              " 'doomed': 5207,\n",
              " 'destruction': 4871,\n",
              " 'loss': 10063,\n",
              " 'money': 10889,\n",
              " 'must': 11095,\n",
              " 'invest': 8591,\n",
              " 'iran': 8635,\n",
              " 'inside': 8504,\n",
              " 'should': 14705,\n",
              " 'not': 11525,\n",
              " 'go': 7156,\n",
              " 'outside': 12058,\n",
              " 'national': 11219,\n",
              " 'park': 12233,\n",
              " 'services': 14543,\n",
              " 'tonto': 16375,\n",
              " 'annihilation': 1697,\n",
              " 'salt': 14224,\n",
              " 'river': 13878,\n",
              " 'wild': 17711,\n",
              " 'horse': 7963,\n",
              " 'matijwkzbh': 10430,\n",
              " 'change': 3537,\n",
              " 'mantra': 10329,\n",
              " 'morning': 10937,\n",
              " 'heading': 7650,\n",
              " 'out': 12037,\n",
              " 'whirlwind': 17674,\n",
              " 'trip': 16576,\n",
              " 'down': 5231,\n",
              " 'south': 15122,\n",
              " 'geht4ski86': 6975,\n",
              " 'np': 11558,\n",
              " 'avenged': 2095,\n",
              " 'sevenfold': 14561,\n",
              " 'hail': 7489,\n",
              " 'king': 9343,\n",
              " 'two': 16718,\n",
              " 'jewish': 8900,\n",
              " 'terrorists': 16011,\n",
              " 'charged': 3553,\n",
              " 'historic': 7834,\n",
              " 'church': 3696,\n",
              " 'arson': 1897,\n",
              " 'ugly': 16822,\n",
              " 'truth': 16623,\n",
              " 'ieksnfsby7': 8238,\n",
              " 'vwcf3slkrw': 17395,\n",
              " 'dk': 5114,\n",
              " 'eyewitness': 6098,\n",
              " 'travel': 16517,\n",
              " 'guide': 7369,\n",
              " 'denmark': 4799,\n",
              " 'ebay': 5515,\n",
              " 'auctions': 2041,\n",
              " 'keep': 9227,\n",
              " 'an': 1638,\n",
              " 'eye': 6092,\n",
              " 'xpwkodpqto': 18089,\n",
              " 'police': 12667,\n",
              " 'kill': 9322,\n",
              " 'hatchet': 7596,\n",
              " 'wielding': 17707,\n",
              " 'opened': 11922,\n",
              " 'nashville': 11209,\n",
              " 'movie': 10989,\n",
              " 'aåêmiddle': 2150,\n",
              " 'aged': 1410,\n",
              " 'manåêarmed': 10334,\n",
              " 'wi': 17698,\n",
              " 'tyd47nfl5x': 16738,\n",
              " 'teahivetweets': 15925,\n",
              " 'would': 17894,\n",
              " 'inundated': 8585,\n",
              " 'usatoday': 17027,\n",
              " 'frontpage': 6745,\n",
              " 'bioterror': 2604,\n",
              " 'lab': 9546,\n",
              " 'faced': 6127,\n",
              " 'secret': 14447,\n",
              " 'sanctions': 14251,\n",
              " 'rickperry': 13822,\n",
              " 'doesn': 5168,\n",
              " 'cut': 4448,\n",
              " 'foxnew': 6639,\n",
              " '5ukohk7sob': 733,\n",
              " 'gained': 6886,\n",
              " 'followers': 6551,\n",
              " 'last': 9618,\n",
              " 'week': 17590,\n",
              " 'know': 9410,\n",
              " 'your': 18294,\n",
              " 'stats': 15358,\n",
              " 'grow': 7329,\n",
              " 'tiyulif5c6': 16298,\n",
              " 'jkl': 8935,\n",
              " 'cancels': 3282,\n",
              " 'flash': 6459,\n",
              " 'warning': 17484,\n",
              " 'bell': 2466,\n",
              " 'harlan': 7567,\n",
              " 'knox': 9416,\n",
              " 'ky': 9508,\n",
              " '4ry6zhcpoq': 635,\n",
              " 'wx': 17990,\n",
              " 'creepiest': 4311,\n",
              " 'youth': 18300,\n",
              " 'camp': 3259,\n",
              " 'ever': 5955,\n",
              " 't8uqm7imir': 15785,\n",
              " 'rescuers': 13692,\n",
              " 'recover': 13519,\n",
              " 'body': 2780,\n",
              " '37': 475,\n",
              " 'year': 18204,\n",
              " 'old': 11845,\n",
              " 'calgary': 3225,\n",
              " 'man': 10307,\n",
              " 'near': 11276,\n",
              " 'vulcan': 17386,\n",
              " 'gaehr9bhek': 6877,\n",
              " 'severe': 14564,\n",
              " 'storm': 15441,\n",
              " 'weakening': 17561,\n",
              " 'moves': 10988,\n",
              " 'se': 14419,\n",
              " 'towards': 16439,\n",
              " 'lubbock': 10120,\n",
              " 'area': 1844,\n",
              " 'outflow': 12050,\n",
              " 'boundary': 2845,\n",
              " 'may': 10453,\n",
              " 'create': 4292,\n",
              " 'dust': 5403,\n",
              " '50': 655,\n",
              " 'mph': 10998,\n",
              " 'gusts': 7402,\n",
              " 'ka1hbjlqvw': 9142,\n",
              " 'hazard': 7619,\n",
              " 'pay': 12304,\n",
              " 'vilelunar': 17263,\n",
              " 'trickshot': 16565,\n",
              " 'regular': 13580,\n",
              " 'controller': 4134,\n",
              " 'infinite': 8462,\n",
              " 'fading': 6145,\n",
              " 'gt': 7350,\n",
              " 'set': 14549,\n",
              " 'record': 13514,\n",
              " 'states': 15353,\n",
              " 'days': 4631,\n",
              " 'don': 5191,\n",
              " 'even': 5949,\n",
              " 'where': 17665,\n",
              " 'am': 1597,\n",
              " 'wake': 17443,\n",
              " 'anymore': 1740,\n",
              " 'loving': 10085,\n",
              " 'every': 5960,\n",
              " 'minute': 10750,\n",
              " 'though': 16182,\n",
              " 'hmm': 7857,\n",
              " '12000': 132,\n",
              " 'nigerian': 11397,\n",
              " 'refugees': 13559,\n",
              " 'repatriated': 13655,\n",
              " 'cameroon': 3255,\n",
              " 'ytw9slwvmg': 18328,\n",
              " 'prophet': 12944,\n",
              " 'peace': 12340,\n",
              " 'be': 2384,\n",
              " 'upon': 16984,\n",
              " 'said': 14200,\n",
              " 'save': 14302,\n",
              " 'yourself': 18298,\n",
              " 'hellfire': 7713,\n",
              " 'giving': 7095,\n",
              " 'half': 7504,\n",
              " 'date': 4605,\n",
              " 'charity': 3559,\n",
              " 'lone': 10013,\n",
              " 'survivor': 15676,\n",
              " 'account': 1243,\n",
              " 'operation': 11929,\n",
              " 'redwing': 13545,\n",
              " 'heroes': 7737,\n",
              " 'seal': 14423,\n",
              " 'team': 15926,\n",
              " 'nxtwxjcavh': 11631,\n",
              " 'ol8esfrgle': 11843,\n",
              " 'martinmj22': 10390,\n",
              " 'yougov': 18288,\n",
              " 'did': 4955,\n",
              " '12': 130,\n",
              " 'seat': 14434,\n",
              " 'majority': 10286,\n",
              " '36': 468,\n",
              " 'vote': 17361,\n",
              " 'become': 2419,\n",
              " 'landslide': 9592,\n",
              " 'punjab': 13051,\n",
              " 'government': 7223,\n",
              " 'relief': 13603,\n",
              " 'platform': 12587,\n",
              " 'vulrclw7bd': 17390,\n",
              " 'realtime': 13477,\n",
              " 'information': 8473,\n",
              " 'inundation': 8586,\n",
              " 'damages': 4540,\n",
              " 'rescue': 13690,\n",
              " 'efforts': 5582,\n",
              " 'alerts': 1519,\n",
              " 'texas': 16027,\n",
              " 'seeks': 14465,\n",
              " 'comment': 3977,\n",
              " 'rules': 14095,\n",
              " 'changes': 3541,\n",
              " 'windstorm': 17742,\n",
              " 'insurer': 8533,\n",
              " 'ei8qqhregz': 5604,\n",
              " 'insurance': 8532,\n",
              " 'school': 14359,\n",
              " 've': 17174,\n",
              " 'already': 1580,\n",
              " 'panic': 12197,\n",
              " 'attack': 2011,\n",
              " 'thank': 16057,\n",
              " 'high': 7783,\n",
              " 'sucking': 15567,\n",
              " 'earthquake': 5493,\n",
              " 'sicily': 14738,\n",
              " 'italy': 8690,\n",
              " 'iphone': 8625,\n",
              " 'users': 17034,\n",
              " 'download': 5235,\n",
              " 'app': 1781,\n",
              " 'more': 10927,\n",
              " 'v3azwoamzk': 17091,\n",
              " 'final': 6370,\n",
              " 'medinah': 10522,\n",
              " 'update': 16971,\n",
              " 'shot': 14702,\n",
              " '105': 104,\n",
              " '49': 589,\n",
              " 'front': 6741,\n",
              " 'exploded': 6052,\n",
              " '56': 683,\n",
              " 'back': 2191,\n",
              " 'imkeepingmydayjob': 8340,\n",
              " 'pic': 12479,\n",
              " 'famous': 6177,\n",
              " '17': 186,\n",
              " 'kcmbbwwp8g': 9213,\n",
              " 'crews': 4317,\n",
              " 'evacuate': 5936,\n",
              " 'passengers': 12263,\n",
              " 'gold': 7176,\n",
              " 'coast': 3872,\n",
              " 'tram': 16494,\n",
              " 'trapped': 16512,\n",
              " 'powerlines': 12748,\n",
              " 'fell': 6293,\n",
              " 'carriage': 3365,\n",
              " 'tennews': 15986,\n",
              " '5pm': 721,\n",
              " 'hfyrloqy8q': 7756,\n",
              " 'debris': 4677,\n",
              " 'found': 6627,\n",
              " 'reunion': 13762,\n",
              " 'island': 8674,\n",
              " 'comes': 3963,\n",
              " 'malaysian': 10296,\n",
              " 'f75qwyeeec': 6114,\n",
              " 'raining': 13345,\n",
              " 'burning': 3097,\n",
              " 'favorite': 6232,\n",
              " 'candle': 3286,\n",
              " 'hot': 7973,\n",
              " 'cocoa': 3889,\n",
              " 'sip': 14812,\n",
              " 'nap': 11196,\n",
              " 'time': 16261,\n",
              " 'awesomesauce': 2126,\n",
              " '58hif': 689,\n",
              " 'trick': 16563,\n",
              " 'think': 16153,\n",
              " 'nasty': 11212,\n",
              " 'hunger': 8070,\n",
              " 'hits': 7840,\n",
              " 'function': 6791,\n",
              " 'probably': 12884,\n",
              " 'wouldn': 17895,\n",
              " 'long': 10019,\n",
              " 'famine': 6175,\n",
              " 'zones': 18460,\n",
              " 'look': 10027,\n",
              " 'policy': 12669,\n",
              " 'matters': 10437,\n",
              " 'ohio': 11803,\n",
              " 'report': 13666,\n",
              " 'cle': 3775,\n",
              " 'cuyahoga': 4455,\n",
              " 'blight': 2693,\n",
              " 'greening': 7289,\n",
              " 'vacant': 17113,\n",
              " 'lands': 9589,\n",
              " 'soon': 15089,\n",
              " 'if62sdxvp7': 8243,\n",
              " 'screaming': 14394,\n",
              " 'mariahcarey': 10353,\n",
              " 'arianagrande': 1864,\n",
              " 'xxzd1nmb1i': 18127,\n",
              " 'suspect': 15682,\n",
              " 'linked': 9882,\n",
              " '30': 435,\n",
              " 'fires': 6410,\n",
              " 'caught': 3422,\n",
              " 'northern': 11510,\n",
              " 'california': 3231,\n",
              " 'los': 10054,\n",
              " 'angeles': 1669,\n",
              " 'prrb4fhxtv': 12981,\n",
              " 'bestnaijamade': 2514,\n",
              " '16yr': 185,\n",
              " 'pkk': 12558,\n",
              " 'suicide': 15582,\n",
              " 'bomber': 2794,\n",
              " 'detonated': 4881,\n",
              " 'ksawlyux02': 9468,\n",
              " 'guiltygearxxacp': 7374,\n",
              " 'yeah': 18202,\n",
              " 'blaze': 2677,\n",
              " 'blue': 2735,\n",
              " 'dont': 5203,\n",
              " 'have': 7606,\n",
              " 'drew': 5287,\n",
              " 'weeks': 17594,\n",
              " 'ago': 1423,\n",
              " 'sk3l74flzz': 14854,\n",
              " 'liked': 9856,\n",
              " 'youtube': 18302,\n",
              " 'video': 17251,\n",
              " 'slimebeast': 14923,\n",
              " 'ulr6myklnh': 16846,\n",
              " 'town': 16444,\n",
              " 'salem': 14216,\n",
              " 'win': 17733,\n",
              " 'arsonist': 1898,\n",
              " 'mirmanda11': 10758,\n",
              " 'evaaasr': 5934,\n",
              " 'zaire2005': 18385,\n",
              " 'mulruifnn1': 11061,\n",
              " 'specialguest': 15162,\n",
              " 'crapgamer': 4272,\n",
              " 'recap': 13497,\n",
              " 'destroyed': 4867,\n",
              " 'sony': 15086,\n",
              " 'gamescom': 6907,\n",
              " 'alleged': 1547,\n",
              " 'east': 5501,\n",
              " 'bay': 2346,\n",
              " 'serial': 14533,\n",
              " 'arrested': 1887,\n",
              " 'sanfrancisco': 14260,\n",
              " 'ojuhfkhvb2': 11821,\n",
              " 'sue': 15572,\n",
              " 'legionnaires': 9732,\n",
              " 'than': 16056,\n",
              " 'affected': 1366,\n",
              " 'outbreak': 12041,\n",
              " 'disea': 5039,\n",
              " 'paje5mxn1z': 12170,\n",
              " 'instagram': 8514,\n",
              " 'blew': 2692,\n",
              " 'apparently': 1784,\n",
              " 'was': 17496,\n",
              " 'featured': 6269,\n",
              " 'jazz': 8840,\n",
              " 'tonight': 16372,\n",
              " 'cool': 4145,\n",
              " 'love': 10075,\n",
              " 'nikoniko12022': 11412,\n",
              " 'breaking': 2922,\n",
              " 'news': 11339,\n",
              " 'unconfirmed': 16877,\n",
              " 'heard': 7667,\n",
              " 'loud': 10072,\n",
              " 'bang': 2256,\n",
              " 'nearby': 11277,\n",
              " 'appears': 1786,\n",
              " 'wind': 17735,\n",
              " 'neighbour': 11298,\n",
              " 'some': 15063,\n",
              " 'really': 13474,\n",
              " 'natural': 11228,\n",
              " 'disaster': 5021,\n",
              " 'too': 16382,\n",
              " 'icaseit': 8190,\n",
              " 'mfi': 10622,\n",
              " 'certified': 3491,\n",
              " 'lightning': 9848,\n",
              " 'cable': 3189,\n",
              " '1m': 254,\n",
              " 'b32jmvsb1e': 2162,\n",
              " 'xkmijgy59t': 18065,\n",
              " 'darkndtatted': 4593,\n",
              " 'pull': 13031,\n",
              " 'holmes': 7890,\n",
              " 'nigga': 11398,\n",
              " 'threat': 16192,\n",
              " 'then': 16113,\n",
              " 'boy': 2865,\n",
              " 'ah': 1430,\n",
              " 'thru': 16214,\n",
              " 'republic': 13678,\n",
              " 'proc': 12889,\n",
              " 'abandon': 1173,\n",
              " 'west': 17619,\n",
              " 'philippine': 12457,\n",
              " 'sea': 14420,\n",
              " 'pd14gsrfsc': 12330,\n",
              " 'changepilipinas': 3540,\n",
              " 'girlthatsrio': 7087,\n",
              " 'uncles': 16874,\n",
              " 'wreck': 17928,\n",
              " 'shoot': 14689,\n",
              " 'bags': 2221,\n",
              " 'experts': 6044,\n",
              " 'concerned': 4039,\n",
              " 'bioterrorism': 2605,\n",
              " 'using': 17042,\n",
              " 'gm': 7139,\n",
              " 'organisms': 11984,\n",
              " 'scientists': 14367,\n",
              " 'sume5pro0f': 15591,\n",
              " 'kalmikya': 9162,\n",
              " 'astrakhan': 1980,\n",
              " 'volgagrad': 17353,\n",
              " 'dagestan': 4524,\n",
              " 'food': 6561,\n",
              " 'left': 9720,\n",
              " 'locusts': 9992,\n",
              " '79fw9zwxtp': 874,\n",
              " 'timeworld': 16270,\n",
              " 'buildings': 3061,\n",
              " 'loses': 10061,\n",
              " '8sp8xlbbdr': 994,\n",
              " 'shall': 14603,\n",
              " 'annihilated': 1696,\n",
              " 'petebests': 12417,\n",
              " 'dessicated': 4858,\n",
              " 'laid': 9564,\n",
              " 'bare': 2287,\n",
              " 'kneel': 9395,\n",
              " 'before': 2436,\n",
              " 'flooding': 6498,\n",
              " 'asia': 1942,\n",
              " 'leaves': 9706,\n",
              " 'hundreds': 8068,\n",
              " 'millions': 10710,\n",
              " 'displaced': 5063,\n",
              " '4roisyxjlw': 633,\n",
              " '3r8qozjt7t': 531,\n",
              " 'lt': 10112,\n",
              " 'his': 7832,\n",
              " 'lip': 9889,\n",
              " 'he': 7643,\n",
              " 'sunk': 15614,\n",
              " 'into': 8578,\n",
              " 'bed': 2423,\n",
              " 'arms': 1879,\n",
              " 'crossed': 4345,\n",
              " 'behind': 2454,\n",
              " 'watched': 17512,\n",
              " 'captain': 3314,\n",
              " 'do': 5151,\n",
              " 'number': 11602,\n",
              " 'resoluteshield': 13711,\n",
              " 'growingupspoiled': 7333,\n",
              " 'going': 7173,\n",
              " 'clay': 3772,\n",
              " 'pigeon': 12499,\n",
              " 'crying': 4372,\n",
              " 'because': 2413,\n",
              " 'aftershock': 1395,\n",
              " 'wife': 17708,\n",
              " 'six': 14837,\n",
              " 'years': 18205,\n",
              " 'jail': 8780,\n",
              " 'setting': 14554,\n",
              " 'ablaze': 1195,\n",
              " 'niece': 11393,\n",
              " 'ev1ahoucza': 5933,\n",
              " 'following': 6552,\n",
              " 'catastrophic': 3406,\n",
              " 'injury': 8487,\n",
              " 'acute': 1293,\n",
              " 'medical': 10518,\n",
              " 'care': 3335,\n",
              " 'takes': 15818,\n",
              " 'precedent': 12787,\n",
              " 'ptsd': 13011,\n",
              " 'often': 11790,\n",
              " 'follows': 6556,\n",
              " 'undetected': 16896,\n",
              " 'bzkqpl6r0a': 3160,\n",
              " 'brodyfrieling': 2987,\n",
              " 'hanna_brooksie': 7534,\n",
              " 'photo': 12468,\n",
              " 'bombed': 2793,\n",
              " 'big': 2564,\n",
              " 'baby': 2187,\n",
              " 'climbed': 3805,\n",
              " 'thing': 16151,\n",
              " 'wheels': 17661,\n",
              " 'io': 8611,\n",
              " 'hawk': 7614,\n",
              " 'belt': 2477,\n",
              " 'mr': 11005,\n",
              " 'srk': 15278,\n",
              " 'cook': 4143,\n",
              " 'ur': 16999,\n",
              " 'beautiful': 2405,\n",
              " 'punishment': 13050,\n",
              " 'gary': 6925,\n",
              " 'chicago': 3616,\n",
              " 'entrances': 5803,\n",
              " 'closed': 3818,\n",
              " 'due': 5375,\n",
              " 'bridge': 2947,\n",
              " 'collapsed': 3920,\n",
              " 'let': 9776,\n",
              " 'tomorrow': 16369,\n",
              " 'curfew': 4430,\n",
              " 'helps': 7724,\n",
              " 'bc': 2366,\n",
              " 'went': 17612,\n",
              " 'downstairs': 5239,\n",
              " 'watch': 17511,\n",
              " 'telly': 15969,\n",
              " 'accidentally': 1236,\n",
              " 'made': 10244,\n",
              " 'dad': 4518,\n",
              " 'broken': 2989,\n",
              " 'leg': 9722,\n",
              " 'walked': 17452,\n",
              " '2y4rgob7pj': 429,\n",
              " 'bbc': 2353,\n",
              " 'cnn': 3855,\n",
              " 'islam': 8670,\n",
              " 'isis': 8668,\n",
              " 'terrorism': 16009,\n",
              " 'quran': 13248,\n",
              " 'lies': 9828,\n",
              " 'mves6vssyn': 11107,\n",
              " 'autoinsurance': 2081,\n",
              " 'industry': 8442,\n",
              " 'clueless': 3840,\n",
              " 'driverless': 5305,\n",
              " 'cars': 3370,\n",
              " 'healthinsurance': 7664,\n",
              " 'ydetwgribk': 18194,\n",
              " 'yelp': 18216,\n",
              " 'bolsters': 2790,\n",
              " 'health': 7661,\n",
              " 'reviews': 13779,\n",
              " 'investigative': 8596,\n",
              " 'journalism': 9013,\n",
              " 'sick': 14739,\n",
              " 'injured': 8484,\n",
              " 'patients': 12280,\n",
              " 'local': 9978,\n",
              " 'er': 5854,\n",
              " 'e8aegofdy2': 5470,\n",
              " 'still': 15406,\n",
              " 'hasn': 7591,\n",
              " 'never': 11325,\n",
              " 'nan': 11193,\n",
              " 'again': 1405,\n",
              " 'been': 2430,\n",
              " 'months': 10911,\n",
              " 'breast': 2928,\n",
              " 'milk': 10703,\n",
              " 'original': 11992,\n",
              " 'superfood': 15626,\n",
              " 'rates': 13399,\n",
              " 'worldwide': 17880,\n",
              " 'stalled': 15308,\n",
              " 'below': 2476,\n",
              " 'contributing': 4128,\n",
              " '800000': 931,\n",
              " 'child': 3623,\n",
              " 'deaths': 4672,\n",
              " 'iqowzgvznl': 8633,\n",
              " 'latestnews': 9628,\n",
              " 'cnbc': 3849,\n",
              " 'anniversary': 1698,\n",
              " 'devastation': 4892,\n",
              " 'wrought': 17950,\n",
              " 'weapon': 17567,\n",
              " 'car': 3324,\n",
              " 'sinking': 14810,\n",
              " 'snapping': 14994,\n",
              " 'fox': 6636,\n",
              " '13': 148,\n",
              " 'priorities': 12872,\n",
              " '9stlkh59fb': 1094,\n",
              " 'top': 16392,\n",
              " 'link': 9881,\n",
              " 'reddit': 13532,\n",
              " 'content': 4112,\n",
              " 'goes': 7171,\n",
              " 'horrible': 7957,\n",
              " 'subreddits': 15554,\n",
              " 'banned': 2268,\n",
              " 'quarantined': 13211,\n",
              " 'u9ao3a4ogc': 16778,\n",
              " '03': 10,\n",
              " ...}"
            ]
          },
          "metadata": {},
          "execution_count": 10
        }
      ]
    },
    {
      "cell_type": "code",
      "source": [
        "x_train_np = x_train_bow.toarray()\n",
        "x_test_np = x_test_bow.toarray()"
      ],
      "metadata": {
        "id": "RVhRiGk0nr-H"
      },
      "execution_count": 11,
      "outputs": []
    },
    {
      "cell_type": "code",
      "source": [
        "print(x_train_np[0].shape) #18566\n",
        "#To get indices of items which are not 0 for the first row of data\n",
        "print(np.where(x_train_np[0] != 0))\n",
        "print(vectorizer.get_feature_names_out()[np.where(x_train_np[0] != 0)])"
      ],
      "metadata": {
        "colab": {
          "base_uri": "https://localhost:8080/"
        },
        "id": "KZG1HTGgubuU",
        "outputId": "9a279da3-9412-4c41-94c7-5b57cb937703"
      },
      "execution_count": 18,
      "outputs": [
        {
          "output_type": "stream",
          "name": "stdout",
          "text": [
            "(18566,)\n",
            "(array([  212,  1643,  1653,  2008,  2792,  3863,  4224,  7830,  7922,\n",
            "        8026,  8384,  8815, 10700, 11286, 11752, 13565, 15666, 16333,\n",
            "       17031, 17226]),)\n",
            "['1945' 'analysis' 'and' 'atomic' 'bomb' 'co' 'courageous' 'hiroshima70'\n",
            " 'honest' 'https' 'in' 'japanese' 'military' 'need' 'of' 'refused'\n",
            " 'surrender' 'to' 'use' 'vhmtytptgr']\n"
          ]
        }
      ]
    },
    {
      "cell_type": "code",
      "source": [
        "#Lets build machine learning model on top of this feature using Naive Bayes\n",
        "from sklearn.naive_bayes import MultinomialNB\n",
        "from sklearn.metrics import classification_report\n",
        "\n",
        "clf = MultinomialNB()\n",
        "clf.fit(x_train_np, y_train)\n",
        "y_pred = clf.predict(x_test_np)\n",
        "print(classification_report(y_test, y_pred))"
      ],
      "metadata": {
        "colab": {
          "base_uri": "https://localhost:8080/",
          "height": 35
        },
        "collapsed": true,
        "id": "1UnG5TpGvhp8",
        "outputId": "383d80f8-7b4b-4ff2-cbdf-5d1e2f1ed1e1"
      },
      "execution_count": 39,
      "outputs": [
        {
          "output_type": "execute_result",
          "data": {
            "text/plain": [
              "'clf = MultinomialNB()\\nclf.fit(x_train_np, y_train)\\ny_pred = clf.predict(x_test_np)\\nprint(classification_report(y_test, y_pred))'"
            ],
            "application/vnd.google.colaboratory.intrinsic+json": {
              "type": "string"
            }
          },
          "metadata": {},
          "execution_count": 39
        }
      ]
    },
    {
      "cell_type": "code",
      "source": [
        "tweets = ['Catastrophic tide hit at the costal region of Bay of Bengal, 12 injured.', 'Damn! Such a huge disaster Shukla is.', 'What a bash it was last night!']\n",
        "tweets_bow = vectorizer.transform(tweets)\n",
        "tweets_np = tweets_bow.toarray()\n",
        "clf.predict(tweets_np)"
      ],
      "metadata": {
        "colab": {
          "base_uri": "https://localhost:8080/"
        },
        "id": "ufRR_vmpwocJ",
        "outputId": "8558a466-20f9-406d-a363-1a2d135f620c"
      },
      "execution_count": 21,
      "outputs": [
        {
          "output_type": "execute_result",
          "data": {
            "text/plain": [
              "array([1, 0, 0])"
            ]
          },
          "metadata": {},
          "execution_count": 21
        }
      ]
    },
    {
      "cell_type": "code",
      "source": [
        "from sklearn.pipeline import Pipeline\n",
        "#Pipeline created will take care of text representation using Count vectorizer, so we can use raw data to feed our model\n",
        "clf = Pipeline([\n",
        "    ('vectorizer', CountVectorizer()),\n",
        "    ('classifier', MultinomialNB())\n",
        "])\n",
        "clf.fit(x_train, y_train)"
      ],
      "metadata": {
        "colab": {
          "base_uri": "https://localhost:8080/",
          "height": 126
        },
        "id": "j9jzJ1zDyWqA",
        "outputId": "23f88482-cfe7-45f0-a92c-d5c134654bd1"
      },
      "execution_count": 22,
      "outputs": [
        {
          "output_type": "execute_result",
          "data": {
            "text/plain": [
              "Pipeline(steps=[('vectorizer', CountVectorizer()),\n",
              "                ('classifier', MultinomialNB())])"
            ],
            "text/html": [
              "<style>#sk-container-id-1 {color: black;background-color: white;}#sk-container-id-1 pre{padding: 0;}#sk-container-id-1 div.sk-toggleable {background-color: white;}#sk-container-id-1 label.sk-toggleable__label {cursor: pointer;display: block;width: 100%;margin-bottom: 0;padding: 0.3em;box-sizing: border-box;text-align: center;}#sk-container-id-1 label.sk-toggleable__label-arrow:before {content: \"▸\";float: left;margin-right: 0.25em;color: #696969;}#sk-container-id-1 label.sk-toggleable__label-arrow:hover:before {color: black;}#sk-container-id-1 div.sk-estimator:hover label.sk-toggleable__label-arrow:before {color: black;}#sk-container-id-1 div.sk-toggleable__content {max-height: 0;max-width: 0;overflow: hidden;text-align: left;background-color: #f0f8ff;}#sk-container-id-1 div.sk-toggleable__content pre {margin: 0.2em;color: black;border-radius: 0.25em;background-color: #f0f8ff;}#sk-container-id-1 input.sk-toggleable__control:checked~div.sk-toggleable__content {max-height: 200px;max-width: 100%;overflow: auto;}#sk-container-id-1 input.sk-toggleable__control:checked~label.sk-toggleable__label-arrow:before {content: \"▾\";}#sk-container-id-1 div.sk-estimator input.sk-toggleable__control:checked~label.sk-toggleable__label {background-color: #d4ebff;}#sk-container-id-1 div.sk-label input.sk-toggleable__control:checked~label.sk-toggleable__label {background-color: #d4ebff;}#sk-container-id-1 input.sk-hidden--visually {border: 0;clip: rect(1px 1px 1px 1px);clip: rect(1px, 1px, 1px, 1px);height: 1px;margin: -1px;overflow: hidden;padding: 0;position: absolute;width: 1px;}#sk-container-id-1 div.sk-estimator {font-family: monospace;background-color: #f0f8ff;border: 1px dotted black;border-radius: 0.25em;box-sizing: border-box;margin-bottom: 0.5em;}#sk-container-id-1 div.sk-estimator:hover {background-color: #d4ebff;}#sk-container-id-1 div.sk-parallel-item::after {content: \"\";width: 100%;border-bottom: 1px solid gray;flex-grow: 1;}#sk-container-id-1 div.sk-label:hover label.sk-toggleable__label {background-color: #d4ebff;}#sk-container-id-1 div.sk-serial::before {content: \"\";position: absolute;border-left: 1px solid gray;box-sizing: border-box;top: 0;bottom: 0;left: 50%;z-index: 0;}#sk-container-id-1 div.sk-serial {display: flex;flex-direction: column;align-items: center;background-color: white;padding-right: 0.2em;padding-left: 0.2em;position: relative;}#sk-container-id-1 div.sk-item {position: relative;z-index: 1;}#sk-container-id-1 div.sk-parallel {display: flex;align-items: stretch;justify-content: center;background-color: white;position: relative;}#sk-container-id-1 div.sk-item::before, #sk-container-id-1 div.sk-parallel-item::before {content: \"\";position: absolute;border-left: 1px solid gray;box-sizing: border-box;top: 0;bottom: 0;left: 50%;z-index: -1;}#sk-container-id-1 div.sk-parallel-item {display: flex;flex-direction: column;z-index: 1;position: relative;background-color: white;}#sk-container-id-1 div.sk-parallel-item:first-child::after {align-self: flex-end;width: 50%;}#sk-container-id-1 div.sk-parallel-item:last-child::after {align-self: flex-start;width: 50%;}#sk-container-id-1 div.sk-parallel-item:only-child::after {width: 0;}#sk-container-id-1 div.sk-dashed-wrapped {border: 1px dashed gray;margin: 0 0.4em 0.5em 0.4em;box-sizing: border-box;padding-bottom: 0.4em;background-color: white;}#sk-container-id-1 div.sk-label label {font-family: monospace;font-weight: bold;display: inline-block;line-height: 1.2em;}#sk-container-id-1 div.sk-label-container {text-align: center;}#sk-container-id-1 div.sk-container {/* jupyter's `normalize.less` sets `[hidden] { display: none; }` but bootstrap.min.css set `[hidden] { display: none !important; }` so we also need the `!important` here to be able to override the default hidden behavior on the sphinx rendered scikit-learn.org. See: https://github.com/scikit-learn/scikit-learn/issues/21755 */display: inline-block !important;position: relative;}#sk-container-id-1 div.sk-text-repr-fallback {display: none;}</style><div id=\"sk-container-id-1\" class=\"sk-top-container\"><div class=\"sk-text-repr-fallback\"><pre>Pipeline(steps=[(&#x27;vectorizer&#x27;, CountVectorizer()),\n",
              "                (&#x27;classifier&#x27;, MultinomialNB())])</pre><b>In a Jupyter environment, please rerun this cell to show the HTML representation or trust the notebook. <br />On GitHub, the HTML representation is unable to render, please try loading this page with nbviewer.org.</b></div><div class=\"sk-container\" hidden><div class=\"sk-item sk-dashed-wrapped\"><div class=\"sk-label-container\"><div class=\"sk-label sk-toggleable\"><input class=\"sk-toggleable__control sk-hidden--visually\" id=\"sk-estimator-id-1\" type=\"checkbox\" ><label for=\"sk-estimator-id-1\" class=\"sk-toggleable__label sk-toggleable__label-arrow\">Pipeline</label><div class=\"sk-toggleable__content\"><pre>Pipeline(steps=[(&#x27;vectorizer&#x27;, CountVectorizer()),\n",
              "                (&#x27;classifier&#x27;, MultinomialNB())])</pre></div></div></div><div class=\"sk-serial\"><div class=\"sk-item\"><div class=\"sk-estimator sk-toggleable\"><input class=\"sk-toggleable__control sk-hidden--visually\" id=\"sk-estimator-id-2\" type=\"checkbox\" ><label for=\"sk-estimator-id-2\" class=\"sk-toggleable__label sk-toggleable__label-arrow\">CountVectorizer</label><div class=\"sk-toggleable__content\"><pre>CountVectorizer()</pre></div></div></div><div class=\"sk-item\"><div class=\"sk-estimator sk-toggleable\"><input class=\"sk-toggleable__control sk-hidden--visually\" id=\"sk-estimator-id-3\" type=\"checkbox\" ><label for=\"sk-estimator-id-3\" class=\"sk-toggleable__label sk-toggleable__label-arrow\">MultinomialNB</label><div class=\"sk-toggleable__content\"><pre>MultinomialNB()</pre></div></div></div></div></div></div></div>"
            ]
          },
          "metadata": {},
          "execution_count": 22
        }
      ]
    },
    {
      "cell_type": "code",
      "source": [
        "print(classification_report(y_test, y_pred))"
      ],
      "metadata": {
        "colab": {
          "base_uri": "https://localhost:8080/"
        },
        "id": "1yqS8FpqzDnQ",
        "outputId": "cd68c845-0e76-4b2f-d547-10d19c0aefcc"
      },
      "execution_count": 26,
      "outputs": [
        {
          "output_type": "stream",
          "name": "stdout",
          "text": [
            "              precision    recall  f1-score   support\n",
            "\n",
            "           0       0.80      0.88      0.84       874\n",
            "           1       0.81      0.70      0.75       649\n",
            "\n",
            "    accuracy                           0.80      1523\n",
            "   macro avg       0.80      0.79      0.79      1523\n",
            "weighted avg       0.80      0.80      0.80      1523\n",
            "\n"
          ]
        }
      ]
    },
    {
      "cell_type": "code",
      "source": [
        "clf = Pipeline([\n",
        "    ('vectorizer', CountVectorizer()),\n",
        "    ('classifier', MultinomialNB())\n",
        "])\n",
        "clf.fit(x_train_pp, y_train_pp)"
      ],
      "metadata": {
        "colab": {
          "base_uri": "https://localhost:8080/",
          "height": 126
        },
        "id": "IsLFMPdilf6I",
        "outputId": "c541473b-f636-440a-bef8-78a2eadd1d00"
      },
      "execution_count": 59,
      "outputs": [
        {
          "output_type": "execute_result",
          "data": {
            "text/plain": [
              "Pipeline(steps=[('vectorizer', CountVectorizer()),\n",
              "                ('classifier', MultinomialNB())])"
            ],
            "text/html": [
              "<style>#sk-container-id-7 {color: black;background-color: white;}#sk-container-id-7 pre{padding: 0;}#sk-container-id-7 div.sk-toggleable {background-color: white;}#sk-container-id-7 label.sk-toggleable__label {cursor: pointer;display: block;width: 100%;margin-bottom: 0;padding: 0.3em;box-sizing: border-box;text-align: center;}#sk-container-id-7 label.sk-toggleable__label-arrow:before {content: \"▸\";float: left;margin-right: 0.25em;color: #696969;}#sk-container-id-7 label.sk-toggleable__label-arrow:hover:before {color: black;}#sk-container-id-7 div.sk-estimator:hover label.sk-toggleable__label-arrow:before {color: black;}#sk-container-id-7 div.sk-toggleable__content {max-height: 0;max-width: 0;overflow: hidden;text-align: left;background-color: #f0f8ff;}#sk-container-id-7 div.sk-toggleable__content pre {margin: 0.2em;color: black;border-radius: 0.25em;background-color: #f0f8ff;}#sk-container-id-7 input.sk-toggleable__control:checked~div.sk-toggleable__content {max-height: 200px;max-width: 100%;overflow: auto;}#sk-container-id-7 input.sk-toggleable__control:checked~label.sk-toggleable__label-arrow:before {content: \"▾\";}#sk-container-id-7 div.sk-estimator input.sk-toggleable__control:checked~label.sk-toggleable__label {background-color: #d4ebff;}#sk-container-id-7 div.sk-label input.sk-toggleable__control:checked~label.sk-toggleable__label {background-color: #d4ebff;}#sk-container-id-7 input.sk-hidden--visually {border: 0;clip: rect(1px 1px 1px 1px);clip: rect(1px, 1px, 1px, 1px);height: 1px;margin: -1px;overflow: hidden;padding: 0;position: absolute;width: 1px;}#sk-container-id-7 div.sk-estimator {font-family: monospace;background-color: #f0f8ff;border: 1px dotted black;border-radius: 0.25em;box-sizing: border-box;margin-bottom: 0.5em;}#sk-container-id-7 div.sk-estimator:hover {background-color: #d4ebff;}#sk-container-id-7 div.sk-parallel-item::after {content: \"\";width: 100%;border-bottom: 1px solid gray;flex-grow: 1;}#sk-container-id-7 div.sk-label:hover label.sk-toggleable__label {background-color: #d4ebff;}#sk-container-id-7 div.sk-serial::before {content: \"\";position: absolute;border-left: 1px solid gray;box-sizing: border-box;top: 0;bottom: 0;left: 50%;z-index: 0;}#sk-container-id-7 div.sk-serial {display: flex;flex-direction: column;align-items: center;background-color: white;padding-right: 0.2em;padding-left: 0.2em;position: relative;}#sk-container-id-7 div.sk-item {position: relative;z-index: 1;}#sk-container-id-7 div.sk-parallel {display: flex;align-items: stretch;justify-content: center;background-color: white;position: relative;}#sk-container-id-7 div.sk-item::before, #sk-container-id-7 div.sk-parallel-item::before {content: \"\";position: absolute;border-left: 1px solid gray;box-sizing: border-box;top: 0;bottom: 0;left: 50%;z-index: -1;}#sk-container-id-7 div.sk-parallel-item {display: flex;flex-direction: column;z-index: 1;position: relative;background-color: white;}#sk-container-id-7 div.sk-parallel-item:first-child::after {align-self: flex-end;width: 50%;}#sk-container-id-7 div.sk-parallel-item:last-child::after {align-self: flex-start;width: 50%;}#sk-container-id-7 div.sk-parallel-item:only-child::after {width: 0;}#sk-container-id-7 div.sk-dashed-wrapped {border: 1px dashed gray;margin: 0 0.4em 0.5em 0.4em;box-sizing: border-box;padding-bottom: 0.4em;background-color: white;}#sk-container-id-7 div.sk-label label {font-family: monospace;font-weight: bold;display: inline-block;line-height: 1.2em;}#sk-container-id-7 div.sk-label-container {text-align: center;}#sk-container-id-7 div.sk-container {/* jupyter's `normalize.less` sets `[hidden] { display: none; }` but bootstrap.min.css set `[hidden] { display: none !important; }` so we also need the `!important` here to be able to override the default hidden behavior on the sphinx rendered scikit-learn.org. See: https://github.com/scikit-learn/scikit-learn/issues/21755 */display: inline-block !important;position: relative;}#sk-container-id-7 div.sk-text-repr-fallback {display: none;}</style><div id=\"sk-container-id-7\" class=\"sk-top-container\"><div class=\"sk-text-repr-fallback\"><pre>Pipeline(steps=[(&#x27;vectorizer&#x27;, CountVectorizer()),\n",
              "                (&#x27;classifier&#x27;, MultinomialNB())])</pre><b>In a Jupyter environment, please rerun this cell to show the HTML representation or trust the notebook. <br />On GitHub, the HTML representation is unable to render, please try loading this page with nbviewer.org.</b></div><div class=\"sk-container\" hidden><div class=\"sk-item sk-dashed-wrapped\"><div class=\"sk-label-container\"><div class=\"sk-label sk-toggleable\"><input class=\"sk-toggleable__control sk-hidden--visually\" id=\"sk-estimator-id-19\" type=\"checkbox\" ><label for=\"sk-estimator-id-19\" class=\"sk-toggleable__label sk-toggleable__label-arrow\">Pipeline</label><div class=\"sk-toggleable__content\"><pre>Pipeline(steps=[(&#x27;vectorizer&#x27;, CountVectorizer()),\n",
              "                (&#x27;classifier&#x27;, MultinomialNB())])</pre></div></div></div><div class=\"sk-serial\"><div class=\"sk-item\"><div class=\"sk-estimator sk-toggleable\"><input class=\"sk-toggleable__control sk-hidden--visually\" id=\"sk-estimator-id-20\" type=\"checkbox\" ><label for=\"sk-estimator-id-20\" class=\"sk-toggleable__label sk-toggleable__label-arrow\">CountVectorizer</label><div class=\"sk-toggleable__content\"><pre>CountVectorizer()</pre></div></div></div><div class=\"sk-item\"><div class=\"sk-estimator sk-toggleable\"><input class=\"sk-toggleable__control sk-hidden--visually\" id=\"sk-estimator-id-21\" type=\"checkbox\" ><label for=\"sk-estimator-id-21\" class=\"sk-toggleable__label sk-toggleable__label-arrow\">MultinomialNB</label><div class=\"sk-toggleable__content\"><pre>MultinomialNB()</pre></div></div></div></div></div></div></div>"
            ]
          },
          "metadata": {},
          "execution_count": 59
        }
      ]
    },
    {
      "cell_type": "code",
      "source": [
        "y_pred = clf.predict(x_test_pp)\n",
        "print(classification_report(y_test_pp, y_pred))"
      ],
      "metadata": {
        "colab": {
          "base_uri": "https://localhost:8080/"
        },
        "id": "O5loCPDk8FTT",
        "outputId": "a6c30917-5efa-48ce-9283-ff4458dbd54d"
      },
      "execution_count": 60,
      "outputs": [
        {
          "output_type": "stream",
          "name": "stdout",
          "text": [
            "              precision    recall  f1-score   support\n",
            "\n",
            "           0       0.81      0.84      0.83       874\n",
            "           1       0.78      0.74      0.76       649\n",
            "\n",
            "    accuracy                           0.80      1523\n",
            "   macro avg       0.79      0.79      0.79      1523\n",
            "weighted avg       0.80      0.80      0.80      1523\n",
            "\n"
          ]
        }
      ]
    },
    {
      "cell_type": "code",
      "source": [
        "tweets = df_test[\"preprocessed_text\"]\n",
        "preds = clf.predict(tweets)"
      ],
      "metadata": {
        "id": "m8uO_LqZzyNI"
      },
      "execution_count": 36,
      "outputs": []
    },
    {
      "cell_type": "code",
      "source": [
        "print(\"Total number of tweets = \", len(df_test), \" |  No. of tweets predicted as disaster tweets = \", len(np.where(preds == 1)[0]), \" | No. of tweets predicted as non disaster = \", len(np.where(preds == 0)[0]))"
      ],
      "metadata": {
        "colab": {
          "base_uri": "https://localhost:8080/"
        },
        "id": "8pZIuZ8_z8bK",
        "outputId": "d1125552-659e-4f61-945f-7bd61417860c"
      },
      "execution_count": 37,
      "outputs": [
        {
          "output_type": "stream",
          "name": "stdout",
          "text": [
            "Total number of tweets =  3263  |  No. of tweets predicted as disaster tweets =  1282  | No. of tweets predicted as non disaster =  1981\n"
          ]
        }
      ]
    },
    {
      "cell_type": "markdown",
      "source": [
        "Text Representation #2 Bag of n-grams"
      ],
      "metadata": {
        "id": "fYmoNcrgq6o2"
      }
    },
    {
      "cell_type": "code",
      "source": [
        "corpus = [\"Whole country is dunbstruck by the catastrophy in Bhubaneshwar.\", \"Lost home, my world got shaken as the earth was shaking. #NepalEarthquake\", \"Party at Abhisha's.\"]\n",
        "corpus_processed = [preprocess(text) for text in corpus]\n",
        "corpus_processed"
      ],
      "metadata": {
        "colab": {
          "base_uri": "https://localhost:8080/"
        },
        "id": "Kdm2BVxUxy8-",
        "outputId": "3cf2e706-2017-4b1b-acf9-7c092f3b212b"
      },
      "execution_count": 44,
      "outputs": [
        {
          "output_type": "execute_result",
          "data": {
            "text/plain": [
              "['country dunbstruck catastrophy Bhubaneshwar',\n",
              " 'lose home world get shake earth shake NepalEarthquake',\n",
              " 'Party Abhisha']"
            ]
          },
          "metadata": {},
          "execution_count": 44
        }
      ]
    },
    {
      "cell_type": "code",
      "source": [
        "v = CountVectorizer(ngram_range=(1,2))\n",
        "v.fit(corpus_processed)\n",
        "v.vocabulary_"
      ],
      "metadata": {
        "colab": {
          "base_uri": "https://localhost:8080/"
        },
        "id": "hoEPgZDszFcE",
        "outputId": "5e650d10-e43f-4bdd-f0ac-66fd206f8647"
      },
      "execution_count": 45,
      "outputs": [
        {
          "output_type": "execute_result",
          "data": {
            "text/plain": [
              "{'country': 4,\n",
              " 'dunbstruck': 6,\n",
              " 'catastrophy': 2,\n",
              " 'bhubaneshwar': 1,\n",
              " 'country dunbstruck': 5,\n",
              " 'dunbstruck catastrophy': 7,\n",
              " 'catastrophy bhubaneshwar': 3,\n",
              " 'lose': 14,\n",
              " 'home': 12,\n",
              " 'world': 22,\n",
              " 'get': 10,\n",
              " 'shake': 19,\n",
              " 'earth': 8,\n",
              " 'nepalearthquake': 16,\n",
              " 'lose home': 15,\n",
              " 'home world': 13,\n",
              " 'world get': 23,\n",
              " 'get shake': 11,\n",
              " 'shake earth': 20,\n",
              " 'earth shake': 9,\n",
              " 'shake nepalearthquake': 21,\n",
              " 'party': 17,\n",
              " 'abhisha': 0,\n",
              " 'party abhisha': 18}"
            ]
          },
          "metadata": {},
          "execution_count": 45
        }
      ]
    },
    {
      "cell_type": "code",
      "source": [
        "v.transform(['Whole country is dunbstruck by the catastrophy in Bhubaneshwar.']).toarray()"
      ],
      "metadata": {
        "colab": {
          "base_uri": "https://localhost:8080/"
        },
        "id": "SsZ_mx6wzfpW",
        "outputId": "1b95df06-66ff-4a7a-ee3b-f837755b1935"
      },
      "execution_count": 46,
      "outputs": [
        {
          "output_type": "execute_result",
          "data": {
            "text/plain": [
              "array([[0, 1, 1, 0, 1, 0, 1, 0, 0, 0, 0, 0, 0, 0, 0, 0, 0, 0, 0, 0, 0, 0,\n",
              "        0, 0]])"
            ]
          },
          "metadata": {},
          "execution_count": 46
        }
      ]
    },
    {
      "cell_type": "code",
      "source": [
        "v.transform(['Party with Bhootnath.']).toarray()"
      ],
      "metadata": {
        "colab": {
          "base_uri": "https://localhost:8080/"
        },
        "id": "B7qfnHG4ztcv",
        "outputId": "3836f2a9-3c08-4f86-8d06-e0fd7ac70a5a"
      },
      "execution_count": 48,
      "outputs": [
        {
          "output_type": "execute_result",
          "data": {
            "text/plain": [
              "array([[0, 0, 0, 0, 0, 0, 0, 0, 0, 0, 0, 0, 0, 0, 0, 0, 0, 1, 0, 0, 0, 0,\n",
              "        0, 0]])"
            ]
          },
          "metadata": {},
          "execution_count": 48
        }
      ]
    },
    {
      "cell_type": "code",
      "source": [
        "df_train['target'].value_counts()\n",
        "#Handle class imbalance if required"
      ],
      "metadata": {
        "colab": {
          "base_uri": "https://localhost:8080/"
        },
        "id": "BRFTuoOe5Cxb",
        "outputId": "4182883a-37b9-4720-cc39-8bdcf3c4116a"
      },
      "execution_count": 49,
      "outputs": [
        {
          "output_type": "execute_result",
          "data": {
            "text/plain": [
              "target\n",
              "0    4342\n",
              "1    3271\n",
              "Name: count, dtype: int64"
            ]
          },
          "metadata": {},
          "execution_count": 49
        }
      ]
    },
    {
      "cell_type": "code",
      "source": [
        "vectorizer.vocabulary_"
      ],
      "metadata": {
        "colab": {
          "base_uri": "https://localhost:8080/"
        },
        "collapsed": true,
        "id": "Ss-4jCW-xJUc",
        "outputId": "d33e0a7a-d610-41d2-ac3f-137e4586ec1f"
      },
      "execution_count": 42,
      "outputs": [
        {
          "output_type": "execute_result",
          "data": {
            "text/plain": [
              "{'courageous and': 14892,\n",
              " 'and honest': 3385,\n",
              " 'honest analysis': 25170,\n",
              " 'analysis of': 3089,\n",
              " 'of need': 35916,\n",
              " 'need to': 34133,\n",
              " 'to use': 50229,\n",
              " 'use atomic': 52059,\n",
              " 'atomic bomb': 5094,\n",
              " 'bomb in': 7382,\n",
              " 'in 1945': 26088,\n",
              " '1945 hiroshima70': 424,\n",
              " 'hiroshima70 japanese': 24878,\n",
              " 'japanese military': 28316,\n",
              " 'military refused': 32538,\n",
              " 'refused surrender': 40658,\n",
              " 'surrender https': 45932,\n",
              " 'https co': 25523,\n",
              " 'co vhmtytptgr': 13523,\n",
              " 'zachzaidman 670thescore': 56595,\n",
              " '670thescore wld': 1079,\n",
              " 'wld shame': 55128,\n",
              " 'shame if': 43095,\n",
              " 'if that': 25879,\n",
              " 'that golf': 46853,\n",
              " 'golf cart': 22582,\n",
              " 'cart became': 9263,\n",
              " 'became engulfed': 6221,\n",
              " 'engulfed in': 18450,\n",
              " 'in flames': 26309,\n",
              " 'flames boycottbears': 20339,\n",
              " 'tell barackobama': 46465,\n",
              " 'barackobama to': 5738,\n",
              " 'to rescind': 50094,\n",
              " 'rescind medals': 40934,\n",
              " 'medals of': 32102,\n",
              " 'of honor': 35784,\n",
              " 'honor given': 25182,\n",
              " 'given to': 22361,\n",
              " 'to us': 50228,\n",
              " 'us soldiers': 52015,\n",
              " 'soldiers at': 44307,\n",
              " 'at the': 5046,\n",
              " 'the massacre': 47781,\n",
              " 'massacre of': 31734,\n",
              " 'of wounded': 36179,\n",
              " 'wounded knee': 55531,\n",
              " 'knee sign': 29222,\n",
              " 'sign now': 43555,\n",
              " 'now amp': 35072,\n",
              " 'amp rt': 2895,\n",
              " 'rt https': 41668,\n",
              " 'co u4r8driuac': 13367,\n",
              " 'worried about': 55413,\n",
              " 'about how': 1433,\n",
              " 'how the': 25480,\n",
              " 'the ca': 47251,\n",
              " 'ca drought': 8658,\n",
              " 'drought might': 17582,\n",
              " 'might affect': 32463,\n",
              " 'affect you': 1812,\n",
              " 'you extreme': 56117,\n",
              " 'extreme weather': 19219,\n",
              " 'weather does': 53644,\n",
              " 'does it': 17078,\n",
              " 'it dampen': 27917,\n",
              " 'dampen our': 15587,\n",
              " 'our economy': 37395,\n",
              " 'economy http': 17981,\n",
              " 'http co': 25521,\n",
              " 'co fdzzumyw8i': 11524,\n",
              " 'youngheroesid lava': 56334,\n",
              " 'lava blast': 29679,\n",
              " 'blast amp': 7002,\n",
              " 'amp power': 2885,\n",
              " 'power red': 39218,\n",
              " 'red pantherattack': 40583,\n",
              " 'pantherattack jamilazzaini': 37910,\n",
              " 'jamilazzaini alifaditha': 28267,\n",
              " 'wreckage conclusively': 55621,\n",
              " 'conclusively confirmed': 14486,\n",
              " 'confirmed as': 14523,\n",
              " 'as from': 4642,\n",
              " 'from mh370': 21495,\n",
              " 'mh370 malaysia': 32381,\n",
              " 'malaysia pm': 31433,\n",
              " 'pm investigators': 38902,\n",
              " 'investigators and': 27279,\n",
              " 'and the': 3697,\n",
              " 'the families': 47488,\n",
              " 'families of': 19431,\n",
              " 'of those': 36091,\n",
              " 'those who': 49238,\n",
              " 'who were': 54398,\n",
              " 'were http': 53846,\n",
              " 'co yi54xrhqgb': 13851,\n",
              " 'our builder': 37383,\n",
              " 'builder is': 7982,\n",
              " 'is having': 27515,\n",
              " 'having dental': 23967,\n",
              " 'dental emergency': 16233,\n",
              " 'emergency which': 18298,\n",
              " 'which has': 54207,\n",
              " 'has ruined': 23717,\n",
              " 'ruined my': 41753,\n",
              " 'my plan': 33738,\n",
              " 'plan to': 38703,\n",
              " 'to emotionally': 49854,\n",
              " 'emotionally blackmail': 18331,\n",
              " 'blackmail him': 6976,\n",
              " 'him this': 24798,\n",
              " 'this afternoon': 48969,\n",
              " 'afternoon with': 1988,\n",
              " 'with my': 54964,\n",
              " 'my bump': 33544,\n",
              " 'bmx issues': 7275,\n",
              " 'issues areal': 27838,\n",
              " 'areal flood': 4394,\n",
              " 'flood advisory': 20448,\n",
              " 'advisory for': 1795,\n",
              " 'for shelby': 20954,\n",
              " 'shelby al': 43203,\n",
              " 'al till': 2201,\n",
              " 'till aug': 49483,\n",
              " 'aug 00': 5216,\n",
              " '00 pm': 7,\n",
              " 'pm cdt': 38893,\n",
              " 'cdt http': 9498,\n",
              " 'co 62oddekvli': 10648,\n",
              " '360wisenews china': 797,\n",
              " 'china stock': 9892,\n",
              " 'stock market': 45271,\n",
              " 'market crash': 31651,\n",
              " 'crash are': 14988,\n",
              " 'are there': 4343,\n",
              " 'there gems': 48660,\n",
              " 'gems in': 22010,\n",
              " 'in the': 26658,\n",
              " 'the rubble': 48059,\n",
              " 'rubble http': 41721,\n",
              " 'co aod2ftbmgu': 10964,\n",
              " 'robertoneill31 getting': 41443,\n",
              " 'getting hit': 22217,\n",
              " 'hit by': 24989,\n",
              " 'by foul': 8485,\n",
              " 'foul ball': 21166,\n",
              " 'ball while': 5666,\n",
              " 'while sitting': 54251,\n",
              " 'sitting there': 43815,\n",
              " 'there is': 48664,\n",
              " 'is hardly': 27514,\n",
              " 'hardly freak': 23579,\n",
              " 'freak accident': 21261,\n",
              " 'accident it': 1560,\n",
              " 'it war': 28093,\n",
              " 'war zone': 52986,\n",
              " 'one direction': 36875,\n",
              " 'direction is': 16745,\n",
              " 'is my': 27586,\n",
              " 'my pick': 33736,\n",
              " 'pick for': 38527,\n",
              " 'for http': 20836,\n",
              " 'co q2eblokeve': 12877,\n",
              " 'q2eblokeve fan': 39832,\n",
              " 'fan army': 19479,\n",
              " 'army directioners': 4484,\n",
              " 'directioners http': 16746,\n",
              " 'co encmhz6y34': 11442,\n",
              " 'encmhz6y34 x1402': 18367,\n",
              " 'inws alert': 27300,\n",
              " 'alert spsgsp': 2262,\n",
              " 'spsgsp from': 44851,\n",
              " 'from 2015': 21399,\n",
              " '2015 10': 534,\n",
              " '10 40': 123,\n",
              " '40 pm': 860,\n",
              " 'pm to': 38907,\n",
              " 'to 11': 49651,\n",
              " '11 15': 190,\n",
              " '15 pm': 315,\n",
              " 'pm edt': 38897,\n",
              " 'edt for': 18009,\n",
              " 'for pickens': 20912,\n",
              " 'pickens county': 38535,\n",
              " 'county strong': 14873,\n",
              " 'strong thunderstorm': 45559,\n",
              " 'thunderstorm will': 49424,\n",
              " 'will impact': 54603,\n",
              " 'impact http': 26039,\n",
              " 'co ldcwkyuaff': 12282,\n",
              " 'sadly how': 41922,\n",
              " 'how windows': 25491,\n",
              " 'windows 10': 54704,\n",
              " '10 reveals': 135,\n",
              " 'reveals microsoft': 41144,\n",
              " 'microsoft ethics': 32435,\n",
              " 'ethics armageddon': 18668,\n",
              " 'armageddon http': 4460,\n",
              " 'co stftjcrjea': 13204,\n",
              " 'billy_hodge aurora': 6830,\n",
              " 'aurora theater': 5250,\n",
              " 'theater shooting': 48394,\n",
              " 'shooting trial': 43332,\n",
              " 'trial gunman': 50948,\n",
              " 'gunman expected': 23183,\n",
              " 'expected notoriety': 19072,\n",
              " 'notoriety for': 35057,\n",
              " 'for mass': 20866,\n",
              " 'mass murder': 31719,\n",
              " 'murder and': 33374,\n",
              " 'and nothing': 3514,\n",
              " 'nothing else': 35030,\n",
              " 'else http': 18198,\n",
              " 'co 1rpchru72c': 10402,\n",
              " 'officials say': 36305,\n",
              " 'say quarantine': 42249,\n",
              " 'quarantine is': 39870,\n",
              " 'is in': 27540,\n",
              " 'in place': 26544,\n",
              " 'place at': 38652,\n",
              " 'at birmingham': 4916,\n",
              " 'birmingham home': 6876,\n",
              " 'home over': 25120,\n",
              " 'over possible': 37644,\n",
              " 'possible ebola': 39116,\n",
              " 'ebola case': 17955,\n",
              " 'case edward': 9284,\n",
              " 'edward khan': 18017,\n",
              " 'khan of': 28993,\n",
              " 'of the': 36082,\n",
              " 'the http': 47644,\n",
              " 'co qnij2p8zv6': 12937,\n",
              " 'zojadelin you': 56641,\n",
              " 'you literally': 56182,\n",
              " 'literally almost': 30495,\n",
              " 'almost had': 2455,\n",
              " 'had head': 23295,\n",
              " 'head on': 24181,\n",
              " 'on collision': 36581,\n",
              " 'collision with': 14221,\n",
              " 'with us': 55055,\n",
              " 'us today': 52024,\n",
              " 'today on': 50308,\n",
              " 'on pilot': 36722,\n",
              " 'pilot knob': 38579,\n",
              " 'connor franta': 14562,\n",
              " 'franta damn': 21258,\n",
              " 'damn sirens': 15579,\n",
              " 'sirens hope': 43756,\n",
              " 'hope everyone': 25198,\n",
              " 'everyone is': 18924,\n",
              " 'is okay': 27599,\n",
              " 'okay dan': 36401,\n",
              " 'dan howell': 15592,\n",
              " 'howell can': 25499,\n",
              " 'can you': 9014,\n",
              " 'you please': 56218,\n",
              " 'please get': 38835,\n",
              " 'get murdered': 22136,\n",
              " 'murdered on': 33398,\n",
              " 'on another': 36534,\n",
              " 'another street': 3932,\n",
              " 'is this': 27682,\n",
              " 'this the': 49156,\n",
              " 'the end': 47455,\n",
              " 'end of': 18385,\n",
              " 'of australia': 35549,\n",
              " 'australia ûªs': 5273,\n",
              " 'ûªs best': 56761,\n",
              " 'best burger': 6632,\n",
              " 'burger http': 8087,\n",
              " 'co te5tdlyimn': 13266,\n",
              " 'te5tdlyimn via': 46369,\n",
              " 'via newscomauhq': 52448,\n",
              " 'lol the': 30762,\n",
              " 'the real': 48013,\n",
              " 'real issue': 40374,\n",
              " 'issue is': 27826,\n",
              " 'is the': 27679,\n",
              " 'the the': 48227,\n",
              " 'the way': 48341,\n",
              " 'way the': 53444,\n",
              " 'the nfl': 47863,\n",
              " 'nfl is': 34464,\n",
              " 'is trying': 27701,\n",
              " 'trying to': 51132,\n",
              " 'to ruin': 50112,\n",
              " 'ruin this': 41750,\n",
              " 'this guy': 49044,\n",
              " 'guy legacy': 23220,\n",
              " 'legacy https': 29883,\n",
              " 'co s107ee7cyc': 13102,\n",
              " 'maailiss diaporama': 31216,\n",
              " 'diaporama sixpenceee': 16596,\n",
              " 'sixpenceee karymsky': 43829,\n",
              " 'karymsky lake': 28867,\n",
              " 'lake is': 29459,\n",
              " 'is crater': 27446,\n",
              " 'crater lake': 15048,\n",
              " 'lake located': 29460,\n",
              " 'located in': 30709,\n",
              " 'the karymsky': 47702,\n",
              " 'karymsky volcanoåêinåêrussia': 28868,\n",
              " 'volcanoåêinåêrussia with': 52735,\n",
              " 'with û_': 55073,\n",
              " 'û_ http': 56705,\n",
              " 'co 4o460fm8hn': 10579,\n",
              " 'my biggest': 33525,\n",
              " 'biggest fear': 6792,\n",
              " 'fear is': 19704,\n",
              " 'is disappointing': 27461,\n",
              " 'disappointing the': 16770,\n",
              " 'the people': 47933,\n",
              " 'people who': 38285,\n",
              " 'who believe': 54328,\n",
              " 'believe in': 6553,\n",
              " 'in me': 26455,\n",
              " 'just had': 28681,\n",
              " 'had my': 23310,\n",
              " 'my first': 33619,\n",
              " 'first counter': 20240,\n",
              " 'counter on': 14835,\n",
              " 'on league': 36680,\n",
              " 'league game': 29754,\n",
              " 'game against': 21859,\n",
              " 'against another': 2021,\n",
              " 'another orianna': 3922,\n",
              " 'orianna happened': 37291,\n",
              " 'happened to': 23512,\n",
              " 'to demolish': 49815,\n",
              " 'demolish her': 16172,\n",
              " 'her xd': 24548,\n",
              " 'xd totally': 55757,\n",
              " 'totally appreciate': 50593,\n",
              " 'appreciate people': 4153,\n",
              " 'people that': 38277,\n",
              " 'that play': 46949,\n",
              " 'play her': 38766,\n",
              " 'they say': 48827,\n",
              " 'say bad': 42229,\n",
              " 'bad things': 5554,\n",
              " 'things happen': 48893,\n",
              " 'happen for': 23503,\n",
              " 'for reason': 20929,\n",
              " 'reason but': 40473,\n",
              " 'but no': 8314,\n",
              " 'no wise': 34755,\n",
              " 'wise words': 54780,\n",
              " 'words gonna': 55271,\n",
              " 'gonna stop': 22621,\n",
              " 'stop te': 45318,\n",
              " 'te bleeding': 46368,\n",
              " 'cortezera dead': 14746,\n",
              " 'dead ass': 15855,\n",
              " 'ass screamed': 4820,\n",
              " 'screamed when': 42461,\n",
              " 'when we': 54148,\n",
              " 'we signed': 53541,\n",
              " 'signed him': 43565,\n",
              " 'him couldn': 24778,\n",
              " 'couldn fucking': 14827,\n",
              " 'fucking believe': 21649,\n",
              " 'believe it': 6555,\n",
              " 'caitsroberts see': 8703,\n",
              " 'see the': 42677,\n",
              " 'the night': 47866,\n",
              " 'night wee': 34565,\n",
              " 'wee barra': 53704,\n",
              " 'barra to': 5763,\n",
              " 'to get': 49894,\n",
              " 'get absolutely': 22078,\n",
              " 'absolutely wrecked': 1519,\n",
              " 'mental twitter': 32272,\n",
              " 'twitter note': 51341,\n",
              " 'note make': 35021,\n",
              " 'make sure': 31384,\n",
              " 'sure my': 45893,\n",
              " 'my smoke': 33777,\n",
              " 'smoke alarm': 44020,\n",
              " 'alarm battery': 2213,\n",
              " 'battery is': 5836,\n",
              " 'is up': 27706,\n",
              " 'up to': 51818,\n",
              " 'to snuff': 50158,\n",
              " 'snuff at': 44123,\n",
              " 'at all': 4903,\n",
              " 'all times': 2392,\n",
              " 'times or': 49580,\n",
              " 'or face': 37156,\n",
              " 'face many': 19286,\n",
              " 'many twitter': 31599,\n",
              " 'twitter reminders': 51345,\n",
              " 'reminders of': 40795,\n",
              " 'of changing': 35603,\n",
              " 'changing my': 9669,\n",
              " 'my battery': 33517,\n",
              " 'hornybigbadwolf sets': 25237,\n",
              " 'sets the': 42998,\n",
              " 'the forest': 47530,\n",
              " 'forest on': 21089,\n",
              " 'on fire': 36615,\n",
              " 'wowsavannah what': 55578,\n",
              " 'what the': 54021,\n",
              " 'the harm': 47609,\n",
              " 'harm they': 23606,\n",
              " 'they re': 48822,\n",
              " 're collectibles': 40240,\n",
              " 'honestly nightmarish': 25176,\n",
              " 'nightmarish god': 34573,\n",
              " 'god driving': 22511,\n",
              " 'driving to': 17540,\n",
              " 'to new': 50018,\n",
              " 'new places': 34294,\n",
              " 'places is': 38667,\n",
              " 'is always': 27388,\n",
              " 'always stressful': 2583,\n",
              " 'stressful as': 45502,\n",
              " 'as shit': 4707,\n",
              " 'shit amp': 43266,\n",
              " 'amp hate': 2833,\n",
              " 'hate it': 23775,\n",
              " 'it so': 28058,\n",
              " 'so much': 44208,\n",
              " 'much ugh': 33317,\n",
              " 'ugh almost': 51475,\n",
              " 'almost crashed': 2450,\n",
              " 'crashed few': 15032,\n",
              " 'few times': 19872,\n",
              " 'zouma just': 56669,\n",
              " 'just flattened': 28671,\n",
              " 'flattened that': 20407,\n",
              " 'that guy': 46858,\n",
              " 'just added': 28617,\n",
              " 'added sandy': 1738,\n",
              " 'sandy first': 42091,\n",
              " 'first responders': 20268,\n",
              " 'responders lost': 41046,\n",
              " 'lost their': 30958,\n",
              " 'their homes': 48454,\n",
              " 'homes to': 25159,\n",
              " 'to vip': 50238,\n",
              " 'vip home': 52656,\n",
              " 'home page': 25121,\n",
              " 'page group': 37766,\n",
              " 'group on': 23041,\n",
              " 'on vimeo': 36815,\n",
              " 'vimeo https': 52620,\n",
              " 'co lkxi6uxjaq': 12315,\n",
              " 'heat advisory': 24301,\n",
              " 'advisory is': 1796,\n",
              " 'in effect': 26276,\n",
              " 'effect from': 18034,\n",
              " 'from pm': 21518,\n",
              " 'pm through': 38904,\n",
              " 'through pm': 49348,\n",
              " 'pm thursday': 38906,\n",
              " 'thursday building': 49435,\n",
              " 'building heat': 7985,\n",
              " 'heat wave': 24310,\n",
              " 'wave and': 53384,\n",
              " 'and increasing': 3402,\n",
              " 'increasing humidity': 26779,\n",
              " 'humidity lawx': 25584,\n",
              " 'lawx http': 29714,\n",
              " 'co u0sykowvwv': 13357,\n",
              " 'moderate drought': 32822,\n",
              " 'drought is': 17580,\n",
              " 'is spreading': 27660,\n",
              " 'spreading rapidly': 44839,\n",
              " 'rapidly across': 40147,\n",
              " 'across central': 1641,\n",
              " 'central ga': 9541,\n",
              " 'ga macon': 21828,\n",
              " 'macon warnerrobins': 31237,\n",
              " 'warnerrobins dublin': 53002,\n",
              " 'dublin milledgeville': 17687,\n",
              " 'milledgeville gawx': 32561,\n",
              " 'gawx http': 21960,\n",
              " 'co phnez60cwe': 12796,\n",
              " 'fatal attraction': 19573,\n",
              " 'hassanrouhani wars': 23762,\n",
              " 'wars doomed': 53035,\n",
              " 'doomed to': 17279,\n",
              " 'to destruction': 49820,\n",
              " 'destruction loss': 16458,\n",
              " 'loss money': 30938,\n",
              " 'money must': 32891,\n",
              " 'must invest': 33464,\n",
              " 'invest in': 27266,\n",
              " 'in iran': 26384,\n",
              " 'iran inside': 27331,\n",
              " 'inside that': 27034,\n",
              " 'that should': 46979,\n",
              " 'should not': 43409,\n",
              " 'not go': 34928,\n",
              " 'go outside': 22483,\n",
              " 'national park': 33970,\n",
              " 'park services': 37956,\n",
              " 'services tonto': 42963,\n",
              " 'tonto national': 50446,\n",
              " 'national forest': 33966,\n",
              " 'forest stop': 21093,\n",
              " 'stop the': 45320,\n",
              " 'the annihilation': 47127,\n",
              " 'annihilation of': 3868,\n",
              " 'the salt': 48064,\n",
              " 'salt river': 42018,\n",
              " 'river wild': 41374,\n",
              " 'wild horse': 54518,\n",
              " 'horse https': 25265,\n",
              " 'co matijwkzbh': 12394,\n",
              " 'matijwkzbh via': 31782,\n",
              " 'via change': 52407,\n",
              " 'my mantra': 33695,\n",
              " 'mantra this': 31555,\n",
              " 'this morning': 49086,\n",
              " 'morning heading': 33051,\n",
              " 'heading out': 24194,\n",
              " 'out to': 37524,\n",
              " 'to make': 49983,\n",
              " 'make whirlwind': 31391,\n",
              " 'whirlwind trip': 54286,\n",
              " 'trip down': 50985,\n",
              " 'down south': 17347,\n",
              " 'south û_': 44645,\n",
              " 'û_ https': 56706,\n",
              " 'co geht4ski86': 11652,\n",
              " 'np avenged': 35181,\n",
              " 'avenged sevenfold': 5346,\n",
              " 'sevenfold hail': 43021,\n",
              " 'hail to': 23376,\n",
              " 'to the': 50195,\n",
              " 'the king': 47708,\n",
              " 'two jewish': 51378,\n",
              " 'jewish terrorists': 28405,\n",
              " 'terrorists charged': 46601,\n",
              " 'charged in': 9694,\n",
              " 'in historic': 26362,\n",
              " 'historic church': 24964,\n",
              " 'church arson': 9980,\n",
              " 'arson the': 4561,\n",
              " 'the ugly': 48285,\n",
              " 'ugly truth': 51481,\n",
              " 'truth http': 51118,\n",
              " 'co ieksnfsby7': 11907,\n",
              " 'ieksnfsby7 http': 25813,\n",
              " 'co vwcf3slkrw': 13564,\n",
              " 'dk eyewitness': 16971,\n",
              " 'eyewitness travel': 19258,\n",
              " 'travel guide': 50879,\n",
              " 'guide denmark': 23143,\n",
              " 'denmark travel': 16230,\n",
              " 'guide ebay': 23144,\n",
              " 'ebay auctions': 17948,\n",
              " 'auctions you': 5204,\n",
              " 'you should': 56248,\n",
              " 'should keep': 43405,\n",
              " 'keep an': 28901,\n",
              " 'an eye': 3028,\n",
              " 'eye on': 19230,\n",
              " 'on http': 36652,\n",
              " 'co xpwkodpqto': 13750,\n",
              " 'police kill': 38974,\n",
              " 'kill hatchet': 29069,\n",
              " 'hatchet wielding': 23771,\n",
              " 'wielding gunman': 54503,\n",
              " 'gunman who': 23186,\n",
              " 'who opened': 54370,\n",
              " 'opened fire': 37072,\n",
              " 'fire inside': 20104,\n",
              " 'inside nashville': 27027,\n",
              " 'nashville movie': 33945,\n",
              " 'movie theater': 33200,\n",
              " 'theater aåêmiddle': 48392,\n",
              " 'aåêmiddle aged': 5435,\n",
              " 'aged manåêarmed': 2046,\n",
              " 'manåêarmed wi': 31603,\n",
              " 'wi http': 54488,\n",
              " 'co tyd47nfl5x': 13348,\n",
              " 'teahivetweets you': 46382,\n",
              " 'you would': 56304,\n",
              " 'would get': 55475,\n",
              " 'get inundated': 22129,\n",
              " 'usatoday on': 52054,\n",
              " 'on today': 36797,\n",
              " 'today frontpage': 50289,\n",
              " 'frontpage bioterror': 21588,\n",
              " 'bioterror lab': 6848,\n",
              " 'lab faced': 29415,\n",
              " 'faced secret': 19307,\n",
              " 'secret sanctions': 42612,\n",
              " 'sanctions rickperry': 42076,\n",
              " 'rickperry doesn': 41203,\n",
              " 'doesn make': 17098,\n",
              " 'make the': 31385,\n",
              " 'the cut': 47367,\n",
              " 'cut for': 15383,\n",
              " 'for foxnew': 20805,\n",
              " 'foxnew û_': 21211,\n",
              " 'co 5ukohk7sob': 10637,\n",
              " 'gained followers': 21843,\n",
              " 'followers in': 20616,\n",
              " 'the last': 47720,\n",
              " 'last week': 29597,\n",
              " 'week you': 53734,\n",
              " 'you know': 56175,\n",
              " 'know your': 29288,\n",
              " 'your stats': 56479,\n",
              " 'stats and': 45099,\n",
              " 'and grow': 3357,\n",
              " 'grow with': 23060,\n",
              " 'with http': 54906,\n",
              " 'co tiyulif5c6': 13291,\n",
              " 'jkl cancels': 28430,\n",
              " 'cancels flash': 9035,\n",
              " 'flash flood': 20376,\n",
              " 'flood warning': 20471,\n",
              " 'warning for': 53007,\n",
              " 'for bell': 20735,\n",
              " 'bell harlan': 6566,\n",
              " 'harlan knox': 23584,\n",
              " 'knox ky': 29304,\n",
              " 'ky http': 29382,\n",
              " 'co 4ry6zhcpoq': 10587,\n",
              " '4ry6zhcpoq wx': 938,\n",
              " 'the creepiest': 47351,\n",
              " 'creepiest youth': 15108,\n",
              " 'youth camp': 56529,\n",
              " 'camp ever': 8888,\n",
              " 'ever http': 18841,\n",
              " 'co t8uqm7imir': 13241,\n",
              " 'rescuers recover': 40985,\n",
              " 'recover body': 40549,\n",
              " 'body of': 7339,\n",
              " 'of 37': 35491,\n",
              " '37 year': 802,\n",
              " 'year old': 55891,\n",
              " 'old calgary': 36436,\n",
              " 'calgary man': 8743,\n",
              " 'man from': 31474,\n",
              " 'from lake': 21486,\n",
              " 'lake near': 29461,\n",
              " 'near vulcan': 34081,\n",
              " 'vulcan û_': 52789,\n",
              " 'co gaehr9bhek': 11631,\n",
              " 'severe storm': 43029,\n",
              " 'storm weakening': 45402,\n",
              " 'weakening as': 53572,\n",
              " 'as it': 4662,\n",
              " 'it moves': 28004,\n",
              " 'moves se': 33189,\n",
              " 'se towards': 42526,\n",
              " 'towards lubbock': 50640,\n",
              " 'lubbock area': 31124,\n",
              " 'area outflow': 4382,\n",
              " 'outflow boundary': 37556,\n",
              " 'boundary may': 7586,\n",
              " 'may create': 31823,\n",
              " 'create dust': 15078,\n",
              " 'dust and': 17771,\n",
              " 'and 50': 3108,\n",
              " '50 mph': 962,\n",
              " 'mph gusts': 33226,\n",
              " 'gusts http': 23208,\n",
              " 'co ka1hbjlqvw': 12145,\n",
              " 'get that': 22162,\n",
              " 'that hazard': 46866,\n",
              " 'hazard pay': 24011,\n",
              " 'vilelunar trickshot': 52606,\n",
              " 'trickshot with': 50967,\n",
              " 'with regular': 55006,\n",
              " 'regular controller': 40686,\n",
              " 'controller fucking': 14656,\n",
              " 'fucking infinite': 21664,\n",
              " 'infinite fading': 26884,\n",
              " 'fading is': 19335,\n",
              " 'is so': 27654,\n",
              " 'so harm': 44181,\n",
              " 'harm gt': 23590,\n",
              " 'set new': 42982,\n",
              " 'new record': 34302,\n",
              " 'record states': 40540,\n",
              " 'states in': 45089,\n",
              " 'in days': 26246,\n",
              " 'days don': 15806,\n",
              " 'don even': 17188,\n",
              " 'even know': 18772,\n",
              " 'know where': 29282,\n",
              " 'where am': 54162,\n",
              " 'am when': 2632,\n",
              " 'when wake': 54146,\n",
              " 'wake up': 52848,\n",
              " 'up anymore': 51731,\n",
              " 'anymore what': 4021,\n",
              " 'what whirlwind': 54034,\n",
              " 'whirlwind loving': 54280,\n",
              " 'loving every': 31066,\n",
              " 'every minute': 18885,\n",
              " 'minute though': 32662,\n",
              " 'hmm 12000': 25026,\n",
              " '12000 nigerian': 247,\n",
              " 'nigerian refugees': 34516,\n",
              " 'refugees repatriated': 40647,\n",
              " 'repatriated from': 40841,\n",
              " 'from cameroon': 21429,\n",
              " 'cameroon http': 8878,\n",
              " 'co ytw9slwvmg': 13895,\n",
              " 'the prophet': 47993,\n",
              " 'prophet peace': 39618,\n",
              " 'peace be': 38146,\n",
              " 'be upon': 6122,\n",
              " 'upon him': 51900,\n",
              " 'him said': 24793,\n",
              " 'said save': 41971,\n",
              " 'save yourself': 42185,\n",
              " 'yourself from': 56522,\n",
              " 'from hellfire': 21472,\n",
              " 'hellfire even': 24378,\n",
              " 'even if': 18770,\n",
              " 'if it': 25848,\n",
              " 'it is': 27977,\n",
              " 'is by': 27429,\n",
              " 'by giving': 8488,\n",
              " 'giving half': 22368,\n",
              " 'half date': 23424,\n",
              " 'date in': 15697,\n",
              " 'in charity': 26206,\n",
              " 'lone survivor': 30789,\n",
              " 'survivor the': 45990,\n",
              " 'the eyewitness': 47479,\n",
              " 'eyewitness account': 19248,\n",
              " 'account of': 1597,\n",
              " 'of operation': 35942,\n",
              " 'operation redwing': 37090,\n",
              " 'redwing and': 40618,\n",
              " 'the lost': 47761,\n",
              " 'lost heroes': 30955,\n",
              " 'heroes of': 24599,\n",
              " 'of seal': 36018,\n",
              " 'seal team': 42540,\n",
              " 'team û_': 46398,\n",
              " 'co nxtwxjcavh': 12603,\n",
              " 'nxtwxjcavh http': 35301,\n",
              " 'co ol8esfrgle': 12684,\n",
              " 'martinmj22 yougov': 31692,\n",
              " 'yougov when': 56318,\n",
              " 'when did': 54074,\n",
              " 'did 12': 16605,\n",
              " '12 seat': 241,\n",
              " 'seat majority': 42570,\n",
              " 'majority with': 31360,\n",
              " 'with 36': 54800,\n",
              " '36 of': 792,\n",
              " 'the vote': 48327,\n",
              " 'vote become': 52748,\n",
              " 'become landslide': 6263,\n",
              " 'punjab government': 39743,\n",
              " 'government flood': 22820,\n",
              " 'flood relief': 20466,\n",
              " 'relief platform': 40746,\n",
              " 'platform http': 38755,\n",
              " 'co vulrclw7bd': 13560,\n",
              " 'vulrclw7bd realtime': 52796,\n",
              " 'realtime information': 40464,\n",
              " 'information on': 26906,\n",
              " 'on inundation': 36662,\n",
              " 'inundation damages': 27247,\n",
              " 'damages rescue': 15557,\n",
              " 'rescue efforts': 40942,\n",
              " 'efforts amp': 18050,\n",
              " 'amp travel': 2932,\n",
              " 'travel alerts': 50877,\n",
              " 'texas seeks': 46638,\n",
              " 'seeks comment': 42713,\n",
              " 'comment on': 14339,\n",
              " 'on rules': 36742,\n",
              " 'rules for': 41767,\n",
              " 'for changes': 20752,\n",
              " 'changes to': 9668,\n",
              " 'to windstorm': 50256,\n",
              " 'windstorm insurer': 54730,\n",
              " 'insurer http': 27089,\n",
              " 'co ei8qqhregz': 11424,\n",
              " 'ei8qqhregz insurance': 18070,\n",
              " 'had school': 23324,\n",
              " 'school today': 42390,\n",
              " 'today and': 50280,\n",
              " 'and ve': 3738,\n",
              " 've already': 52255,\n",
              " 'already had': 2497,\n",
              " 'had panic': 23316,\n",
              " 'panic attack': 37874,\n",
              " 'attack thank': 5136,\n",
              " 'thank you': 46732,\n",
              " 'you high': 56157,\n",
              " 'high school': 24679,\n",
              " 'school for': 42373,\n",
              " 'for sucking': 20977,\n",
              " 'earthquake in': 17891,\n",
              " 'in sicily': 26604,\n",
              " 'sicily italy': 43516,\n",
              " 'italy iphone': 28123,\n",
              " 'iphone users': 27314,\n",
              " 'users download': 52094,\n",
              " 'download the': 17367,\n",
              " 'the earthquake': 47437,\n",
              " 'earthquake app': 17885,\n",
              " 'app for': 4113,\n",
              " 'for more': 20875,\n",
              " 'more information': 33000,\n",
              " 'information http': 26905,\n",
              " 'co v3azwoamzk': 13476,\n",
              " 'final medinah': 19971,\n",
              " 'medinah update': 32136,\n",
              " 'update shot': 51860,\n",
              " 'shot 105': 43360,\n",
              " '105 49': 169,\n",
              " '49 on': 909,\n",
              " 'on front': 36625,\n",
              " 'front exploded': 21574,\n",
              " 'exploded with': 19147,\n",
              " 'with 56': 54804,\n",
              " '56 on': 1012,\n",
              " 'on back': 36543,\n",
              " 'back imkeepingmydayjob': 5500,\n",
              " 'imkeepingmydayjob pic': 26029,\n",
              " 'pic is': 38522,\n",
              " 'is famous': 27481,\n",
              " 'famous 17': 19476,\n",
              " '17 http': 370,\n",
              " 'co kcmbbwwp8g': 12154,\n",
              " 'fire crews': 20075,\n",
              " 'crews evacuate': 15119,\n",
              " 'evacuate passengers': 18703,\n",
              " 'passengers from': 38026,\n",
              " 'from gold': 21468,\n",
              " 'gold coast': 22576,\n",
              " 'coast tram': 14033,\n",
              " 'tram trapped': 50791,\n",
              " 'trapped when': 50831,\n",
              " 'when powerlines': 54112,\n",
              " 'powerlines fell': 39230,\n",
              " 'fell across': 19814,\n",
              " 'across carriage': 1640,\n",
              " 'carriage tennews': 9236,\n",
              " 'tennews 5pm': 46519,\n",
              " '5pm http': 1033,\n",
              " 'co hfyrloqy8q': 11796,\n",
              " 'debris found': 15997,\n",
              " 'found on': 21177,\n",
              " 'on reunion': 36736,\n",
              " 'reunion island': 41125,\n",
              " 'island comes': 27772,\n",
              " 'comes from': 14303,\n",
              " 'mh370 malaysian': 32382,\n",
              " 'malaysian pm': 31437,\n",
              " 'pm http': 38901,\n",
              " 'co f75qwyeeec': 11500,\n",
              " 'it raining': 28032,\n",
              " 'raining outside': 40075,\n",
              " 'outside burning': 37567,\n",
              " 'burning my': 8149,\n",
              " 'my favorite': 33608,\n",
              " 'favorite candle': 19657,\n",
              " 'candle and': 9046,\n",
              " 'and there': 3700,\n",
              " 'there hot': 48663,\n",
              " 'hot cocoa': 25317,\n",
              " 'cocoa to': 14056,\n",
              " 'to sip': 50150,\n",
              " 'sip nap': 43722,\n",
              " 'nap time': 33931,\n",
              " 'time awesomesauce': 49505,\n",
              " '58hif my': 1019,\n",
              " 'my trick': 33805,\n",
              " 'trick is': 50964,\n",
              " 'is to': 27689,\n",
              " 'to think': 50199,\n",
              " 'think about': 48906,\n",
              " 'about nasty': 1450,\n",
              " 'nasty things': 33951,\n",
              " 'hunger hits': 25598,\n",
              " 'hits me': 25013,\n",
              " 'me and': 31918,\n",
              " 'and can': 3180,\n",
              " 'can function': 8948,\n",
              " 'function probably': 21755,\n",
              " 'probably wouldn': 39509,\n",
              " 'wouldn last': 55513,\n",
              " 'last long': 29580,\n",
              " 'long in': 30810,\n",
              " 'in famine': 26297,\n",
              " 'famine zones': 19473,\n",
              " 'zones thank': 56666,\n",
              " 'thank god': 46731,\n",
              " 'look for': 30849,\n",
              " 'for my': 20879,\n",
              " 'my policy': 33741,\n",
              " 'policy matters': 39010,\n",
              " 'matters ohio': 31794,\n",
              " 'ohio report': 36354,\n",
              " 'report on': 40873,\n",
              " 'on cle': 36577,\n",
              " 'cle and': 10137,\n",
              " 'and cuyahoga': 3222,\n",
              " 'cuyahoga county': 15399,\n",
              " 'county blight': 14859,\n",
              " 'blight and': 7079,\n",
              " 'and greening': 3354,\n",
              " 'greening vacant': 22978,\n",
              " 'vacant lands': 52191,\n",
              " 'lands soon': 29503,\n",
              " 'soon https': 44534,\n",
              " 'co if62sdxvp7': 11910,\n",
              " 'screaming mariahcarey': 42472,\n",
              " 'mariahcarey arianagrande': 31631,\n",
              " 'arianagrande http': 4432,\n",
              " 'co xxzd1nmb1i': 13783,\n",
              " 'arson suspect': 4560,\n",
              " 'suspect linked': 46015,\n",
              " 'linked to': 30447,\n",
              " 'to 30': 49662,\n",
              " '30 fires': 720,\n",
              " 'fires caught': 20193,\n",
              " 'caught in': 9414,\n",
              " 'in northern': 26497,\n",
              " 'northern california': 34837,\n",
              " 'california los': 8782,\n",
              " 'los angeles': 30920,\n",
              " 'angeles times': 3804,\n",
              " 'times http': 49577,\n",
              " 'co prrb4fhxtv': 12839,\n",
              " 'bestnaijamade 16yr': 6664,\n",
              " '16yr old': 361,\n",
              " 'old pkk': 36448,\n",
              " 'pkk suicide': 38645,\n",
              " 'suicide bomber': 45725,\n",
              " 'bomber who': 7436,\n",
              " 'who detonated': 54336,\n",
              " 'detonated bomb': 16500,\n",
              " 'in http': 26374,\n",
              " 'co ksawlyux02': 12222,\n",
              " 'ksawlyux02 bestnaijamade': 29354,\n",
              " 'bestnaijamade bestnaijamade': 6666,\n",
              " 'bestnaijamade be': 6665,\n",
              " 'be û_': 6137,\n",
              " 'guiltygearxxacp yeah': 23156,\n",
              " 'yeah know': 55855,\n",
              " 'know but': 29250,\n",
              " 'but blaze': 8245,\n",
              " 'blaze blue': 7015,\n",
              " 'blue dont': 7238,\n",
              " 'dont have': 17268,\n",
              " 'have twitter': 23942,\n",
              " 'twitter lol': 51339,\n",
              " 'lol drew': 30742,\n",
              " 'drew this': 17465,\n",
              " 'this few': 49027,\n",
              " 'few weeks': 19873,\n",
              " 'weeks ago': 53747,\n",
              " 'ago http': 2064,\n",
              " 'co sk3l74flzz': 13168,\n",
              " 'liked youtube': 30384,\n",
              " 'youtube video': 56549,\n",
              " 'video from': 52556,\n",
              " 'from slimebeast': 21534,\n",
              " 'slimebeast http': 43947,\n",
              " 'co ulr6myklnh': 13418,\n",
              " 'ulr6myklnh town': 51519,\n",
              " 'town of': 50659,\n",
              " 'of salem': 36009,\n",
              " 'salem how': 42007,\n",
              " 'how to': 25484,\n",
              " 'to win': 50254,\n",
              " 'win as': 54671,\n",
              " 'as the': 4720,\n",
              " 'the arsonist': 47141,\n",
              " 'blast dan': 7004,\n",
              " 'dan power': 15594,\n",
              " 'pantherattack mirmanda11': 37911,\n",
              " 'mirmanda11 evaaasr': 32678,\n",
              " 'from zaire2005': 21572,\n",
              " 'zaire2005 http': 56598,\n",
              " 'co mulruifnn1': 12469,\n",
              " 'mulruifnn1 specialguest': 33353,\n",
              " 'specialguest crapgamer': 44714,\n",
              " 'crapgamer recap': 14986,\n",
              " 'recap microsoft': 40505,\n",
              " 'microsoft destroyed': 32434,\n",
              " 'destroyed sony': 16437,\n",
              " 'sony at': 44522,\n",
              " 'at gamescom': 4953,\n",
              " 'alleged east': 2420,\n",
              " 'east bay': 17908,\n",
              " 'bay serial': 5876,\n",
              " 'serial arsonist': 42886,\n",
              " 'arsonist arrested': 4565,\n",
              " 'arrested sanfrancisco': 4536,\n",
              " 'sanfrancisco http': 42094,\n",
              " 'co ojuhfkhvb2': 12678,\n",
              " ...}"
            ]
          },
          "metadata": {},
          "execution_count": 42
        }
      ]
    },
    {
      "cell_type": "code",
      "source": [
        "#Training on raw text\n",
        "clf = Pipeline([\n",
        "    ('vectorizer', CountVectorizer(ngram_range=(1,2))),\n",
        "    ('classifier', MultinomialNB())\n",
        "])\n",
        "clf.fit(x_train, y_train)"
      ],
      "metadata": {
        "colab": {
          "base_uri": "https://localhost:8080/",
          "height": 126
        },
        "id": "cf0Z_thq06Y-",
        "outputId": "fda033a9-d8da-44bc-eace-15313b7f4a76"
      },
      "execution_count": 55,
      "outputs": [
        {
          "output_type": "execute_result",
          "data": {
            "text/plain": [
              "Pipeline(steps=[('vectorizer', CountVectorizer(ngram_range=(1, 2))),\n",
              "                ('classifier', MultinomialNB())])"
            ],
            "text/html": [
              "<style>#sk-container-id-5 {color: black;background-color: white;}#sk-container-id-5 pre{padding: 0;}#sk-container-id-5 div.sk-toggleable {background-color: white;}#sk-container-id-5 label.sk-toggleable__label {cursor: pointer;display: block;width: 100%;margin-bottom: 0;padding: 0.3em;box-sizing: border-box;text-align: center;}#sk-container-id-5 label.sk-toggleable__label-arrow:before {content: \"▸\";float: left;margin-right: 0.25em;color: #696969;}#sk-container-id-5 label.sk-toggleable__label-arrow:hover:before {color: black;}#sk-container-id-5 div.sk-estimator:hover label.sk-toggleable__label-arrow:before {color: black;}#sk-container-id-5 div.sk-toggleable__content {max-height: 0;max-width: 0;overflow: hidden;text-align: left;background-color: #f0f8ff;}#sk-container-id-5 div.sk-toggleable__content pre {margin: 0.2em;color: black;border-radius: 0.25em;background-color: #f0f8ff;}#sk-container-id-5 input.sk-toggleable__control:checked~div.sk-toggleable__content {max-height: 200px;max-width: 100%;overflow: auto;}#sk-container-id-5 input.sk-toggleable__control:checked~label.sk-toggleable__label-arrow:before {content: \"▾\";}#sk-container-id-5 div.sk-estimator input.sk-toggleable__control:checked~label.sk-toggleable__label {background-color: #d4ebff;}#sk-container-id-5 div.sk-label input.sk-toggleable__control:checked~label.sk-toggleable__label {background-color: #d4ebff;}#sk-container-id-5 input.sk-hidden--visually {border: 0;clip: rect(1px 1px 1px 1px);clip: rect(1px, 1px, 1px, 1px);height: 1px;margin: -1px;overflow: hidden;padding: 0;position: absolute;width: 1px;}#sk-container-id-5 div.sk-estimator {font-family: monospace;background-color: #f0f8ff;border: 1px dotted black;border-radius: 0.25em;box-sizing: border-box;margin-bottom: 0.5em;}#sk-container-id-5 div.sk-estimator:hover {background-color: #d4ebff;}#sk-container-id-5 div.sk-parallel-item::after {content: \"\";width: 100%;border-bottom: 1px solid gray;flex-grow: 1;}#sk-container-id-5 div.sk-label:hover label.sk-toggleable__label {background-color: #d4ebff;}#sk-container-id-5 div.sk-serial::before {content: \"\";position: absolute;border-left: 1px solid gray;box-sizing: border-box;top: 0;bottom: 0;left: 50%;z-index: 0;}#sk-container-id-5 div.sk-serial {display: flex;flex-direction: column;align-items: center;background-color: white;padding-right: 0.2em;padding-left: 0.2em;position: relative;}#sk-container-id-5 div.sk-item {position: relative;z-index: 1;}#sk-container-id-5 div.sk-parallel {display: flex;align-items: stretch;justify-content: center;background-color: white;position: relative;}#sk-container-id-5 div.sk-item::before, #sk-container-id-5 div.sk-parallel-item::before {content: \"\";position: absolute;border-left: 1px solid gray;box-sizing: border-box;top: 0;bottom: 0;left: 50%;z-index: -1;}#sk-container-id-5 div.sk-parallel-item {display: flex;flex-direction: column;z-index: 1;position: relative;background-color: white;}#sk-container-id-5 div.sk-parallel-item:first-child::after {align-self: flex-end;width: 50%;}#sk-container-id-5 div.sk-parallel-item:last-child::after {align-self: flex-start;width: 50%;}#sk-container-id-5 div.sk-parallel-item:only-child::after {width: 0;}#sk-container-id-5 div.sk-dashed-wrapped {border: 1px dashed gray;margin: 0 0.4em 0.5em 0.4em;box-sizing: border-box;padding-bottom: 0.4em;background-color: white;}#sk-container-id-5 div.sk-label label {font-family: monospace;font-weight: bold;display: inline-block;line-height: 1.2em;}#sk-container-id-5 div.sk-label-container {text-align: center;}#sk-container-id-5 div.sk-container {/* jupyter's `normalize.less` sets `[hidden] { display: none; }` but bootstrap.min.css set `[hidden] { display: none !important; }` so we also need the `!important` here to be able to override the default hidden behavior on the sphinx rendered scikit-learn.org. See: https://github.com/scikit-learn/scikit-learn/issues/21755 */display: inline-block !important;position: relative;}#sk-container-id-5 div.sk-text-repr-fallback {display: none;}</style><div id=\"sk-container-id-5\" class=\"sk-top-container\"><div class=\"sk-text-repr-fallback\"><pre>Pipeline(steps=[(&#x27;vectorizer&#x27;, CountVectorizer(ngram_range=(1, 2))),\n",
              "                (&#x27;classifier&#x27;, MultinomialNB())])</pre><b>In a Jupyter environment, please rerun this cell to show the HTML representation or trust the notebook. <br />On GitHub, the HTML representation is unable to render, please try loading this page with nbviewer.org.</b></div><div class=\"sk-container\" hidden><div class=\"sk-item sk-dashed-wrapped\"><div class=\"sk-label-container\"><div class=\"sk-label sk-toggleable\"><input class=\"sk-toggleable__control sk-hidden--visually\" id=\"sk-estimator-id-13\" type=\"checkbox\" ><label for=\"sk-estimator-id-13\" class=\"sk-toggleable__label sk-toggleable__label-arrow\">Pipeline</label><div class=\"sk-toggleable__content\"><pre>Pipeline(steps=[(&#x27;vectorizer&#x27;, CountVectorizer(ngram_range=(1, 2))),\n",
              "                (&#x27;classifier&#x27;, MultinomialNB())])</pre></div></div></div><div class=\"sk-serial\"><div class=\"sk-item\"><div class=\"sk-estimator sk-toggleable\"><input class=\"sk-toggleable__control sk-hidden--visually\" id=\"sk-estimator-id-14\" type=\"checkbox\" ><label for=\"sk-estimator-id-14\" class=\"sk-toggleable__label sk-toggleable__label-arrow\">CountVectorizer</label><div class=\"sk-toggleable__content\"><pre>CountVectorizer(ngram_range=(1, 2))</pre></div></div></div><div class=\"sk-item\"><div class=\"sk-estimator sk-toggleable\"><input class=\"sk-toggleable__control sk-hidden--visually\" id=\"sk-estimator-id-15\" type=\"checkbox\" ><label for=\"sk-estimator-id-15\" class=\"sk-toggleable__label sk-toggleable__label-arrow\">MultinomialNB</label><div class=\"sk-toggleable__content\"><pre>MultinomialNB()</pre></div></div></div></div></div></div></div>"
            ]
          },
          "metadata": {},
          "execution_count": 55
        }
      ]
    },
    {
      "cell_type": "code",
      "source": [
        "y_pred = clf.predict(x_test)\n",
        "print(classification_report(y_test, y_pred))"
      ],
      "metadata": {
        "colab": {
          "base_uri": "https://localhost:8080/"
        },
        "id": "rwwTx1un6_K1",
        "outputId": "8fdfd03e-d9fb-4e8f-8cb2-d807a74c4720"
      },
      "execution_count": 56,
      "outputs": [
        {
          "output_type": "stream",
          "name": "stdout",
          "text": [
            "              precision    recall  f1-score   support\n",
            "\n",
            "           0       0.80      0.87      0.83       874\n",
            "           1       0.80      0.70      0.74       649\n",
            "\n",
            "    accuracy                           0.80      1523\n",
            "   macro avg       0.80      0.78      0.79      1523\n",
            "weighted avg       0.80      0.80      0.79      1523\n",
            "\n"
          ]
        }
      ]
    },
    {
      "cell_type": "code",
      "source": [
        "#Training on preprocessed text\n",
        "clf = Pipeline([\n",
        "    ('vectorizer', CountVectorizer(ngram_range=(1,2))),\n",
        "    ('classifier', MultinomialNB())\n",
        "])\n",
        "clf.fit(x_train_pp, y_train_pp)"
      ],
      "metadata": {
        "colab": {
          "base_uri": "https://localhost:8080/",
          "height": 126
        },
        "id": "wdgHxBGa7XBF",
        "outputId": "5a47567e-8850-4f68-c332-a5b2cff51706"
      },
      "execution_count": 57,
      "outputs": [
        {
          "output_type": "execute_result",
          "data": {
            "text/plain": [
              "Pipeline(steps=[('vectorizer', CountVectorizer(ngram_range=(1, 2))),\n",
              "                ('classifier', MultinomialNB())])"
            ],
            "text/html": [
              "<style>#sk-container-id-6 {color: black;background-color: white;}#sk-container-id-6 pre{padding: 0;}#sk-container-id-6 div.sk-toggleable {background-color: white;}#sk-container-id-6 label.sk-toggleable__label {cursor: pointer;display: block;width: 100%;margin-bottom: 0;padding: 0.3em;box-sizing: border-box;text-align: center;}#sk-container-id-6 label.sk-toggleable__label-arrow:before {content: \"▸\";float: left;margin-right: 0.25em;color: #696969;}#sk-container-id-6 label.sk-toggleable__label-arrow:hover:before {color: black;}#sk-container-id-6 div.sk-estimator:hover label.sk-toggleable__label-arrow:before {color: black;}#sk-container-id-6 div.sk-toggleable__content {max-height: 0;max-width: 0;overflow: hidden;text-align: left;background-color: #f0f8ff;}#sk-container-id-6 div.sk-toggleable__content pre {margin: 0.2em;color: black;border-radius: 0.25em;background-color: #f0f8ff;}#sk-container-id-6 input.sk-toggleable__control:checked~div.sk-toggleable__content {max-height: 200px;max-width: 100%;overflow: auto;}#sk-container-id-6 input.sk-toggleable__control:checked~label.sk-toggleable__label-arrow:before {content: \"▾\";}#sk-container-id-6 div.sk-estimator input.sk-toggleable__control:checked~label.sk-toggleable__label {background-color: #d4ebff;}#sk-container-id-6 div.sk-label input.sk-toggleable__control:checked~label.sk-toggleable__label {background-color: #d4ebff;}#sk-container-id-6 input.sk-hidden--visually {border: 0;clip: rect(1px 1px 1px 1px);clip: rect(1px, 1px, 1px, 1px);height: 1px;margin: -1px;overflow: hidden;padding: 0;position: absolute;width: 1px;}#sk-container-id-6 div.sk-estimator {font-family: monospace;background-color: #f0f8ff;border: 1px dotted black;border-radius: 0.25em;box-sizing: border-box;margin-bottom: 0.5em;}#sk-container-id-6 div.sk-estimator:hover {background-color: #d4ebff;}#sk-container-id-6 div.sk-parallel-item::after {content: \"\";width: 100%;border-bottom: 1px solid gray;flex-grow: 1;}#sk-container-id-6 div.sk-label:hover label.sk-toggleable__label {background-color: #d4ebff;}#sk-container-id-6 div.sk-serial::before {content: \"\";position: absolute;border-left: 1px solid gray;box-sizing: border-box;top: 0;bottom: 0;left: 50%;z-index: 0;}#sk-container-id-6 div.sk-serial {display: flex;flex-direction: column;align-items: center;background-color: white;padding-right: 0.2em;padding-left: 0.2em;position: relative;}#sk-container-id-6 div.sk-item {position: relative;z-index: 1;}#sk-container-id-6 div.sk-parallel {display: flex;align-items: stretch;justify-content: center;background-color: white;position: relative;}#sk-container-id-6 div.sk-item::before, #sk-container-id-6 div.sk-parallel-item::before {content: \"\";position: absolute;border-left: 1px solid gray;box-sizing: border-box;top: 0;bottom: 0;left: 50%;z-index: -1;}#sk-container-id-6 div.sk-parallel-item {display: flex;flex-direction: column;z-index: 1;position: relative;background-color: white;}#sk-container-id-6 div.sk-parallel-item:first-child::after {align-self: flex-end;width: 50%;}#sk-container-id-6 div.sk-parallel-item:last-child::after {align-self: flex-start;width: 50%;}#sk-container-id-6 div.sk-parallel-item:only-child::after {width: 0;}#sk-container-id-6 div.sk-dashed-wrapped {border: 1px dashed gray;margin: 0 0.4em 0.5em 0.4em;box-sizing: border-box;padding-bottom: 0.4em;background-color: white;}#sk-container-id-6 div.sk-label label {font-family: monospace;font-weight: bold;display: inline-block;line-height: 1.2em;}#sk-container-id-6 div.sk-label-container {text-align: center;}#sk-container-id-6 div.sk-container {/* jupyter's `normalize.less` sets `[hidden] { display: none; }` but bootstrap.min.css set `[hidden] { display: none !important; }` so we also need the `!important` here to be able to override the default hidden behavior on the sphinx rendered scikit-learn.org. See: https://github.com/scikit-learn/scikit-learn/issues/21755 */display: inline-block !important;position: relative;}#sk-container-id-6 div.sk-text-repr-fallback {display: none;}</style><div id=\"sk-container-id-6\" class=\"sk-top-container\"><div class=\"sk-text-repr-fallback\"><pre>Pipeline(steps=[(&#x27;vectorizer&#x27;, CountVectorizer(ngram_range=(1, 2))),\n",
              "                (&#x27;classifier&#x27;, MultinomialNB())])</pre><b>In a Jupyter environment, please rerun this cell to show the HTML representation or trust the notebook. <br />On GitHub, the HTML representation is unable to render, please try loading this page with nbviewer.org.</b></div><div class=\"sk-container\" hidden><div class=\"sk-item sk-dashed-wrapped\"><div class=\"sk-label-container\"><div class=\"sk-label sk-toggleable\"><input class=\"sk-toggleable__control sk-hidden--visually\" id=\"sk-estimator-id-16\" type=\"checkbox\" ><label for=\"sk-estimator-id-16\" class=\"sk-toggleable__label sk-toggleable__label-arrow\">Pipeline</label><div class=\"sk-toggleable__content\"><pre>Pipeline(steps=[(&#x27;vectorizer&#x27;, CountVectorizer(ngram_range=(1, 2))),\n",
              "                (&#x27;classifier&#x27;, MultinomialNB())])</pre></div></div></div><div class=\"sk-serial\"><div class=\"sk-item\"><div class=\"sk-estimator sk-toggleable\"><input class=\"sk-toggleable__control sk-hidden--visually\" id=\"sk-estimator-id-17\" type=\"checkbox\" ><label for=\"sk-estimator-id-17\" class=\"sk-toggleable__label sk-toggleable__label-arrow\">CountVectorizer</label><div class=\"sk-toggleable__content\"><pre>CountVectorizer(ngram_range=(1, 2))</pre></div></div></div><div class=\"sk-item\"><div class=\"sk-estimator sk-toggleable\"><input class=\"sk-toggleable__control sk-hidden--visually\" id=\"sk-estimator-id-18\" type=\"checkbox\" ><label for=\"sk-estimator-id-18\" class=\"sk-toggleable__label sk-toggleable__label-arrow\">MultinomialNB</label><div class=\"sk-toggleable__content\"><pre>MultinomialNB()</pre></div></div></div></div></div></div></div>"
            ]
          },
          "metadata": {},
          "execution_count": 57
        }
      ]
    },
    {
      "cell_type": "code",
      "source": [
        "y_pred = clf.predict(x_test_pp)\n",
        "print(classification_report(y_test_pp, y_pred))"
      ],
      "metadata": {
        "colab": {
          "base_uri": "https://localhost:8080/"
        },
        "id": "btAtusW47dRO",
        "outputId": "2bbddd88-f7c5-458c-9489-d067798b51a6"
      },
      "execution_count": 58,
      "outputs": [
        {
          "output_type": "stream",
          "name": "stdout",
          "text": [
            "              precision    recall  f1-score   support\n",
            "\n",
            "           0       0.81      0.83      0.82       874\n",
            "           1       0.76      0.74      0.75       649\n",
            "\n",
            "    accuracy                           0.79      1523\n",
            "   macro avg       0.79      0.79      0.79      1523\n",
            "weighted avg       0.79      0.79      0.79      1523\n",
            "\n"
          ]
        }
      ]
    },
    {
      "cell_type": "markdown",
      "source": [
        "Text Representation #3 TF-IDF (Term frequency - Inverse Document Frequency)"
      ],
      "metadata": {
        "id": "FeUvRIej9BQb"
      }
    },
    {
      "cell_type": "code",
      "source": [
        "from sklearn.feature_extraction.text import TfidfVectorizer\n",
        "\n",
        "corpus = [\"Whole country is dunbstruck by the catastrophy in Bhubaneshwar.\",\n",
        "          \"Lost home, my world got shaken as the earth was shaking.\",\n",
        "          \"#NepalEarthquake\",\n",
        "          \"Party at Abhisha's\",\n",
        "          \"Party with Bhootnath.\",\n",
        "          \"The sun is burning and the land is shaking\"]"
      ],
      "metadata": {
        "id": "5e__8U0G7vcY"
      },
      "execution_count": 1,
      "outputs": []
    },
    {
      "cell_type": "code",
      "source": [
        "vectorizer = TfidfVectorizer()\n",
        "transformed_output = vectorizer.fit_transform(corpus)\n",
        "print(vectorizer.vocabulary_)"
      ],
      "metadata": {
        "colab": {
          "base_uri": "https://localhost:8080/"
        },
        "id": "_2c0qCCiILyI",
        "outputId": "5e0711af-4c11-4adc-c1df-6e978d1a380d"
      },
      "execution_count": 3,
      "outputs": [
        {
          "output_type": "stream",
          "name": "stdout",
          "text": [
            "{'whole': 26, 'country': 9, 'is': 15, 'dunbstruck': 10, 'by': 7, 'the': 24, 'catastrophy': 8, 'in': 14, 'bhubaneshwar': 5, 'lost': 17, 'home': 13, 'my': 18, 'world': 28, 'got': 12, 'shaken': 21, 'as': 2, 'earth': 11, 'was': 25, 'shaking': 22, 'nepalearthquake': 19, 'party': 20, 'at': 3, 'abhisha': 0, 'with': 27, 'bhootnath': 4, 'sun': 23, 'burning': 6, 'and': 1, 'land': 16}\n"
          ]
        }
      ]
    },
    {
      "cell_type": "code",
      "source": [
        "dir(vectorizer)"
      ],
      "metadata": {
        "colab": {
          "base_uri": "https://localhost:8080/"
        },
        "id": "Bzt2B6BYIp-k",
        "outputId": "e02bf51a-f29c-46a6-e618-09cbfb6fee83"
      },
      "execution_count": 4,
      "outputs": [
        {
          "output_type": "execute_result",
          "data": {
            "text/plain": [
              "['__annotations__',\n",
              " '__class__',\n",
              " '__delattr__',\n",
              " '__dict__',\n",
              " '__dir__',\n",
              " '__doc__',\n",
              " '__eq__',\n",
              " '__format__',\n",
              " '__ge__',\n",
              " '__getattribute__',\n",
              " '__getstate__',\n",
              " '__gt__',\n",
              " '__hash__',\n",
              " '__init__',\n",
              " '__init_subclass__',\n",
              " '__le__',\n",
              " '__lt__',\n",
              " '__module__',\n",
              " '__ne__',\n",
              " '__new__',\n",
              " '__reduce__',\n",
              " '__reduce_ex__',\n",
              " '__repr__',\n",
              " '__setattr__',\n",
              " '__setstate__',\n",
              " '__sizeof__',\n",
              " '__str__',\n",
              " '__subclasshook__',\n",
              " '__weakref__',\n",
              " '_char_ngrams',\n",
              " '_char_wb_ngrams',\n",
              " '_check_feature_names',\n",
              " '_check_n_features',\n",
              " '_check_params',\n",
              " '_check_stop_words_consistency',\n",
              " '_check_vocabulary',\n",
              " '_count_vocab',\n",
              " '_get_param_names',\n",
              " '_get_tags',\n",
              " '_limit_features',\n",
              " '_more_tags',\n",
              " '_parameter_constraints',\n",
              " '_repr_html_',\n",
              " '_repr_html_inner',\n",
              " '_repr_mimebundle_',\n",
              " '_sort_features',\n",
              " '_stop_words_id',\n",
              " '_tfidf',\n",
              " '_validate_data',\n",
              " '_validate_ngram_range',\n",
              " '_validate_params',\n",
              " '_validate_vocabulary',\n",
              " '_warn_for_unused_params',\n",
              " '_white_spaces',\n",
              " '_word_ngrams',\n",
              " 'analyzer',\n",
              " 'binary',\n",
              " 'build_analyzer',\n",
              " 'build_preprocessor',\n",
              " 'build_tokenizer',\n",
              " 'decode',\n",
              " 'decode_error',\n",
              " 'dtype',\n",
              " 'encoding',\n",
              " 'fit',\n",
              " 'fit_transform',\n",
              " 'fixed_vocabulary_',\n",
              " 'get_feature_names_out',\n",
              " 'get_params',\n",
              " 'get_stop_words',\n",
              " 'idf_',\n",
              " 'input',\n",
              " 'inverse_transform',\n",
              " 'lowercase',\n",
              " 'max_df',\n",
              " 'max_features',\n",
              " 'min_df',\n",
              " 'ngram_range',\n",
              " 'norm',\n",
              " 'preprocessor',\n",
              " 'set_params',\n",
              " 'smooth_idf',\n",
              " 'stop_words',\n",
              " 'stop_words_',\n",
              " 'strip_accents',\n",
              " 'sublinear_tf',\n",
              " 'token_pattern',\n",
              " 'tokenizer',\n",
              " 'transform',\n",
              " 'use_idf',\n",
              " 'vocabulary',\n",
              " 'vocabulary_']"
            ]
          },
          "metadata": {},
          "execution_count": 4
        }
      ]
    },
    {
      "cell_type": "code",
      "source": [
        "all_features = vectorizer.get_feature_names_out()\n",
        "\n",
        "for word in all_features:\n",
        "  indx = vectorizer.vocabulary_.get(word)\n",
        "  print(word, \" | \",vectorizer.idf_[indx], \" | \", transformed_output[0, indx])"
      ],
      "metadata": {
        "colab": {
          "base_uri": "https://localhost:8080/"
        },
        "id": "aDYeCbQyI0y6",
        "outputId": "8c51843e-7a92-4dd1-d345-f9d53c1d94e6"
      },
      "execution_count": 6,
      "outputs": [
        {
          "output_type": "stream",
          "name": "stdout",
          "text": [
            "abhisha  |  2.252762968495368  |  0.0\n",
            "and  |  2.252762968495368  |  0.0\n",
            "as  |  2.252762968495368  |  0.0\n",
            "at  |  2.252762968495368  |  0.0\n",
            "bhootnath  |  2.252762968495368  |  0.0\n",
            "bhubaneshwar  |  2.252762968495368  |  0.3502477663942352\n",
            "burning  |  2.252762968495368  |  0.0\n",
            "by  |  2.252762968495368  |  0.3502477663942352\n",
            "catastrophy  |  2.252762968495368  |  0.3502477663942352\n",
            "country  |  2.252762968495368  |  0.3502477663942352\n",
            "dunbstruck  |  2.252762968495368  |  0.3502477663942352\n",
            "earth  |  2.252762968495368  |  0.0\n",
            "got  |  2.252762968495368  |  0.0\n",
            "home  |  2.252762968495368  |  0.0\n",
            "in  |  2.252762968495368  |  0.3502477663942352\n",
            "is  |  1.8472978603872037  |  0.28720817880702754\n",
            "land  |  2.252762968495368  |  0.0\n",
            "lost  |  2.252762968495368  |  0.0\n",
            "my  |  2.252762968495368  |  0.0\n",
            "nepalearthquake  |  2.252762968495368  |  0.0\n",
            "party  |  1.8472978603872037  |  0.0\n",
            "shaken  |  2.252762968495368  |  0.0\n",
            "shaking  |  1.8472978603872037  |  0.0\n",
            "sun  |  2.252762968495368  |  0.0\n",
            "the  |  1.5596157879354227  |  0.24248087961176468\n",
            "was  |  2.252762968495368  |  0.0\n",
            "whole  |  2.252762968495368  |  0.3502477663942352\n",
            "with  |  2.252762968495368  |  0.0\n",
            "world  |  2.252762968495368  |  0.0\n"
          ]
        }
      ]
    },
    {
      "cell_type": "code",
      "source": [
        "transformed_output.toarray()"
      ],
      "metadata": {
        "colab": {
          "base_uri": "https://localhost:8080/"
        },
        "id": "Tc_fhCYpJBrz",
        "outputId": "d10edf22-ed7e-4c4b-dc86-0a7ceb5548b3"
      },
      "execution_count": 7,
      "outputs": [
        {
          "output_type": "execute_result",
          "data": {
            "text/plain": [
              "array([[0.        , 0.        , 0.        , 0.        , 0.        ,\n",
              "        0.35024777, 0.        , 0.35024777, 0.35024777, 0.35024777,\n",
              "        0.35024777, 0.        , 0.        , 0.        , 0.35024777,\n",
              "        0.28720818, 0.        , 0.        , 0.        , 0.        ,\n",
              "        0.        , 0.        , 0.        , 0.        , 0.24248088,\n",
              "        0.        , 0.35024777, 0.        , 0.        ],\n",
              "       [0.        , 0.        , 0.31385582, 0.        , 0.        ,\n",
              "        0.        , 0.        , 0.        , 0.        , 0.        ,\n",
              "        0.        , 0.31385582, 0.31385582, 0.31385582, 0.        ,\n",
              "        0.        , 0.        , 0.31385582, 0.31385582, 0.        ,\n",
              "        0.        , 0.31385582, 0.25736626, 0.        , 0.21728628,\n",
              "        0.31385582, 0.        , 0.        , 0.31385582],\n",
              "       [0.        , 0.        , 0.        , 0.        , 0.        ,\n",
              "        0.        , 0.        , 0.        , 0.        , 0.        ,\n",
              "        0.        , 0.        , 0.        , 0.        , 0.        ,\n",
              "        0.        , 0.        , 0.        , 0.        , 1.        ,\n",
              "        0.        , 0.        , 0.        , 0.        , 0.        ,\n",
              "        0.        , 0.        , 0.        , 0.        ],\n",
              "       [0.61171251, 0.        , 0.        , 0.61171251, 0.        ,\n",
              "        0.        , 0.        , 0.        , 0.        , 0.        ,\n",
              "        0.        , 0.        , 0.        , 0.        , 0.        ,\n",
              "        0.        , 0.        , 0.        , 0.        , 0.        ,\n",
              "        0.50161301, 0.        , 0.        , 0.        , 0.        ,\n",
              "        0.        , 0.        , 0.        , 0.        ],\n",
              "       [0.        , 0.        , 0.        , 0.        , 0.61171251,\n",
              "        0.        , 0.        , 0.        , 0.        , 0.        ,\n",
              "        0.        , 0.        , 0.        , 0.        , 0.        ,\n",
              "        0.        , 0.        , 0.        , 0.        , 0.        ,\n",
              "        0.50161301, 0.        , 0.        , 0.        , 0.        ,\n",
              "        0.        , 0.        , 0.61171251, 0.        ],\n",
              "       [0.        , 0.32827841, 0.        , 0.        , 0.        ,\n",
              "        0.        , 0.32827841, 0.        , 0.        , 0.        ,\n",
              "        0.        , 0.        , 0.        , 0.        , 0.        ,\n",
              "        0.53838598, 0.32827841, 0.        , 0.        , 0.        ,\n",
              "        0.        , 0.        , 0.26919299, 0.32827841, 0.45454244,\n",
              "        0.        , 0.        , 0.        , 0.        ]])"
            ]
          },
          "metadata": {},
          "execution_count": 7
        }
      ]
    },
    {
      "cell_type": "code",
      "source": [
        "from sklearn.neighbors import KNeighborsClassifier\n",
        "from sklearn.pipeline import Pipeline\n",
        "from sklearn.metrics import classification_report\n",
        "\n",
        "clf = Pipeline([\n",
        "    ('vectorizer', TfidfVectorizer()),\n",
        "    ('classifier', KNeighborsClassifier())\n",
        "])"
      ],
      "metadata": {
        "id": "PkUB4sttK_bZ"
      },
      "execution_count": 18,
      "outputs": []
    },
    {
      "cell_type": "code",
      "source": [
        "clf.fit(x_train, y_train)\n",
        "\n",
        "y_pred = clf.predict(x_test)\n",
        "print(classification_report(y_test, y_pred))"
      ],
      "metadata": {
        "colab": {
          "base_uri": "https://localhost:8080/"
        },
        "id": "h3jpmRRmNT9y",
        "outputId": "acc7682e-bd44-4e0b-ab1e-28b11feb0b09"
      },
      "execution_count": 19,
      "outputs": [
        {
          "output_type": "stream",
          "name": "stdout",
          "text": [
            "              precision    recall  f1-score   support\n",
            "\n",
            "           0       0.77      0.86      0.82       874\n",
            "           1       0.78      0.66      0.72       649\n",
            "\n",
            "    accuracy                           0.78      1523\n",
            "   macro avg       0.78      0.76      0.77      1523\n",
            "weighted avg       0.78      0.78      0.77      1523\n",
            "\n"
          ]
        }
      ]
    },
    {
      "cell_type": "code",
      "source": [
        "print(x_test[:5], y_test[:5], y_pred[0:5])"
      ],
      "metadata": {
        "colab": {
          "base_uri": "https://localhost:8080/"
        },
        "id": "bODjusg3NqhJ",
        "outputId": "969cc68b-37e9-4b64-836d-33be231fab7c"
      },
      "execution_count": 20,
      "outputs": [
        {
          "output_type": "stream",
          "name": "stdout",
          "text": [
            "2644    So you have a new weapon that can cause un-ima...\n",
            "2227    The f$&amp;@ing things I do for #GISHWHES Just...\n",
            "5448    DT @georgegalloway: RT @Galloway4Mayor: ÛÏThe...\n",
            "132     Aftershock back to school kick off was great. ...\n",
            "6845    in response to trauma Children of Addicts deve...\n",
            "Name: text, dtype: object 2644    1\n",
            "2227    0\n",
            "5448    1\n",
            "132     0\n",
            "6845    0\n",
            "Name: target, dtype: int64 [0 0 0 0 1]\n"
          ]
        }
      ]
    },
    {
      "cell_type": "code",
      "source": [
        "from sklearn.naive_bayes import MultinomialNB\n",
        "clf2 = Pipeline([\n",
        "    ('vectorizer', TfidfVectorizer()),\n",
        "    ('classifier', MultinomialNB())\n",
        "])\n",
        "\n",
        "clf2.fit(x_train, y_train)\n",
        "\n",
        "y_pred = clf2.predict(x_test)\n",
        "print(classification_report(y_test, y_pred))"
      ],
      "metadata": {
        "colab": {
          "base_uri": "https://localhost:8080/"
        },
        "id": "Z7lCQMQNOAQP",
        "outputId": "ca7ff1ce-e2a2-4339-ed82-1374a9b99720"
      },
      "execution_count": 22,
      "outputs": [
        {
          "output_type": "stream",
          "name": "stdout",
          "text": [
            "              precision    recall  f1-score   support\n",
            "\n",
            "           0       0.77      0.93      0.84       874\n",
            "           1       0.86      0.63      0.73       649\n",
            "\n",
            "    accuracy                           0.80      1523\n",
            "   macro avg       0.82      0.78      0.78      1523\n",
            "weighted avg       0.81      0.80      0.79      1523\n",
            "\n"
          ]
        }
      ]
    },
    {
      "cell_type": "code",
      "source": [
        "print(x_test[:5], y_test[:5], y_pred[0:5])\n"
      ],
      "metadata": {
        "colab": {
          "base_uri": "https://localhost:8080/"
        },
        "id": "5ltRUAAAOaNq",
        "outputId": "88f08172-014c-40ef-c370-3b1bc804f4ff"
      },
      "execution_count": 23,
      "outputs": [
        {
          "output_type": "stream",
          "name": "stdout",
          "text": [
            "2644    So you have a new weapon that can cause un-ima...\n",
            "2227    The f$&amp;@ing things I do for #GISHWHES Just...\n",
            "5448    DT @georgegalloway: RT @Galloway4Mayor: ÛÏThe...\n",
            "132     Aftershock back to school kick off was great. ...\n",
            "6845    in response to trauma Children of Addicts deve...\n",
            "Name: text, dtype: object 2644    1\n",
            "2227    0\n",
            "5448    1\n",
            "132     0\n",
            "6845    0\n",
            "Name: target, dtype: int64 [0 0 0 0 0]\n"
          ]
        }
      ]
    },
    {
      "cell_type": "code",
      "source": [
        "from sklearn.ensemble import RandomForestClassifier\n",
        "\n",
        "clf3 = Pipeline([\n",
        "    ('vectorizer', TfidfVectorizer()),\n",
        "    ('classifier', RandomForestClassifier())\n",
        "])\n",
        "\n",
        "clf3.fit(x_train, y_train)\n",
        "\n",
        "y_pred = clf3.predict(x_test)\n",
        "print(classification_report(y_test, y_pred))"
      ],
      "metadata": {
        "colab": {
          "base_uri": "https://localhost:8080/"
        },
        "id": "uPQ48kwNOfIj",
        "outputId": "37b7cab8-6f57-4a30-9548-cb5fc4ef423b"
      },
      "execution_count": 24,
      "outputs": [
        {
          "output_type": "stream",
          "name": "stdout",
          "text": [
            "              precision    recall  f1-score   support\n",
            "\n",
            "           0       0.75      0.92      0.83       874\n",
            "           1       0.85      0.59      0.69       649\n",
            "\n",
            "    accuracy                           0.78      1523\n",
            "   macro avg       0.80      0.75      0.76      1523\n",
            "weighted avg       0.79      0.78      0.77      1523\n",
            "\n"
          ]
        }
      ]
    },
    {
      "cell_type": "code",
      "source": [
        "print(x_test[:5], y_test[:5], y_pred[0:5])"
      ],
      "metadata": {
        "colab": {
          "base_uri": "https://localhost:8080/"
        },
        "id": "cgJIYwyyOrJH",
        "outputId": "460e3224-1b88-4dd4-e16e-384f7073f2a7"
      },
      "execution_count": 25,
      "outputs": [
        {
          "output_type": "stream",
          "name": "stdout",
          "text": [
            "2644    So you have a new weapon that can cause un-ima...\n",
            "2227    The f$&amp;@ing things I do for #GISHWHES Just...\n",
            "5448    DT @georgegalloway: RT @Galloway4Mayor: ÛÏThe...\n",
            "132     Aftershock back to school kick off was great. ...\n",
            "6845    in response to trauma Children of Addicts deve...\n",
            "Name: text, dtype: object 2644    1\n",
            "2227    0\n",
            "5448    1\n",
            "132     0\n",
            "6845    0\n",
            "Name: target, dtype: int64 [0 0 1 0 0]\n"
          ]
        }
      ]
    },
    {
      "cell_type": "markdown",
      "source": [
        "Text Representation #4 Word Embeddings"
      ],
      "metadata": {
        "id": "YbsC_bDJ_Nlg"
      }
    },
    {
      "cell_type": "markdown",
      "source": [
        "Word Vector in spacy"
      ],
      "metadata": {
        "id": "lylJQRxaxEE-"
      }
    },
    {
      "cell_type": "code",
      "source": [
        "!python -m spacy download en_core_web_lg"
      ],
      "metadata": {
        "colab": {
          "base_uri": "https://localhost:8080/"
        },
        "id": "5MvfyCiTyji-",
        "outputId": "2aebc8b6-7df7-48c0-8837-0a6b15dda8db"
      },
      "execution_count": 9,
      "outputs": [
        {
          "output_type": "stream",
          "name": "stdout",
          "text": [
            "Collecting en-core-web-lg==3.7.1\n",
            "  Downloading https://github.com/explosion/spacy-models/releases/download/en_core_web_lg-3.7.1/en_core_web_lg-3.7.1-py3-none-any.whl (587.7 MB)\n",
            "\u001b[2K     \u001b[90m━━━━━━━━━━━━━━━━━━━━━━━━━━━━━━━━━━━━━━━━\u001b[0m \u001b[32m587.7/587.7 MB\u001b[0m \u001b[31m1.7 MB/s\u001b[0m eta \u001b[36m0:00:00\u001b[0m\n",
            "\u001b[?25hRequirement already satisfied: spacy<3.8.0,>=3.7.2 in /usr/local/lib/python3.10/dist-packages (from en-core-web-lg==3.7.1) (3.7.4)\n",
            "Requirement already satisfied: spacy-legacy<3.1.0,>=3.0.11 in /usr/local/lib/python3.10/dist-packages (from spacy<3.8.0,>=3.7.2->en-core-web-lg==3.7.1) (3.0.12)\n",
            "Requirement already satisfied: spacy-loggers<2.0.0,>=1.0.0 in /usr/local/lib/python3.10/dist-packages (from spacy<3.8.0,>=3.7.2->en-core-web-lg==3.7.1) (1.0.5)\n",
            "Requirement already satisfied: murmurhash<1.1.0,>=0.28.0 in /usr/local/lib/python3.10/dist-packages (from spacy<3.8.0,>=3.7.2->en-core-web-lg==3.7.1) (1.0.10)\n",
            "Requirement already satisfied: cymem<2.1.0,>=2.0.2 in /usr/local/lib/python3.10/dist-packages (from spacy<3.8.0,>=3.7.2->en-core-web-lg==3.7.1) (2.0.8)\n",
            "Requirement already satisfied: preshed<3.1.0,>=3.0.2 in /usr/local/lib/python3.10/dist-packages (from spacy<3.8.0,>=3.7.2->en-core-web-lg==3.7.1) (3.0.9)\n",
            "Requirement already satisfied: thinc<8.3.0,>=8.2.2 in /usr/local/lib/python3.10/dist-packages (from spacy<3.8.0,>=3.7.2->en-core-web-lg==3.7.1) (8.2.3)\n",
            "Requirement already satisfied: wasabi<1.2.0,>=0.9.1 in /usr/local/lib/python3.10/dist-packages (from spacy<3.8.0,>=3.7.2->en-core-web-lg==3.7.1) (1.1.2)\n",
            "Requirement already satisfied: srsly<3.0.0,>=2.4.3 in /usr/local/lib/python3.10/dist-packages (from spacy<3.8.0,>=3.7.2->en-core-web-lg==3.7.1) (2.4.8)\n",
            "Requirement already satisfied: catalogue<2.1.0,>=2.0.6 in /usr/local/lib/python3.10/dist-packages (from spacy<3.8.0,>=3.7.2->en-core-web-lg==3.7.1) (2.0.10)\n",
            "Requirement already satisfied: weasel<0.4.0,>=0.1.0 in /usr/local/lib/python3.10/dist-packages (from spacy<3.8.0,>=3.7.2->en-core-web-lg==3.7.1) (0.3.4)\n",
            "Requirement already satisfied: typer<0.10.0,>=0.3.0 in /usr/local/lib/python3.10/dist-packages (from spacy<3.8.0,>=3.7.2->en-core-web-lg==3.7.1) (0.9.4)\n",
            "Requirement already satisfied: smart-open<7.0.0,>=5.2.1 in /usr/local/lib/python3.10/dist-packages (from spacy<3.8.0,>=3.7.2->en-core-web-lg==3.7.1) (6.4.0)\n",
            "Requirement already satisfied: tqdm<5.0.0,>=4.38.0 in /usr/local/lib/python3.10/dist-packages (from spacy<3.8.0,>=3.7.2->en-core-web-lg==3.7.1) (4.66.4)\n",
            "Requirement already satisfied: requests<3.0.0,>=2.13.0 in /usr/local/lib/python3.10/dist-packages (from spacy<3.8.0,>=3.7.2->en-core-web-lg==3.7.1) (2.31.0)\n",
            "Requirement already satisfied: pydantic!=1.8,!=1.8.1,<3.0.0,>=1.7.4 in /usr/local/lib/python3.10/dist-packages (from spacy<3.8.0,>=3.7.2->en-core-web-lg==3.7.1) (2.7.1)\n",
            "Requirement already satisfied: jinja2 in /usr/local/lib/python3.10/dist-packages (from spacy<3.8.0,>=3.7.2->en-core-web-lg==3.7.1) (3.1.4)\n",
            "Requirement already satisfied: setuptools in /usr/local/lib/python3.10/dist-packages (from spacy<3.8.0,>=3.7.2->en-core-web-lg==3.7.1) (67.7.2)\n",
            "Requirement already satisfied: packaging>=20.0 in /usr/local/lib/python3.10/dist-packages (from spacy<3.8.0,>=3.7.2->en-core-web-lg==3.7.1) (24.0)\n",
            "Requirement already satisfied: langcodes<4.0.0,>=3.2.0 in /usr/local/lib/python3.10/dist-packages (from spacy<3.8.0,>=3.7.2->en-core-web-lg==3.7.1) (3.4.0)\n",
            "Requirement already satisfied: numpy>=1.19.0 in /usr/local/lib/python3.10/dist-packages (from spacy<3.8.0,>=3.7.2->en-core-web-lg==3.7.1) (1.25.2)\n",
            "Requirement already satisfied: language-data>=1.2 in /usr/local/lib/python3.10/dist-packages (from langcodes<4.0.0,>=3.2.0->spacy<3.8.0,>=3.7.2->en-core-web-lg==3.7.1) (1.2.0)\n",
            "Requirement already satisfied: annotated-types>=0.4.0 in /usr/local/lib/python3.10/dist-packages (from pydantic!=1.8,!=1.8.1,<3.0.0,>=1.7.4->spacy<3.8.0,>=3.7.2->en-core-web-lg==3.7.1) (0.7.0)\n",
            "Requirement already satisfied: pydantic-core==2.18.2 in /usr/local/lib/python3.10/dist-packages (from pydantic!=1.8,!=1.8.1,<3.0.0,>=1.7.4->spacy<3.8.0,>=3.7.2->en-core-web-lg==3.7.1) (2.18.2)\n",
            "Requirement already satisfied: typing-extensions>=4.6.1 in /usr/local/lib/python3.10/dist-packages (from pydantic!=1.8,!=1.8.1,<3.0.0,>=1.7.4->spacy<3.8.0,>=3.7.2->en-core-web-lg==3.7.1) (4.11.0)\n",
            "Requirement already satisfied: charset-normalizer<4,>=2 in /usr/local/lib/python3.10/dist-packages (from requests<3.0.0,>=2.13.0->spacy<3.8.0,>=3.7.2->en-core-web-lg==3.7.1) (3.3.2)\n",
            "Requirement already satisfied: idna<4,>=2.5 in /usr/local/lib/python3.10/dist-packages (from requests<3.0.0,>=2.13.0->spacy<3.8.0,>=3.7.2->en-core-web-lg==3.7.1) (3.7)\n",
            "Requirement already satisfied: urllib3<3,>=1.21.1 in /usr/local/lib/python3.10/dist-packages (from requests<3.0.0,>=2.13.0->spacy<3.8.0,>=3.7.2->en-core-web-lg==3.7.1) (2.0.7)\n",
            "Requirement already satisfied: certifi>=2017.4.17 in /usr/local/lib/python3.10/dist-packages (from requests<3.0.0,>=2.13.0->spacy<3.8.0,>=3.7.2->en-core-web-lg==3.7.1) (2024.2.2)\n",
            "Requirement already satisfied: blis<0.8.0,>=0.7.8 in /usr/local/lib/python3.10/dist-packages (from thinc<8.3.0,>=8.2.2->spacy<3.8.0,>=3.7.2->en-core-web-lg==3.7.1) (0.7.11)\n",
            "Requirement already satisfied: confection<1.0.0,>=0.0.1 in /usr/local/lib/python3.10/dist-packages (from thinc<8.3.0,>=8.2.2->spacy<3.8.0,>=3.7.2->en-core-web-lg==3.7.1) (0.1.4)\n",
            "Requirement already satisfied: click<9.0.0,>=7.1.1 in /usr/local/lib/python3.10/dist-packages (from typer<0.10.0,>=0.3.0->spacy<3.8.0,>=3.7.2->en-core-web-lg==3.7.1) (8.1.7)\n",
            "Requirement already satisfied: cloudpathlib<0.17.0,>=0.7.0 in /usr/local/lib/python3.10/dist-packages (from weasel<0.4.0,>=0.1.0->spacy<3.8.0,>=3.7.2->en-core-web-lg==3.7.1) (0.16.0)\n",
            "Requirement already satisfied: MarkupSafe>=2.0 in /usr/local/lib/python3.10/dist-packages (from jinja2->spacy<3.8.0,>=3.7.2->en-core-web-lg==3.7.1) (2.1.5)\n",
            "Requirement already satisfied: marisa-trie>=0.7.7 in /usr/local/lib/python3.10/dist-packages (from language-data>=1.2->langcodes<4.0.0,>=3.2.0->spacy<3.8.0,>=3.7.2->en-core-web-lg==3.7.1) (1.1.1)\n",
            "Installing collected packages: en-core-web-lg\n",
            "Successfully installed en-core-web-lg-3.7.1\n",
            "\u001b[38;5;2m✔ Download and installation successful\u001b[0m\n",
            "You can now load the package via spacy.load('en_core_web_lg')\n",
            "\u001b[38;5;3m⚠ Restart to reload dependencies\u001b[0m\n",
            "If you are in a Jupyter or Colab notebook, you may need to restart Python in\n",
            "order to load all the package's dependencies. You can do this by selecting the\n",
            "'Restart kernel' or 'Restart runtime' option.\n"
          ]
        }
      ]
    },
    {
      "cell_type": "code",
      "source": [
        "import spacy\n",
        "\n",
        "nlp = spacy.load(\"en_core_web_lg\")"
      ],
      "metadata": {
        "id": "fnrar2bWxBYG"
      },
      "execution_count": 10,
      "outputs": []
    },
    {
      "cell_type": "code",
      "source": [
        "doc = nlp(\"dog cat banana avocado tukonbe\")\n",
        "for token in doc:\n",
        "  print(token.text, \" | \", token.has_vector, \" | \", token.vector_norm, \" | \", token.is_oov)"
      ],
      "metadata": {
        "colab": {
          "base_uri": "https://localhost:8080/"
        },
        "id": "7NMZ8ZuH-rZ1",
        "outputId": "df15a9cd-6df9-4ab5-f224-7e1e7d25d7e1"
      },
      "execution_count": 13,
      "outputs": [
        {
          "output_type": "stream",
          "name": "stdout",
          "text": [
            "dog  |  True  |  75.254234  |  False\n",
            "cat  |  True  |  63.188496  |  False\n",
            "banana  |  True  |  31.620354  |  False\n",
            "avocado  |  True  |  28.434193  |  False\n",
            "tukonbe  |  False  |  0.0  |  True\n"
          ]
        }
      ]
    },
    {
      "cell_type": "code",
      "source": [
        "doc[0].vector.shape"
      ],
      "metadata": {
        "colab": {
          "base_uri": "https://localhost:8080/"
        },
        "id": "nTaVkuP8zAiM",
        "outputId": "204378f2-3e40-427e-8b93-191c86df0c08"
      },
      "execution_count": 14,
      "outputs": [
        {
          "output_type": "execute_result",
          "data": {
            "text/plain": [
              "(300,)"
            ]
          },
          "metadata": {},
          "execution_count": 14
        }
      ]
    },
    {
      "cell_type": "code",
      "source": [
        "base_token = nlp(\"bread\")\n",
        "doc = nlp(\"avocado sandwich burger bun tiger car puppy\")\n",
        "for token in doc:\n",
        "  print(base_token.text, \" | \", token.text, \" | \", token.similarity(base_token))"
      ],
      "metadata": {
        "colab": {
          "base_uri": "https://localhost:8080/"
        },
        "id": "GofvDkK3ztGh",
        "outputId": "afa96ede-6f42-49ef-cae8-f0f829baec77"
      },
      "execution_count": 15,
      "outputs": [
        {
          "output_type": "stream",
          "name": "stdout",
          "text": [
            "bread  |  avocado  |  0.5338742473085764\n",
            "bread  |  sandwich  |  0.6341067010130894\n",
            "bread  |  burger  |  0.47520687769584247\n",
            "bread  |  bun  |  0.5145848627438849\n",
            "bread  |  tiger  |  0.04764611675903374\n",
            "bread  |  car  |  0.06451533308853552\n",
            "bread  |  puppy  |  0.14947537432215535\n"
          ]
        }
      ]
    },
    {
      "cell_type": "code",
      "source": [
        "def print_similarity(base_token, doc_to_compare):\n",
        "  base_token = nlp(base_token)\n",
        "  doc = nlp(doc_to_compare)\n",
        "  for token in doc:\n",
        "    print(base_token.text, \" | \", token.text, \" | \", token.similarity(base_token))"
      ],
      "metadata": {
        "id": "oPoXc1uS05k2"
      },
      "execution_count": 16,
      "outputs": []
    },
    {
      "cell_type": "code",
      "source": [
        "print_similarity(\"IPhone\", \"mobile phone samsung delivery eat dance technology\")"
      ],
      "metadata": {
        "colab": {
          "base_uri": "https://localhost:8080/"
        },
        "id": "wskk3zuI1KwI",
        "outputId": "b75e654e-d53c-47cc-8232-30a0ed9aff9c"
      },
      "execution_count": 17,
      "outputs": [
        {
          "output_type": "stream",
          "name": "stdout",
          "text": [
            "IPhone  |  mobile  |  0.5727632820959091\n",
            "IPhone  |  phone  |  0.7233242169713832\n",
            "IPhone  |  samsung  |  0.5804839618803266\n",
            "IPhone  |  delivery  |  0.219182460545024\n",
            "IPhone  |  eat  |  -0.1273598518796623\n",
            "IPhone  |  dance  |  0.0014647329390619478\n",
            "IPhone  |  technology  |  0.26274597466629546\n"
          ]
        }
      ]
    },
    {
      "cell_type": "code",
      "source": [
        "king = nlp.vocab[\"king\"].vector\n",
        "queen = nlp.vocab[\"queen\"].vector\n",
        "man = nlp.vocab[\"man\"].vector\n",
        "woman = nlp.vocab[\"woman\"].vector\n",
        "\n",
        "result = king - man + woman"
      ],
      "metadata": {
        "id": "vCk8YBaN3uqE"
      },
      "execution_count": 20,
      "outputs": []
    },
    {
      "cell_type": "code",
      "source": [
        "from sklearn.metrics.pairwise import cosine_similarity\n",
        "\n",
        "cosine_similarity([result], [queen])"
      ],
      "metadata": {
        "colab": {
          "base_uri": "https://localhost:8080/"
        },
        "id": "pJJyMi6V6uhK",
        "outputId": "ad1f4f83-266c-4aa2-8232-58defd6d3ddd"
      },
      "execution_count": 21,
      "outputs": [
        {
          "output_type": "execute_result",
          "data": {
            "text/plain": [
              "array([[0.61780137]], dtype=float32)"
            ]
          },
          "metadata": {},
          "execution_count": 21
        }
      ]
    },
    {
      "cell_type": "code",
      "source": [
        "df_train.target.value_counts() #Check for class imbalance"
      ],
      "metadata": {
        "colab": {
          "base_uri": "https://localhost:8080/"
        },
        "id": "GPVkau438Ad2",
        "outputId": "d2ce9427-c19b-4309-a326-0d98cc754151"
      },
      "execution_count": 10,
      "outputs": [
        {
          "output_type": "execute_result",
          "data": {
            "text/plain": [
              "target\n",
              "0    4342\n",
              "1    3271\n",
              "Name: count, dtype: int64"
            ]
          },
          "metadata": {},
          "execution_count": 10
        }
      ]
    },
    {
      "cell_type": "code",
      "source": [
        "import spacy\n",
        "\n",
        "nlp = spacy.load(\"en_core_web_lg\")\n",
        "doc = nlp(df_train.text[0])\n",
        "doc.vector.shape"
      ],
      "metadata": {
        "colab": {
          "base_uri": "https://localhost:8080/"
        },
        "id": "Ep4_F4X2VpB0",
        "outputId": "eeabbd03-fcdf-4158-f683-b5cd1df65b92"
      },
      "execution_count": 13,
      "outputs": [
        {
          "output_type": "execute_result",
          "data": {
            "text/plain": [
              "(300,)"
            ]
          },
          "metadata": {},
          "execution_count": 13
        }
      ]
    },
    {
      "cell_type": "code",
      "source": [
        "df_train['vector'] = df_train['text'].apply(lambda x: nlp(x).vector)"
      ],
      "metadata": {
        "id": "cW31LDHWaF_l"
      },
      "execution_count": 11,
      "outputs": []
    },
    {
      "cell_type": "code",
      "source": [
        "df_train.head()"
      ],
      "metadata": {
        "colab": {
          "base_uri": "https://localhost:8080/",
          "height": 206
        },
        "id": "RaFdggcsavEk",
        "outputId": "f99d3742-452e-4a79-e05d-545138fb6f7c"
      },
      "execution_count": 12,
      "outputs": [
        {
          "output_type": "execute_result",
          "data": {
            "text/plain": [
              "   id keyword location                                               text  \\\n",
              "0   1     NaN      NaN  Our Deeds are the Reason of this #earthquake M...   \n",
              "1   4     NaN      NaN             Forest fire near La Ronge Sask. Canada   \n",
              "2   5     NaN      NaN  All residents asked to 'shelter in place' are ...   \n",
              "3   6     NaN      NaN  13,000 people receive #wildfires evacuation or...   \n",
              "4   7     NaN      NaN  Just got sent this photo from Ruby #Alaska as ...   \n",
              "\n",
              "   target                                  preprocessed_text  \\\n",
              "0       1               deed Reason earthquake ALLAH forgive   \n",
              "1       1              forest fire near La Ronge Sask Canada   \n",
              "2       1  resident ask shelter place notify officer evac...   \n",
              "3       1  13,000 people receive wildfire evacuation orde...   \n",
              "4       1  get send photo Ruby Alaska smoke wildfire pour...   \n",
              "\n",
              "                                              vector  \n",
              "0  [-0.965633, 0.086769275, -2.2507236, 0.4783793...  \n",
              "1  [-1.8681643, -1.6165241, -0.21609005, -1.76522...  \n",
              "2  [-2.4070368, 0.27042598, -1.3639991, 0.7013667...  \n",
              "3  [-1.0255101, -0.15121445, -2.2331533, 1.724021...  \n",
              "4  [0.08517767, -0.10672835, -1.9185519, 0.144816...  "
            ],
            "text/html": [
              "\n",
              "  <div id=\"df-74df4017-8bd0-4dd2-b174-d5c8fa7286c9\" class=\"colab-df-container\">\n",
              "    <div>\n",
              "<style scoped>\n",
              "    .dataframe tbody tr th:only-of-type {\n",
              "        vertical-align: middle;\n",
              "    }\n",
              "\n",
              "    .dataframe tbody tr th {\n",
              "        vertical-align: top;\n",
              "    }\n",
              "\n",
              "    .dataframe thead th {\n",
              "        text-align: right;\n",
              "    }\n",
              "</style>\n",
              "<table border=\"1\" class=\"dataframe\">\n",
              "  <thead>\n",
              "    <tr style=\"text-align: right;\">\n",
              "      <th></th>\n",
              "      <th>id</th>\n",
              "      <th>keyword</th>\n",
              "      <th>location</th>\n",
              "      <th>text</th>\n",
              "      <th>target</th>\n",
              "      <th>preprocessed_text</th>\n",
              "      <th>vector</th>\n",
              "    </tr>\n",
              "  </thead>\n",
              "  <tbody>\n",
              "    <tr>\n",
              "      <th>0</th>\n",
              "      <td>1</td>\n",
              "      <td>NaN</td>\n",
              "      <td>NaN</td>\n",
              "      <td>Our Deeds are the Reason of this #earthquake M...</td>\n",
              "      <td>1</td>\n",
              "      <td>deed Reason earthquake ALLAH forgive</td>\n",
              "      <td>[-0.965633, 0.086769275, -2.2507236, 0.4783793...</td>\n",
              "    </tr>\n",
              "    <tr>\n",
              "      <th>1</th>\n",
              "      <td>4</td>\n",
              "      <td>NaN</td>\n",
              "      <td>NaN</td>\n",
              "      <td>Forest fire near La Ronge Sask. Canada</td>\n",
              "      <td>1</td>\n",
              "      <td>forest fire near La Ronge Sask Canada</td>\n",
              "      <td>[-1.8681643, -1.6165241, -0.21609005, -1.76522...</td>\n",
              "    </tr>\n",
              "    <tr>\n",
              "      <th>2</th>\n",
              "      <td>5</td>\n",
              "      <td>NaN</td>\n",
              "      <td>NaN</td>\n",
              "      <td>All residents asked to 'shelter in place' are ...</td>\n",
              "      <td>1</td>\n",
              "      <td>resident ask shelter place notify officer evac...</td>\n",
              "      <td>[-2.4070368, 0.27042598, -1.3639991, 0.7013667...</td>\n",
              "    </tr>\n",
              "    <tr>\n",
              "      <th>3</th>\n",
              "      <td>6</td>\n",
              "      <td>NaN</td>\n",
              "      <td>NaN</td>\n",
              "      <td>13,000 people receive #wildfires evacuation or...</td>\n",
              "      <td>1</td>\n",
              "      <td>13,000 people receive wildfire evacuation orde...</td>\n",
              "      <td>[-1.0255101, -0.15121445, -2.2331533, 1.724021...</td>\n",
              "    </tr>\n",
              "    <tr>\n",
              "      <th>4</th>\n",
              "      <td>7</td>\n",
              "      <td>NaN</td>\n",
              "      <td>NaN</td>\n",
              "      <td>Just got sent this photo from Ruby #Alaska as ...</td>\n",
              "      <td>1</td>\n",
              "      <td>get send photo Ruby Alaska smoke wildfire pour...</td>\n",
              "      <td>[0.08517767, -0.10672835, -1.9185519, 0.144816...</td>\n",
              "    </tr>\n",
              "  </tbody>\n",
              "</table>\n",
              "</div>\n",
              "    <div class=\"colab-df-buttons\">\n",
              "\n",
              "  <div class=\"colab-df-container\">\n",
              "    <button class=\"colab-df-convert\" onclick=\"convertToInteractive('df-74df4017-8bd0-4dd2-b174-d5c8fa7286c9')\"\n",
              "            title=\"Convert this dataframe to an interactive table.\"\n",
              "            style=\"display:none;\">\n",
              "\n",
              "  <svg xmlns=\"http://www.w3.org/2000/svg\" height=\"24px\" viewBox=\"0 -960 960 960\">\n",
              "    <path d=\"M120-120v-720h720v720H120Zm60-500h600v-160H180v160Zm220 220h160v-160H400v160Zm0 220h160v-160H400v160ZM180-400h160v-160H180v160Zm440 0h160v-160H620v160ZM180-180h160v-160H180v160Zm440 0h160v-160H620v160Z\"/>\n",
              "  </svg>\n",
              "    </button>\n",
              "\n",
              "  <style>\n",
              "    .colab-df-container {\n",
              "      display:flex;\n",
              "      gap: 12px;\n",
              "    }\n",
              "\n",
              "    .colab-df-convert {\n",
              "      background-color: #E8F0FE;\n",
              "      border: none;\n",
              "      border-radius: 50%;\n",
              "      cursor: pointer;\n",
              "      display: none;\n",
              "      fill: #1967D2;\n",
              "      height: 32px;\n",
              "      padding: 0 0 0 0;\n",
              "      width: 32px;\n",
              "    }\n",
              "\n",
              "    .colab-df-convert:hover {\n",
              "      background-color: #E2EBFA;\n",
              "      box-shadow: 0px 1px 2px rgba(60, 64, 67, 0.3), 0px 1px 3px 1px rgba(60, 64, 67, 0.15);\n",
              "      fill: #174EA6;\n",
              "    }\n",
              "\n",
              "    .colab-df-buttons div {\n",
              "      margin-bottom: 4px;\n",
              "    }\n",
              "\n",
              "    [theme=dark] .colab-df-convert {\n",
              "      background-color: #3B4455;\n",
              "      fill: #D2E3FC;\n",
              "    }\n",
              "\n",
              "    [theme=dark] .colab-df-convert:hover {\n",
              "      background-color: #434B5C;\n",
              "      box-shadow: 0px 1px 3px 1px rgba(0, 0, 0, 0.15);\n",
              "      filter: drop-shadow(0px 1px 2px rgba(0, 0, 0, 0.3));\n",
              "      fill: #FFFFFF;\n",
              "    }\n",
              "  </style>\n",
              "\n",
              "    <script>\n",
              "      const buttonEl =\n",
              "        document.querySelector('#df-74df4017-8bd0-4dd2-b174-d5c8fa7286c9 button.colab-df-convert');\n",
              "      buttonEl.style.display =\n",
              "        google.colab.kernel.accessAllowed ? 'block' : 'none';\n",
              "\n",
              "      async function convertToInteractive(key) {\n",
              "        const element = document.querySelector('#df-74df4017-8bd0-4dd2-b174-d5c8fa7286c9');\n",
              "        const dataTable =\n",
              "          await google.colab.kernel.invokeFunction('convertToInteractive',\n",
              "                                                    [key], {});\n",
              "        if (!dataTable) return;\n",
              "\n",
              "        const docLinkHtml = 'Like what you see? Visit the ' +\n",
              "          '<a target=\"_blank\" href=https://colab.research.google.com/notebooks/data_table.ipynb>data table notebook</a>'\n",
              "          + ' to learn more about interactive tables.';\n",
              "        element.innerHTML = '';\n",
              "        dataTable['output_type'] = 'display_data';\n",
              "        await google.colab.output.renderOutput(dataTable, element);\n",
              "        const docLink = document.createElement('div');\n",
              "        docLink.innerHTML = docLinkHtml;\n",
              "        element.appendChild(docLink);\n",
              "      }\n",
              "    </script>\n",
              "  </div>\n",
              "\n",
              "\n",
              "<div id=\"df-f5998276-3bd6-473d-b359-73b4bcf1d087\">\n",
              "  <button class=\"colab-df-quickchart\" onclick=\"quickchart('df-f5998276-3bd6-473d-b359-73b4bcf1d087')\"\n",
              "            title=\"Suggest charts\"\n",
              "            style=\"display:none;\">\n",
              "\n",
              "<svg xmlns=\"http://www.w3.org/2000/svg\" height=\"24px\"viewBox=\"0 0 24 24\"\n",
              "     width=\"24px\">\n",
              "    <g>\n",
              "        <path d=\"M19 3H5c-1.1 0-2 .9-2 2v14c0 1.1.9 2 2 2h14c1.1 0 2-.9 2-2V5c0-1.1-.9-2-2-2zM9 17H7v-7h2v7zm4 0h-2V7h2v10zm4 0h-2v-4h2v4z\"/>\n",
              "    </g>\n",
              "</svg>\n",
              "  </button>\n",
              "\n",
              "<style>\n",
              "  .colab-df-quickchart {\n",
              "      --bg-color: #E8F0FE;\n",
              "      --fill-color: #1967D2;\n",
              "      --hover-bg-color: #E2EBFA;\n",
              "      --hover-fill-color: #174EA6;\n",
              "      --disabled-fill-color: #AAA;\n",
              "      --disabled-bg-color: #DDD;\n",
              "  }\n",
              "\n",
              "  [theme=dark] .colab-df-quickchart {\n",
              "      --bg-color: #3B4455;\n",
              "      --fill-color: #D2E3FC;\n",
              "      --hover-bg-color: #434B5C;\n",
              "      --hover-fill-color: #FFFFFF;\n",
              "      --disabled-bg-color: #3B4455;\n",
              "      --disabled-fill-color: #666;\n",
              "  }\n",
              "\n",
              "  .colab-df-quickchart {\n",
              "    background-color: var(--bg-color);\n",
              "    border: none;\n",
              "    border-radius: 50%;\n",
              "    cursor: pointer;\n",
              "    display: none;\n",
              "    fill: var(--fill-color);\n",
              "    height: 32px;\n",
              "    padding: 0;\n",
              "    width: 32px;\n",
              "  }\n",
              "\n",
              "  .colab-df-quickchart:hover {\n",
              "    background-color: var(--hover-bg-color);\n",
              "    box-shadow: 0 1px 2px rgba(60, 64, 67, 0.3), 0 1px 3px 1px rgba(60, 64, 67, 0.15);\n",
              "    fill: var(--button-hover-fill-color);\n",
              "  }\n",
              "\n",
              "  .colab-df-quickchart-complete:disabled,\n",
              "  .colab-df-quickchart-complete:disabled:hover {\n",
              "    background-color: var(--disabled-bg-color);\n",
              "    fill: var(--disabled-fill-color);\n",
              "    box-shadow: none;\n",
              "  }\n",
              "\n",
              "  .colab-df-spinner {\n",
              "    border: 2px solid var(--fill-color);\n",
              "    border-color: transparent;\n",
              "    border-bottom-color: var(--fill-color);\n",
              "    animation:\n",
              "      spin 1s steps(1) infinite;\n",
              "  }\n",
              "\n",
              "  @keyframes spin {\n",
              "    0% {\n",
              "      border-color: transparent;\n",
              "      border-bottom-color: var(--fill-color);\n",
              "      border-left-color: var(--fill-color);\n",
              "    }\n",
              "    20% {\n",
              "      border-color: transparent;\n",
              "      border-left-color: var(--fill-color);\n",
              "      border-top-color: var(--fill-color);\n",
              "    }\n",
              "    30% {\n",
              "      border-color: transparent;\n",
              "      border-left-color: var(--fill-color);\n",
              "      border-top-color: var(--fill-color);\n",
              "      border-right-color: var(--fill-color);\n",
              "    }\n",
              "    40% {\n",
              "      border-color: transparent;\n",
              "      border-right-color: var(--fill-color);\n",
              "      border-top-color: var(--fill-color);\n",
              "    }\n",
              "    60% {\n",
              "      border-color: transparent;\n",
              "      border-right-color: var(--fill-color);\n",
              "    }\n",
              "    80% {\n",
              "      border-color: transparent;\n",
              "      border-right-color: var(--fill-color);\n",
              "      border-bottom-color: var(--fill-color);\n",
              "    }\n",
              "    90% {\n",
              "      border-color: transparent;\n",
              "      border-bottom-color: var(--fill-color);\n",
              "    }\n",
              "  }\n",
              "</style>\n",
              "\n",
              "  <script>\n",
              "    async function quickchart(key) {\n",
              "      const quickchartButtonEl =\n",
              "        document.querySelector('#' + key + ' button');\n",
              "      quickchartButtonEl.disabled = true;  // To prevent multiple clicks.\n",
              "      quickchartButtonEl.classList.add('colab-df-spinner');\n",
              "      try {\n",
              "        const charts = await google.colab.kernel.invokeFunction(\n",
              "            'suggestCharts', [key], {});\n",
              "      } catch (error) {\n",
              "        console.error('Error during call to suggestCharts:', error);\n",
              "      }\n",
              "      quickchartButtonEl.classList.remove('colab-df-spinner');\n",
              "      quickchartButtonEl.classList.add('colab-df-quickchart-complete');\n",
              "    }\n",
              "    (() => {\n",
              "      let quickchartButtonEl =\n",
              "        document.querySelector('#df-f5998276-3bd6-473d-b359-73b4bcf1d087 button');\n",
              "      quickchartButtonEl.style.display =\n",
              "        google.colab.kernel.accessAllowed ? 'block' : 'none';\n",
              "    })();\n",
              "  </script>\n",
              "</div>\n",
              "\n",
              "    </div>\n",
              "  </div>\n"
            ],
            "application/vnd.google.colaboratory.intrinsic+json": {
              "type": "dataframe",
              "variable_name": "df_train",
              "summary": "{\n  \"name\": \"df_train\",\n  \"rows\": 7613,\n  \"fields\": [\n    {\n      \"column\": \"id\",\n      \"properties\": {\n        \"dtype\": \"number\",\n        \"std\": 3137,\n        \"min\": 1,\n        \"max\": 10873,\n        \"num_unique_values\": 7613,\n        \"samples\": [\n          3796,\n          3185,\n          7769\n        ],\n        \"semantic_type\": \"\",\n        \"description\": \"\"\n      }\n    },\n    {\n      \"column\": \"keyword\",\n      \"properties\": {\n        \"dtype\": \"category\",\n        \"num_unique_values\": 221,\n        \"samples\": [\n          \"injury\",\n          \"nuclear%20reactor\",\n          \"engulfed\"\n        ],\n        \"semantic_type\": \"\",\n        \"description\": \"\"\n      }\n    },\n    {\n      \"column\": \"location\",\n      \"properties\": {\n        \"dtype\": \"category\",\n        \"num_unique_values\": 3341,\n        \"samples\": [\n          \"Oklahoma\",\n          \"Starling City\",\n          \"Trinidad and Tobago\"\n        ],\n        \"semantic_type\": \"\",\n        \"description\": \"\"\n      }\n    },\n    {\n      \"column\": \"text\",\n      \"properties\": {\n        \"dtype\": \"string\",\n        \"num_unique_values\": 7503,\n        \"samples\": [\n          \"Three Homes Demolished in Unrecognized Arab Village - International Middle East Media Center http://t.co/ik8m4Yi9T4\",\n          \"Reid Lake fire prompts campground evacuation order http://t.co/jBODKM6rBU\",\n          \"FAAN orders evacuation of abandoned aircraft at MMA http://t.co/dEvYbnVXGQ via @todayng\"\n        ],\n        \"semantic_type\": \"\",\n        \"description\": \"\"\n      }\n    },\n    {\n      \"column\": \"target\",\n      \"properties\": {\n        \"dtype\": \"number\",\n        \"std\": 0,\n        \"min\": 0,\n        \"max\": 1,\n        \"num_unique_values\": 2,\n        \"samples\": [\n          0,\n          1\n        ],\n        \"semantic_type\": \"\",\n        \"description\": \"\"\n      }\n    },\n    {\n      \"column\": \"preprocessed_text\",\n      \"properties\": {\n        \"dtype\": \"string\",\n        \"num_unique_values\": 7490,\n        \"samples\": [\n          \"love wake dad scream\",\n          \"pandemonium Aba Woman deliver Baby Face Photos http://t.co/c5u9qshhnb\"\n        ],\n        \"semantic_type\": \"\",\n        \"description\": \"\"\n      }\n    },\n    {\n      \"column\": \"vector\",\n      \"properties\": {\n        \"dtype\": \"object\",\n        \"semantic_type\": \"\",\n        \"description\": \"\"\n      }\n    }\n  ]\n}"
            }
          },
          "metadata": {},
          "execution_count": 12
        }
      ]
    },
    {
      "cell_type": "code",
      "source": [
        "from sklearn.model_selection import train_test_split\n",
        "\n",
        "x_train, x_test, y_train, y_test = train_test_split(df_train[\"vector\"].values, df_train[\"target\"], test_size=0.2, random_state=2022)"
      ],
      "metadata": {
        "id": "RH2ZmlWwaVnd"
      },
      "execution_count": 13,
      "outputs": []
    },
    {
      "cell_type": "code",
      "source": [
        "import numpy as np\n",
        "\n",
        "x_train_2d = np.stack(x_train)\n",
        "x_test_2d = np.stack(x_test)"
      ],
      "metadata": {
        "id": "FLIk3lmNcaLi"
      },
      "execution_count": 14,
      "outputs": []
    },
    {
      "cell_type": "code",
      "source": [
        "from sklearn.naive_bayes import MultinomialNB\n",
        "from sklearn.preprocessing import MinMaxScaler\n",
        "from sklearn.metrics import classification_report\n",
        "\n",
        "scalar = MinMaxScaler()\n",
        "x_train_2d_scaled = scalar.fit_transform(x_train_2d)\n",
        "x_test_2d_scaled = scalar.transform(x_test_2d)\n",
        "\n",
        "clf = MultinomialNB()\n",
        "clf.fit(x_train_2d_scaled, y_train)"
      ],
      "metadata": {
        "colab": {
          "base_uri": "https://localhost:8080/",
          "height": 75
        },
        "id": "9wXSh9tsdgIc",
        "outputId": "2e88e8ea-0091-40fc-c44a-3318547d027f"
      },
      "execution_count": 23,
      "outputs": [
        {
          "output_type": "execute_result",
          "data": {
            "text/plain": [
              "MultinomialNB()"
            ],
            "text/html": [
              "<style>#sk-container-id-1 {color: black;background-color: white;}#sk-container-id-1 pre{padding: 0;}#sk-container-id-1 div.sk-toggleable {background-color: white;}#sk-container-id-1 label.sk-toggleable__label {cursor: pointer;display: block;width: 100%;margin-bottom: 0;padding: 0.3em;box-sizing: border-box;text-align: center;}#sk-container-id-1 label.sk-toggleable__label-arrow:before {content: \"▸\";float: left;margin-right: 0.25em;color: #696969;}#sk-container-id-1 label.sk-toggleable__label-arrow:hover:before {color: black;}#sk-container-id-1 div.sk-estimator:hover label.sk-toggleable__label-arrow:before {color: black;}#sk-container-id-1 div.sk-toggleable__content {max-height: 0;max-width: 0;overflow: hidden;text-align: left;background-color: #f0f8ff;}#sk-container-id-1 div.sk-toggleable__content pre {margin: 0.2em;color: black;border-radius: 0.25em;background-color: #f0f8ff;}#sk-container-id-1 input.sk-toggleable__control:checked~div.sk-toggleable__content {max-height: 200px;max-width: 100%;overflow: auto;}#sk-container-id-1 input.sk-toggleable__control:checked~label.sk-toggleable__label-arrow:before {content: \"▾\";}#sk-container-id-1 div.sk-estimator input.sk-toggleable__control:checked~label.sk-toggleable__label {background-color: #d4ebff;}#sk-container-id-1 div.sk-label input.sk-toggleable__control:checked~label.sk-toggleable__label {background-color: #d4ebff;}#sk-container-id-1 input.sk-hidden--visually {border: 0;clip: rect(1px 1px 1px 1px);clip: rect(1px, 1px, 1px, 1px);height: 1px;margin: -1px;overflow: hidden;padding: 0;position: absolute;width: 1px;}#sk-container-id-1 div.sk-estimator {font-family: monospace;background-color: #f0f8ff;border: 1px dotted black;border-radius: 0.25em;box-sizing: border-box;margin-bottom: 0.5em;}#sk-container-id-1 div.sk-estimator:hover {background-color: #d4ebff;}#sk-container-id-1 div.sk-parallel-item::after {content: \"\";width: 100%;border-bottom: 1px solid gray;flex-grow: 1;}#sk-container-id-1 div.sk-label:hover label.sk-toggleable__label {background-color: #d4ebff;}#sk-container-id-1 div.sk-serial::before {content: \"\";position: absolute;border-left: 1px solid gray;box-sizing: border-box;top: 0;bottom: 0;left: 50%;z-index: 0;}#sk-container-id-1 div.sk-serial {display: flex;flex-direction: column;align-items: center;background-color: white;padding-right: 0.2em;padding-left: 0.2em;position: relative;}#sk-container-id-1 div.sk-item {position: relative;z-index: 1;}#sk-container-id-1 div.sk-parallel {display: flex;align-items: stretch;justify-content: center;background-color: white;position: relative;}#sk-container-id-1 div.sk-item::before, #sk-container-id-1 div.sk-parallel-item::before {content: \"\";position: absolute;border-left: 1px solid gray;box-sizing: border-box;top: 0;bottom: 0;left: 50%;z-index: -1;}#sk-container-id-1 div.sk-parallel-item {display: flex;flex-direction: column;z-index: 1;position: relative;background-color: white;}#sk-container-id-1 div.sk-parallel-item:first-child::after {align-self: flex-end;width: 50%;}#sk-container-id-1 div.sk-parallel-item:last-child::after {align-self: flex-start;width: 50%;}#sk-container-id-1 div.sk-parallel-item:only-child::after {width: 0;}#sk-container-id-1 div.sk-dashed-wrapped {border: 1px dashed gray;margin: 0 0.4em 0.5em 0.4em;box-sizing: border-box;padding-bottom: 0.4em;background-color: white;}#sk-container-id-1 div.sk-label label {font-family: monospace;font-weight: bold;display: inline-block;line-height: 1.2em;}#sk-container-id-1 div.sk-label-container {text-align: center;}#sk-container-id-1 div.sk-container {/* jupyter's `normalize.less` sets `[hidden] { display: none; }` but bootstrap.min.css set `[hidden] { display: none !important; }` so we also need the `!important` here to be able to override the default hidden behavior on the sphinx rendered scikit-learn.org. See: https://github.com/scikit-learn/scikit-learn/issues/21755 */display: inline-block !important;position: relative;}#sk-container-id-1 div.sk-text-repr-fallback {display: none;}</style><div id=\"sk-container-id-1\" class=\"sk-top-container\"><div class=\"sk-text-repr-fallback\"><pre>MultinomialNB()</pre><b>In a Jupyter environment, please rerun this cell to show the HTML representation or trust the notebook. <br />On GitHub, the HTML representation is unable to render, please try loading this page with nbviewer.org.</b></div><div class=\"sk-container\" hidden><div class=\"sk-item\"><div class=\"sk-estimator sk-toggleable\"><input class=\"sk-toggleable__control sk-hidden--visually\" id=\"sk-estimator-id-1\" type=\"checkbox\" checked><label for=\"sk-estimator-id-1\" class=\"sk-toggleable__label sk-toggleable__label-arrow\">MultinomialNB</label><div class=\"sk-toggleable__content\"><pre>MultinomialNB()</pre></div></div></div></div></div>"
            ]
          },
          "metadata": {},
          "execution_count": 23
        }
      ]
    },
    {
      "cell_type": "code",
      "source": [
        "y_pred = clf.predict(x_test_2d_scaled)\n",
        "print(classification_report(y_test, y_pred))"
      ],
      "metadata": {
        "colab": {
          "base_uri": "https://localhost:8080/"
        },
        "id": "zsUDBgWFeJWk",
        "outputId": "605399b7-6f13-43e7-f963-f33a5f198103"
      },
      "execution_count": 24,
      "outputs": [
        {
          "output_type": "stream",
          "name": "stdout",
          "text": [
            "              precision    recall  f1-score   support\n",
            "\n",
            "           0       0.73      0.70      0.71       862\n",
            "           1       0.63      0.66      0.65       661\n",
            "\n",
            "    accuracy                           0.68      1523\n",
            "   macro avg       0.68      0.68      0.68      1523\n",
            "weighted avg       0.69      0.68      0.68      1523\n",
            "\n"
          ]
        }
      ]
    },
    {
      "cell_type": "code",
      "source": [
        "from sklearn.neighbors import KNeighborsClassifier\n",
        "\n",
        "clf = KNeighborsClassifier(n_neighbors = 5, metric = 'euclidean')\n",
        "clf.fit(x_train_2d_scaled, y_train)\n",
        "\n",
        "y_pred = clf.predict(x_test_2d_scaled)\n",
        "print(classification_report(y_test, y_pred))"
      ],
      "metadata": {
        "colab": {
          "base_uri": "https://localhost:8080/"
        },
        "id": "BcP7x7pDeVSj",
        "outputId": "9f5e4921-9b29-4748-8d69-3baff88c4bfd"
      },
      "execution_count": 26,
      "outputs": [
        {
          "output_type": "stream",
          "name": "stdout",
          "text": [
            "              precision    recall  f1-score   support\n",
            "\n",
            "           0       0.76      0.82      0.79       862\n",
            "           1       0.74      0.66      0.70       661\n",
            "\n",
            "    accuracy                           0.75      1523\n",
            "   macro avg       0.75      0.74      0.75      1523\n",
            "weighted avg       0.75      0.75      0.75      1523\n",
            "\n"
          ]
        }
      ]
    },
    {
      "cell_type": "markdown",
      "source": [
        "Word Vectors in Gensim overview"
      ],
      "metadata": {
        "id": "9j5ZL3pnknxn"
      }
    },
    {
      "cell_type": "code",
      "source": [
        "import gensim.downloader as api\n",
        "\n",
        "wv = api.load(\"glove-twitter-50\")"
      ],
      "metadata": {
        "colab": {
          "base_uri": "https://localhost:8080/"
        },
        "id": "_tgmorNxfCWb",
        "outputId": "99b22727-fe6e-436b-ac90-af1e2fb72fe0"
      },
      "execution_count": 16,
      "outputs": [
        {
          "output_type": "stream",
          "name": "stdout",
          "text": [
            "[==================================================] 100.0% 199.5/199.5MB downloaded\n"
          ]
        }
      ]
    },
    {
      "cell_type": "code",
      "source": [
        "wv.similarity(w1=\"disaster\", w2=\"catastrophe\")"
      ],
      "metadata": {
        "colab": {
          "base_uri": "https://localhost:8080/"
        },
        "id": "weQ92EQKmyBZ",
        "outputId": "82b938ca-03f8-4987-89b5-de162931242d"
      },
      "execution_count": 17,
      "outputs": [
        {
          "output_type": "execute_result",
          "data": {
            "text/plain": [
              "0.6707797"
            ]
          },
          "metadata": {},
          "execution_count": 17
        }
      ]
    },
    {
      "cell_type": "code",
      "source": [
        "wv.similarity(w1=\"well\", w2=\"great\")"
      ],
      "metadata": {
        "colab": {
          "base_uri": "https://localhost:8080/"
        },
        "id": "lnk6Gf7sm5ZQ",
        "outputId": "30a39151-4e82-4977-f4ae-1c0d63af1275"
      },
      "execution_count": 18,
      "outputs": [
        {
          "output_type": "execute_result",
          "data": {
            "text/plain": [
              "0.8710875"
            ]
          },
          "metadata": {},
          "execution_count": 18
        }
      ]
    },
    {
      "cell_type": "code",
      "source": [
        "wv_great = wv[\"great\"]\n",
        "wv_well = wv[\"well\"]\n",
        "print(wv_great.shape, wv_well.shape)\n",
        "\n",
        "#Sentence embedding is the mathematical embedding of all the word embeddings in the sentence, and is get by wv.get_mean_vector\n",
        "import numpy as np\n",
        "print(np.mean([wv_great, wv_well], axis=0)[:3])\n",
        "print(wv.get_mean_vector([\"great\", \"well\"], pre_normalize=False)[:3])"
      ],
      "metadata": {
        "colab": {
          "base_uri": "https://localhost:8080/"
        },
        "id": "pGvHLV80yGOp",
        "outputId": "4430dbd2-bfb8-4c65-8495-4774c2ce2e7b"
      },
      "execution_count": 26,
      "outputs": [
        {
          "output_type": "stream",
          "name": "stdout",
          "text": [
            "(50,) (50,)\n",
            "[0.43752003 0.14395651 0.322215  ]\n",
            "[0.43752003 0.14395651 0.322215  ]\n"
          ]
        }
      ]
    },
    {
      "cell_type": "code",
      "source": [
        "wv.most_similar(\"disaster\")"
      ],
      "metadata": {
        "colab": {
          "base_uri": "https://localhost:8080/"
        },
        "id": "29S2I65ynF5M",
        "outputId": "91d6904f-0993-4209-ad22-2039e10476d2"
      },
      "execution_count": 19,
      "outputs": [
        {
          "output_type": "execute_result",
          "data": {
            "text/plain": [
              "[('tragedy', 0.8369920253753662),\n",
              " ('destruction', 0.79105144739151),\n",
              " ('relief', 0.7765377163887024),\n",
              " ('hurricane', 0.7673801183700562),\n",
              " ('apocalypse', 0.7665935158729553),\n",
              " ('climate', 0.7536067366600037),\n",
              " ('operation', 0.7534821629524231),\n",
              " ('threat', 0.7521082758903503),\n",
              " ('caused', 0.7516399025917053),\n",
              " ('death', 0.7499884366989136)]"
            ]
          },
          "metadata": {},
          "execution_count": 19
        }
      ]
    },
    {
      "cell_type": "code",
      "source": [
        "wv.most_similar(positive=[\"france\", \"berlin\"], negative=[\"paris\"])"
      ],
      "metadata": {
        "colab": {
          "base_uri": "https://localhost:8080/"
        },
        "id": "W5TPqQ6orDme",
        "outputId": "ef89a0f4-6852-4326-b417-1c125ce7ffb2"
      },
      "execution_count": 32,
      "outputs": [
        {
          "output_type": "execute_result",
          "data": {
            "text/plain": [
              "[('deutschland', 0.8015620708465576),\n",
              " ('frankfurt', 0.7949166297912598),\n",
              " ('hamburg', 0.7809246182441711),\n",
              " ('hannover', 0.7617123126983643),\n",
              " ('germany', 0.74187171459198),\n",
              " ('düsseldorf', 0.7412071824073792),\n",
              " ('ukraine', 0.7311040759086609),\n",
              " ('münchen', 0.7288892269134521),\n",
              " ('wien', 0.7238292098045349),\n",
              " ('deutsche', 0.7222028374671936)]"
            ]
          },
          "metadata": {},
          "execution_count": 32
        }
      ]
    },
    {
      "cell_type": "code",
      "source": [
        "wv.most_similar(positive=[\"king\", \"woman\"], negative=[\"man\"])"
      ],
      "metadata": {
        "colab": {
          "base_uri": "https://localhost:8080/"
        },
        "id": "V6x42IazrTOp",
        "outputId": "1ec99838-8d84-4cc6-eb52-9063b3ae9ae1"
      },
      "execution_count": 33,
      "outputs": [
        {
          "output_type": "execute_result",
          "data": {
            "text/plain": [
              "[('prince', 0.759779691696167),\n",
              " ('stone', 0.7595877051353455),\n",
              " ('queen', 0.754626989364624),\n",
              " ('meets', 0.7404001355171204),\n",
              " ('royal', 0.7376410365104675),\n",
              " ('african', 0.7345032691955566),\n",
              " ('american', 0.7139527201652527),\n",
              " ('virgin', 0.7101486325263977),\n",
              " ('mother', 0.702320396900177),\n",
              " ('called', 0.6990438103675842)]"
            ]
          },
          "metadata": {},
          "execution_count": 33
        }
      ]
    },
    {
      "cell_type": "code",
      "source": [
        "wv.doesnt_match(\"breakfast cereal dinner lunch\".split())"
      ],
      "metadata": {
        "colab": {
          "base_uri": "https://localhost:8080/",
          "height": 35
        },
        "id": "rgqAzkeYrmeL",
        "outputId": "937d3ed8-c205-4e67-efe2-3574a484b2c3"
      },
      "execution_count": 34,
      "outputs": [
        {
          "output_type": "execute_result",
          "data": {
            "text/plain": [
              "'cereal'"
            ],
            "application/vnd.google.colaboratory.intrinsic+json": {
              "type": "string"
            }
          },
          "metadata": {},
          "execution_count": 34
        }
      ]
    },
    {
      "cell_type": "code",
      "source": [
        "df_train.head()"
      ],
      "metadata": {
        "colab": {
          "base_uri": "https://localhost:8080/",
          "height": 206
        },
        "id": "UUrVtfpQxCcI",
        "outputId": "07c06b1a-62e4-4b10-96ab-c4f3d121099c"
      },
      "execution_count": 27,
      "outputs": [
        {
          "output_type": "execute_result",
          "data": {
            "text/plain": [
              "   id keyword location                                               text  \\\n",
              "0   1     NaN      NaN  Our Deeds are the Reason of this #earthquake M...   \n",
              "1   4     NaN      NaN             Forest fire near La Ronge Sask. Canada   \n",
              "2   5     NaN      NaN  All residents asked to 'shelter in place' are ...   \n",
              "3   6     NaN      NaN  13,000 people receive #wildfires evacuation or...   \n",
              "4   7     NaN      NaN  Just got sent this photo from Ruby #Alaska as ...   \n",
              "\n",
              "   target                                  preprocessed_text  \\\n",
              "0       1               deed Reason earthquake ALLAH forgive   \n",
              "1       1              forest fire near La Ronge Sask Canada   \n",
              "2       1  resident ask shelter place notify officer evac...   \n",
              "3       1  13,000 people receive wildfire evacuation orde...   \n",
              "4       1  get send photo Ruby Alaska smoke wildfire pour...   \n",
              "\n",
              "                                              vector  \n",
              "0  [-0.965633, 0.086769275, -2.2507236, 0.4783793...  \n",
              "1  [-1.8681643, -1.6165241, -0.21609005, -1.76522...  \n",
              "2  [-2.4070368, 0.27042598, -1.3639991, 0.7013667...  \n",
              "3  [-1.0255101, -0.15121445, -2.2331533, 1.724021...  \n",
              "4  [0.08517767, -0.10672835, -1.9185519, 0.144816...  "
            ],
            "text/html": [
              "\n",
              "  <div id=\"df-c4f1101a-9de0-4d86-9f30-90491800927f\" class=\"colab-df-container\">\n",
              "    <div>\n",
              "<style scoped>\n",
              "    .dataframe tbody tr th:only-of-type {\n",
              "        vertical-align: middle;\n",
              "    }\n",
              "\n",
              "    .dataframe tbody tr th {\n",
              "        vertical-align: top;\n",
              "    }\n",
              "\n",
              "    .dataframe thead th {\n",
              "        text-align: right;\n",
              "    }\n",
              "</style>\n",
              "<table border=\"1\" class=\"dataframe\">\n",
              "  <thead>\n",
              "    <tr style=\"text-align: right;\">\n",
              "      <th></th>\n",
              "      <th>id</th>\n",
              "      <th>keyword</th>\n",
              "      <th>location</th>\n",
              "      <th>text</th>\n",
              "      <th>target</th>\n",
              "      <th>preprocessed_text</th>\n",
              "      <th>vector</th>\n",
              "    </tr>\n",
              "  </thead>\n",
              "  <tbody>\n",
              "    <tr>\n",
              "      <th>0</th>\n",
              "      <td>1</td>\n",
              "      <td>NaN</td>\n",
              "      <td>NaN</td>\n",
              "      <td>Our Deeds are the Reason of this #earthquake M...</td>\n",
              "      <td>1</td>\n",
              "      <td>deed Reason earthquake ALLAH forgive</td>\n",
              "      <td>[-0.965633, 0.086769275, -2.2507236, 0.4783793...</td>\n",
              "    </tr>\n",
              "    <tr>\n",
              "      <th>1</th>\n",
              "      <td>4</td>\n",
              "      <td>NaN</td>\n",
              "      <td>NaN</td>\n",
              "      <td>Forest fire near La Ronge Sask. Canada</td>\n",
              "      <td>1</td>\n",
              "      <td>forest fire near La Ronge Sask Canada</td>\n",
              "      <td>[-1.8681643, -1.6165241, -0.21609005, -1.76522...</td>\n",
              "    </tr>\n",
              "    <tr>\n",
              "      <th>2</th>\n",
              "      <td>5</td>\n",
              "      <td>NaN</td>\n",
              "      <td>NaN</td>\n",
              "      <td>All residents asked to 'shelter in place' are ...</td>\n",
              "      <td>1</td>\n",
              "      <td>resident ask shelter place notify officer evac...</td>\n",
              "      <td>[-2.4070368, 0.27042598, -1.3639991, 0.7013667...</td>\n",
              "    </tr>\n",
              "    <tr>\n",
              "      <th>3</th>\n",
              "      <td>6</td>\n",
              "      <td>NaN</td>\n",
              "      <td>NaN</td>\n",
              "      <td>13,000 people receive #wildfires evacuation or...</td>\n",
              "      <td>1</td>\n",
              "      <td>13,000 people receive wildfire evacuation orde...</td>\n",
              "      <td>[-1.0255101, -0.15121445, -2.2331533, 1.724021...</td>\n",
              "    </tr>\n",
              "    <tr>\n",
              "      <th>4</th>\n",
              "      <td>7</td>\n",
              "      <td>NaN</td>\n",
              "      <td>NaN</td>\n",
              "      <td>Just got sent this photo from Ruby #Alaska as ...</td>\n",
              "      <td>1</td>\n",
              "      <td>get send photo Ruby Alaska smoke wildfire pour...</td>\n",
              "      <td>[0.08517767, -0.10672835, -1.9185519, 0.144816...</td>\n",
              "    </tr>\n",
              "  </tbody>\n",
              "</table>\n",
              "</div>\n",
              "    <div class=\"colab-df-buttons\">\n",
              "\n",
              "  <div class=\"colab-df-container\">\n",
              "    <button class=\"colab-df-convert\" onclick=\"convertToInteractive('df-c4f1101a-9de0-4d86-9f30-90491800927f')\"\n",
              "            title=\"Convert this dataframe to an interactive table.\"\n",
              "            style=\"display:none;\">\n",
              "\n",
              "  <svg xmlns=\"http://www.w3.org/2000/svg\" height=\"24px\" viewBox=\"0 -960 960 960\">\n",
              "    <path d=\"M120-120v-720h720v720H120Zm60-500h600v-160H180v160Zm220 220h160v-160H400v160Zm0 220h160v-160H400v160ZM180-400h160v-160H180v160Zm440 0h160v-160H620v160ZM180-180h160v-160H180v160Zm440 0h160v-160H620v160Z\"/>\n",
              "  </svg>\n",
              "    </button>\n",
              "\n",
              "  <style>\n",
              "    .colab-df-container {\n",
              "      display:flex;\n",
              "      gap: 12px;\n",
              "    }\n",
              "\n",
              "    .colab-df-convert {\n",
              "      background-color: #E8F0FE;\n",
              "      border: none;\n",
              "      border-radius: 50%;\n",
              "      cursor: pointer;\n",
              "      display: none;\n",
              "      fill: #1967D2;\n",
              "      height: 32px;\n",
              "      padding: 0 0 0 0;\n",
              "      width: 32px;\n",
              "    }\n",
              "\n",
              "    .colab-df-convert:hover {\n",
              "      background-color: #E2EBFA;\n",
              "      box-shadow: 0px 1px 2px rgba(60, 64, 67, 0.3), 0px 1px 3px 1px rgba(60, 64, 67, 0.15);\n",
              "      fill: #174EA6;\n",
              "    }\n",
              "\n",
              "    .colab-df-buttons div {\n",
              "      margin-bottom: 4px;\n",
              "    }\n",
              "\n",
              "    [theme=dark] .colab-df-convert {\n",
              "      background-color: #3B4455;\n",
              "      fill: #D2E3FC;\n",
              "    }\n",
              "\n",
              "    [theme=dark] .colab-df-convert:hover {\n",
              "      background-color: #434B5C;\n",
              "      box-shadow: 0px 1px 3px 1px rgba(0, 0, 0, 0.15);\n",
              "      filter: drop-shadow(0px 1px 2px rgba(0, 0, 0, 0.3));\n",
              "      fill: #FFFFFF;\n",
              "    }\n",
              "  </style>\n",
              "\n",
              "    <script>\n",
              "      const buttonEl =\n",
              "        document.querySelector('#df-c4f1101a-9de0-4d86-9f30-90491800927f button.colab-df-convert');\n",
              "      buttonEl.style.display =\n",
              "        google.colab.kernel.accessAllowed ? 'block' : 'none';\n",
              "\n",
              "      async function convertToInteractive(key) {\n",
              "        const element = document.querySelector('#df-c4f1101a-9de0-4d86-9f30-90491800927f');\n",
              "        const dataTable =\n",
              "          await google.colab.kernel.invokeFunction('convertToInteractive',\n",
              "                                                    [key], {});\n",
              "        if (!dataTable) return;\n",
              "\n",
              "        const docLinkHtml = 'Like what you see? Visit the ' +\n",
              "          '<a target=\"_blank\" href=https://colab.research.google.com/notebooks/data_table.ipynb>data table notebook</a>'\n",
              "          + ' to learn more about interactive tables.';\n",
              "        element.innerHTML = '';\n",
              "        dataTable['output_type'] = 'display_data';\n",
              "        await google.colab.output.renderOutput(dataTable, element);\n",
              "        const docLink = document.createElement('div');\n",
              "        docLink.innerHTML = docLinkHtml;\n",
              "        element.appendChild(docLink);\n",
              "      }\n",
              "    </script>\n",
              "  </div>\n",
              "\n",
              "\n",
              "<div id=\"df-3c00677e-df1f-4a89-b2af-14f06e911cfc\">\n",
              "  <button class=\"colab-df-quickchart\" onclick=\"quickchart('df-3c00677e-df1f-4a89-b2af-14f06e911cfc')\"\n",
              "            title=\"Suggest charts\"\n",
              "            style=\"display:none;\">\n",
              "\n",
              "<svg xmlns=\"http://www.w3.org/2000/svg\" height=\"24px\"viewBox=\"0 0 24 24\"\n",
              "     width=\"24px\">\n",
              "    <g>\n",
              "        <path d=\"M19 3H5c-1.1 0-2 .9-2 2v14c0 1.1.9 2 2 2h14c1.1 0 2-.9 2-2V5c0-1.1-.9-2-2-2zM9 17H7v-7h2v7zm4 0h-2V7h2v10zm4 0h-2v-4h2v4z\"/>\n",
              "    </g>\n",
              "</svg>\n",
              "  </button>\n",
              "\n",
              "<style>\n",
              "  .colab-df-quickchart {\n",
              "      --bg-color: #E8F0FE;\n",
              "      --fill-color: #1967D2;\n",
              "      --hover-bg-color: #E2EBFA;\n",
              "      --hover-fill-color: #174EA6;\n",
              "      --disabled-fill-color: #AAA;\n",
              "      --disabled-bg-color: #DDD;\n",
              "  }\n",
              "\n",
              "  [theme=dark] .colab-df-quickchart {\n",
              "      --bg-color: #3B4455;\n",
              "      --fill-color: #D2E3FC;\n",
              "      --hover-bg-color: #434B5C;\n",
              "      --hover-fill-color: #FFFFFF;\n",
              "      --disabled-bg-color: #3B4455;\n",
              "      --disabled-fill-color: #666;\n",
              "  }\n",
              "\n",
              "  .colab-df-quickchart {\n",
              "    background-color: var(--bg-color);\n",
              "    border: none;\n",
              "    border-radius: 50%;\n",
              "    cursor: pointer;\n",
              "    display: none;\n",
              "    fill: var(--fill-color);\n",
              "    height: 32px;\n",
              "    padding: 0;\n",
              "    width: 32px;\n",
              "  }\n",
              "\n",
              "  .colab-df-quickchart:hover {\n",
              "    background-color: var(--hover-bg-color);\n",
              "    box-shadow: 0 1px 2px rgba(60, 64, 67, 0.3), 0 1px 3px 1px rgba(60, 64, 67, 0.15);\n",
              "    fill: var(--button-hover-fill-color);\n",
              "  }\n",
              "\n",
              "  .colab-df-quickchart-complete:disabled,\n",
              "  .colab-df-quickchart-complete:disabled:hover {\n",
              "    background-color: var(--disabled-bg-color);\n",
              "    fill: var(--disabled-fill-color);\n",
              "    box-shadow: none;\n",
              "  }\n",
              "\n",
              "  .colab-df-spinner {\n",
              "    border: 2px solid var(--fill-color);\n",
              "    border-color: transparent;\n",
              "    border-bottom-color: var(--fill-color);\n",
              "    animation:\n",
              "      spin 1s steps(1) infinite;\n",
              "  }\n",
              "\n",
              "  @keyframes spin {\n",
              "    0% {\n",
              "      border-color: transparent;\n",
              "      border-bottom-color: var(--fill-color);\n",
              "      border-left-color: var(--fill-color);\n",
              "    }\n",
              "    20% {\n",
              "      border-color: transparent;\n",
              "      border-left-color: var(--fill-color);\n",
              "      border-top-color: var(--fill-color);\n",
              "    }\n",
              "    30% {\n",
              "      border-color: transparent;\n",
              "      border-left-color: var(--fill-color);\n",
              "      border-top-color: var(--fill-color);\n",
              "      border-right-color: var(--fill-color);\n",
              "    }\n",
              "    40% {\n",
              "      border-color: transparent;\n",
              "      border-right-color: var(--fill-color);\n",
              "      border-top-color: var(--fill-color);\n",
              "    }\n",
              "    60% {\n",
              "      border-color: transparent;\n",
              "      border-right-color: var(--fill-color);\n",
              "    }\n",
              "    80% {\n",
              "      border-color: transparent;\n",
              "      border-right-color: var(--fill-color);\n",
              "      border-bottom-color: var(--fill-color);\n",
              "    }\n",
              "    90% {\n",
              "      border-color: transparent;\n",
              "      border-bottom-color: var(--fill-color);\n",
              "    }\n",
              "  }\n",
              "</style>\n",
              "\n",
              "  <script>\n",
              "    async function quickchart(key) {\n",
              "      const quickchartButtonEl =\n",
              "        document.querySelector('#' + key + ' button');\n",
              "      quickchartButtonEl.disabled = true;  // To prevent multiple clicks.\n",
              "      quickchartButtonEl.classList.add('colab-df-spinner');\n",
              "      try {\n",
              "        const charts = await google.colab.kernel.invokeFunction(\n",
              "            'suggestCharts', [key], {});\n",
              "      } catch (error) {\n",
              "        console.error('Error during call to suggestCharts:', error);\n",
              "      }\n",
              "      quickchartButtonEl.classList.remove('colab-df-spinner');\n",
              "      quickchartButtonEl.classList.add('colab-df-quickchart-complete');\n",
              "    }\n",
              "    (() => {\n",
              "      let quickchartButtonEl =\n",
              "        document.querySelector('#df-3c00677e-df1f-4a89-b2af-14f06e911cfc button');\n",
              "      quickchartButtonEl.style.display =\n",
              "        google.colab.kernel.accessAllowed ? 'block' : 'none';\n",
              "    })();\n",
              "  </script>\n",
              "</div>\n",
              "\n",
              "    </div>\n",
              "  </div>\n"
            ],
            "application/vnd.google.colaboratory.intrinsic+json": {
              "type": "dataframe",
              "variable_name": "df_train",
              "summary": "{\n  \"name\": \"df_train\",\n  \"rows\": 7613,\n  \"fields\": [\n    {\n      \"column\": \"id\",\n      \"properties\": {\n        \"dtype\": \"number\",\n        \"std\": 3137,\n        \"min\": 1,\n        \"max\": 10873,\n        \"num_unique_values\": 7613,\n        \"samples\": [\n          3796,\n          3185,\n          7769\n        ],\n        \"semantic_type\": \"\",\n        \"description\": \"\"\n      }\n    },\n    {\n      \"column\": \"keyword\",\n      \"properties\": {\n        \"dtype\": \"category\",\n        \"num_unique_values\": 221,\n        \"samples\": [\n          \"injury\",\n          \"nuclear%20reactor\",\n          \"engulfed\"\n        ],\n        \"semantic_type\": \"\",\n        \"description\": \"\"\n      }\n    },\n    {\n      \"column\": \"location\",\n      \"properties\": {\n        \"dtype\": \"category\",\n        \"num_unique_values\": 3341,\n        \"samples\": [\n          \"Oklahoma\",\n          \"Starling City\",\n          \"Trinidad and Tobago\"\n        ],\n        \"semantic_type\": \"\",\n        \"description\": \"\"\n      }\n    },\n    {\n      \"column\": \"text\",\n      \"properties\": {\n        \"dtype\": \"string\",\n        \"num_unique_values\": 7503,\n        \"samples\": [\n          \"Three Homes Demolished in Unrecognized Arab Village - International Middle East Media Center http://t.co/ik8m4Yi9T4\",\n          \"Reid Lake fire prompts campground evacuation order http://t.co/jBODKM6rBU\",\n          \"FAAN orders evacuation of abandoned aircraft at MMA http://t.co/dEvYbnVXGQ via @todayng\"\n        ],\n        \"semantic_type\": \"\",\n        \"description\": \"\"\n      }\n    },\n    {\n      \"column\": \"target\",\n      \"properties\": {\n        \"dtype\": \"number\",\n        \"std\": 0,\n        \"min\": 0,\n        \"max\": 1,\n        \"num_unique_values\": 2,\n        \"samples\": [\n          0,\n          1\n        ],\n        \"semantic_type\": \"\",\n        \"description\": \"\"\n      }\n    },\n    {\n      \"column\": \"preprocessed_text\",\n      \"properties\": {\n        \"dtype\": \"string\",\n        \"num_unique_values\": 7490,\n        \"samples\": [\n          \"love wake dad scream\",\n          \"pandemonium Aba Woman deliver Baby Face Photos http://t.co/c5u9qshhnb\"\n        ],\n        \"semantic_type\": \"\",\n        \"description\": \"\"\n      }\n    },\n    {\n      \"column\": \"vector\",\n      \"properties\": {\n        \"dtype\": \"object\",\n        \"semantic_type\": \"\",\n        \"description\": \"\"\n      }\n    }\n  ]\n}"
            }
          },
          "metadata": {},
          "execution_count": 27
        }
      ]
    },
    {
      "cell_type": "code",
      "source": [
        "#preprocess the text through en_core_web_lg so that it includes word embeddings\n",
        "nlp = spacy.load(\"en_core_web_lg\")\n",
        "def preprocess_and_vectorize(text):\n",
        "  filtered_tokens = preprocess(text)\n",
        "  #print(filtered_tokens)\n",
        "  return wv.get_mean_vector(filtered_tokens.split(' ')) #used .split since we need the list with each word as a string element"
      ],
      "metadata": {
        "id": "khA9T9cu2hz9"
      },
      "execution_count": 38,
      "outputs": []
    },
    {
      "cell_type": "code",
      "source": [
        "preprocess_and_vectorize(df_train.text[0])"
      ],
      "metadata": {
        "colab": {
          "base_uri": "https://localhost:8080/"
        },
        "id": "tG7bIgQj33by",
        "outputId": "34753d3e-f15f-4570-cfcf-8820239c2c2d"
      },
      "execution_count": 35,
      "outputs": [
        {
          "output_type": "stream",
          "name": "stdout",
          "text": [
            "deed reason earthquake ALLAH forgive\n"
          ]
        },
        {
          "output_type": "execute_result",
          "data": {
            "text/plain": [
              "array([ 6.52188659e-02,  1.15682259e-01, -2.43483111e-03,  3.83654125e-02,\n",
              "       -7.81096071e-02,  5.51525056e-02,  7.45704472e-02, -8.05256888e-02,\n",
              "       -6.99309707e-02,  2.48673931e-02,  3.26804537e-03, -6.71479106e-02,\n",
              "       -5.70622981e-01, -8.93258899e-02,  2.31612846e-03,  9.98653769e-02,\n",
              "        4.58067209e-02,  7.06321970e-02,  3.90785933e-02, -7.53571689e-02,\n",
              "        4.25346605e-02,  6.77691549e-02,  8.78870487e-05,  8.78601372e-02,\n",
              "        1.08209208e-01,  1.21982954e-01,  3.18823010e-03,  1.17184483e-02,\n",
              "        3.95699926e-02,  3.99554744e-02, -1.65850669e-02,  7.42356852e-03,\n",
              "        7.67733753e-02, -5.17295338e-02,  2.21132487e-02,  6.59877062e-02,\n",
              "       -1.06312037e-01, -2.58806460e-02,  1.04271630e-02, -5.48203476e-02,\n",
              "        8.24308395e-03,  5.72562218e-04,  8.64937901e-02, -4.65951711e-02,\n",
              "       -5.55786863e-02, -6.66726902e-02,  3.12515944e-02, -1.26918405e-03,\n",
              "        4.64003570e-02,  1.51862249e-01], dtype=float32)"
            ]
          },
          "metadata": {},
          "execution_count": 35
        }
      ]
    },
    {
      "cell_type": "code",
      "source": [
        "df_train['gensim_vector'] = df_train['text'].apply(lambda text: preprocess_and_vectorize(text))"
      ],
      "metadata": {
        "collapsed": true,
        "id": "-l5GCqjN6Q34"
      },
      "execution_count": 39,
      "outputs": []
    },
    {
      "cell_type": "code",
      "source": [
        "from sklearn.model_selection import train_test_split\n",
        "\n",
        "x_train, x_test, y_train, y_test = train_test_split(df_train[\"gensim_vector\"].values, df_train[\"target\"], test_size=0.2, random_state=2022, stratify=df_train[\"target\"])"
      ],
      "metadata": {
        "id": "lOLzstek6_gH"
      },
      "execution_count": 40,
      "outputs": []
    },
    {
      "cell_type": "code",
      "source": [
        "x_train_2d = np.stack(x_train)\n",
        "x_test_2d = np.stack(x_test)"
      ],
      "metadata": {
        "id": "wm5BUcy97XUw"
      },
      "execution_count": 42,
      "outputs": []
    },
    {
      "cell_type": "code",
      "source": [
        "x_train_2d[:2]#flattened sample"
      ],
      "metadata": {
        "colab": {
          "base_uri": "https://localhost:8080/"
        },
        "id": "iQ8aeZnI7lgz",
        "outputId": "2c062a75-60a7-45de-bec1-ec5793bdee9f"
      },
      "execution_count": 44,
      "outputs": [
        {
          "output_type": "execute_result",
          "data": {
            "text/plain": [
              "array([[-3.87765393e-02,  8.47177207e-02, -5.11571355e-02,\n",
              "         4.42314260e-02, -5.37176803e-02, -3.96499820e-02,\n",
              "        -5.52360788e-02, -2.31958814e-02,  8.18864722e-03,\n",
              "        -1.67825669e-01,  1.53111639e-02,  5.00255227e-02,\n",
              "        -2.88256347e-01,  4.22041118e-02,  1.34411722e-01,\n",
              "         6.31340127e-03,  1.95900258e-02,  4.80907373e-02,\n",
              "         6.10472076e-02, -3.06147034e-03, -4.66695726e-02,\n",
              "         3.71669754e-02, -6.08766787e-02, -9.94098857e-02,\n",
              "        -1.14903495e-01,  1.43331602e-01,  6.02940395e-02,\n",
              "         4.98709094e-04,  8.40000995e-03,  5.76666594e-02,\n",
              "         1.04669556e-01, -1.08053433e-02,  4.91992980e-02,\n",
              "        -1.24031916e-01,  5.23034632e-02, -5.11209145e-02,\n",
              "         3.19463201e-02, -5.39161265e-04,  2.16923952e-02,\n",
              "        -7.36937970e-02,  2.95985881e-02,  8.02823901e-02,\n",
              "         4.60351035e-02, -2.09665429e-02,  5.41024515e-03,\n",
              "         5.87697849e-02, -3.07617448e-02, -6.61654323e-02,\n",
              "        -7.52645719e-04,  1.00365862e-01],\n",
              "       [-1.07867867e-02,  6.10755272e-02, -7.05221668e-02,\n",
              "         4.77542058e-02,  1.39041990e-01,  3.80683355e-02,\n",
              "         2.00457238e-02, -3.82661223e-02,  5.56470640e-02,\n",
              "        -7.61948302e-02,  7.71276802e-02, -1.30527571e-01,\n",
              "        -5.31737089e-01,  1.20422766e-01,  9.79399383e-02,\n",
              "         7.51193240e-02, -3.56095172e-02,  1.57064423e-01,\n",
              "         6.26471192e-02, -4.53158244e-02, -2.32793204e-02,\n",
              "        -2.64247954e-02, -5.34634218e-02,  1.25702411e-01,\n",
              "        -4.98251989e-02,  2.03336596e-01,  6.22012168e-02,\n",
              "         2.35647693e-01, -6.30751848e-02,  1.74263716e-02,\n",
              "         7.82662928e-02, -1.09457701e-01,  4.25698608e-02,\n",
              "        -3.23992446e-02,  1.11941993e-01,  4.86922786e-02,\n",
              "        -1.39735088e-01,  4.04890962e-02,  7.45278969e-02,\n",
              "        -5.32995649e-02,  1.39125818e-02, -9.64276418e-02,\n",
              "         9.59151685e-02, -7.59365261e-02, -1.16107920e-02,\n",
              "         2.15598568e-03, -1.51014868e-02,  9.29137319e-02,\n",
              "        -3.79564650e-02,  5.32936752e-02]], dtype=float32)"
            ]
          },
          "metadata": {},
          "execution_count": 44
        }
      ]
    },
    {
      "cell_type": "code",
      "source": [
        "from sklearn.ensemble import GradientBoostingClassifier\n",
        "from sklearn.metrics import classification_report\n",
        "\n",
        "clf = GradientBoostingClassifier()\n",
        "clf.fit(x_train_2d, y_train)\n",
        "\n",
        "y_pred = clf.predict(x_test_2d)\n",
        "print(classification_report(y_test, y_pred))"
      ],
      "metadata": {
        "colab": {
          "base_uri": "https://localhost:8080/"
        },
        "id": "3FYdXaAB7uSY",
        "outputId": "111fc37e-f026-41c2-ebb2-baacf9740d22"
      },
      "execution_count": 45,
      "outputs": [
        {
          "output_type": "stream",
          "name": "stdout",
          "text": [
            "              precision    recall  f1-score   support\n",
            "\n",
            "           0       0.77      0.84      0.80       869\n",
            "           1       0.76      0.67      0.71       654\n",
            "\n",
            "    accuracy                           0.77      1523\n",
            "   macro avg       0.76      0.76      0.76      1523\n",
            "weighted avg       0.77      0.77      0.76      1523\n",
            "\n"
          ]
        }
      ]
    },
    {
      "cell_type": "markdown",
      "source": [
        "FastText"
      ],
      "metadata": {
        "id": "yeNRfHoMlQvQ"
      }
    },
    {
      "cell_type": "code",
      "source": [],
      "metadata": {
        "id": "PkE7c9hu8H5t"
      },
      "execution_count": null,
      "outputs": []
    }
  ]
}